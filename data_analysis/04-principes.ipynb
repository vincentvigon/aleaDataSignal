{
 "cells": [
  {
   "cell_type": "markdown",
   "metadata": {},
   "source": [
    "# Grands principes de l'apprentissage"
   ]
  },
  {
   "cell_type": "markdown",
   "metadata": {},
   "source": [
    "Ceci est un extrait du chapitre 1 du livre d'Aurélien Géron: \"Hands-On Machine Learning with Scikit-Learn and TensorFlow\". Disponible sur amazon (en anglais et en français) pour un tout petit prix. Et [ici](https://github.com/ageron/handson-ml) se trouve le projet github correspondant. \n",
    "\n",
    "\n",
    "## What and why\n",
    "\n",
    "\n",
    "### What Is Machine Learning?\n",
    "\n",
    "\n",
    "Machine Learning is the art of programming computers so they can learn from data. For example, your spam filter is a Machine Learning program that can learn to flag spam given examples of spam emails (e.g., flagged by users) and examples of regular (nonspam, also called “ham”) emails. \n"
   ]
  },
  {
   "cell_type": "markdown",
   "metadata": {},
   "source": [
    "### Why Use Machine Learning?\n",
    "\n",
    "Consider how you would write a spam filter using traditional programming techniques: \n",
    "\n",
    "* 1/ First you would look at what spam typically looks like. You might notice that some words or phrases (such as “4U,” “credit card,” “free,” and “amazing”) tend to come up a lot in the subject. Perhaps you would also notice a few other patterns in the sender’s name, the email’s body, and so on.\n",
    "* 2/ You would write a detection algorithm for each of the patterns that you noticed, and your program would flag emails as spam if a number of these patterns are detected.\n",
    "* 2/ You would test your program, and repeat steps 1 and 2 until it is good enough. \n",
    "\n",
    "Since the problem is not trivial, your program will likely become a long list of complex rules — pretty hard to maintain.\n",
    "\n",
    "|traditional approach |  machine learning approach|\n",
    "|:--- | :--- |\n",
    "| ![trad-approach](img/trad-approach.png)  | ![ml-approach](img/ml-approach.png) |\n",
    "\n",
    " \n",
    "In contrast, a spam filter based on Machine Learning techniques automatically learns which words and phrases are good predictors of spam by detecting unusually frequent patterns of words in the spam examples compared to the ham examples. The program is much shorter, easier to maintain, and most likely more accurate. \n",
    "\n",
    "Another area where Machine Learning shines is for problems that either are too complex for traditional approaches or have no known algorithm. For example, consider speech recognition: say you want to start simple and write a program capable of distinguishing the words “one” and “two.” You might notice that the word “two” starts with a high-pitch sound (“T”), so you could hardcode an algorithm that measures high-pitch sound intensity and use that to distinguish ones and twos. Obviously this technique will not scale to thousands of words spoken by millions of very different people in noisy environments and in dozens of languages. The best solution (at least today) is to write an algorithm that learns by itself, given many example  recordings for each word.\n",
    "\n",
    "Finally, Machine Learning can help humans learn (Figure 1-4): ML algorithms can be inspected to see what they have learned (although for some algorithms this can be tricky). For instance, once the spam filter has been trained on enough spam, it can easily be inspected to reveal the list of words and combinations of words that it believes are the best predictors of spam. Sometimes this will reveal unsuspected correlations or new trends, and thereby lead to a better understanding of the problem.\n",
    "Applying ML techniques to dig into large amounts of data can help discover patterns that were not immediately apparent. This is called data mining. \n",
    "\n",
    "\n",
    "\n",
    "To summarize, Machine Learning is great for:\n",
    "\n",
    "* Problems for which existing solutions require a lot of hand-tuning or long lists of rules: one Machine Learning algorithm can often simplify code and perform better.\n",
    "* Complex problems for which there is no good solution at all using a traditional approach: the best Machine Learning techniques can find a solution. \n",
    "* Fluctuating environments: a Machine Learning system can adapt to new data.\n",
    "* Getting insights about complex problems and large amounts of data. "
   ]
  },
  {
   "cell_type": "markdown",
   "metadata": {},
   "source": [
    "### Types of Machine Learning Systems\n",
    "\n",
    "There are so many different types of Machine Learning systems that it is useful to classify them in broad categories based on:\n",
    "\n",
    "* Whether or not they are trained with human supervision (supervised, unsupervised, semisupervised, and Reinforcement Learning)\n",
    "* Whether or not they can learn incrementally on the fly (online versus batch learning)\n",
    "* Whether they work by simply comparing new data points to known data points, or instead detect patterns in the training data and build a predictive model, much like scientists do (instance-based versus model-based learning)\n",
    "\n",
    "These criteria are not exclusive; you can combine them in any way you like. For example, a state-of-the-art spam filter may learn on the fly using a deep neural network model trained  using examples of spam and ham; this makes it an online, model-based, supervised learning system.\n",
    "\n",
    "Let’s look at each of these criteria a bit more closely. \n"
   ]
  },
  {
   "cell_type": "markdown",
   "metadata": {},
   "source": [
    "## Supervised/Unsupervised Learning\n",
    "\n",
    "Machine Learning systems can be classified according to the amount and type of supervision they get during training. There are four major categories: supervised learning, unsupervised learning, semisupervised learning, and Reinforcement Learning.\n",
    "\n",
    "### Supervised learning\n",
    "\n",
    "In supervised learning, the training data you feed to the algorithm includes the desired solutions, called labels. « A typical supervised learning task is **classification**. The spam filter is a good example of this: it is trained with many example emails along with their class (spam or ham), and it must learn  how to classify new emails.\n",
    "\n",
    "Another typical task is to predict a target numeric value, such as the price of a car, given a set of features (mileage, age, brand, etc.) called predictors. This sort of task is called **regression** (Figure 1-6).1 To train the system, you need to give it many examples of cars, including both their predictors and their labels (i.e., their prices). \n",
    "\n",
    "|classification example |  regression example|\n",
    "|:--- | :--- |\n",
    "| ![classification](img/classification-intro.png)  | ![regression](img/regression-intro.png) |\n",
    "\n",
    "\n",
    "\n",
    "***Vocabulary, attribute or feature:*** In Machine Learning an attribute is a data type (e.g., “Mileage”), while a feature has several meanings depending on the context, but generally means an attribute plus its value (e.g., “Mileage = 15,000”). Many people use the words attribute and feature interchangeably, though.\n",
    "\n",
    "\n",
    "\n",
    "Note that some regression algorithms can be used for classification as well, and vice versa. For example, Logistic Regression is commonly used for classification because it output a value that corresponds to the probability of belonging to a given class (e.g., 20% chance of being spam).\n",
    "\n",
    "\n",
    "Here are some of the most important supervised learning algorithms:\n",
    "\n",
    "* k-Nearest Neighbors\n",
    "* Linear Regression\n",
    "* Logistic Regression\n",
    "* Support Vector Machines (SVMs)\n",
    "* Decision Trees and Random Forests\n",
    "* Neural networks\n",
    "\n",
    "\n"
   ]
  },
  {
   "cell_type": "markdown",
   "metadata": {},
   "source": [
    "###  Unsupervised learning\n",
    "\n",
    "In unsupervised learning, as you might guess, the training data is unlabeled (Figure 1-7). The system tries to learn without a teacher. Here are some of the most important unsupervised learning algorithms):\n",
    "\n",
    "* Clustering\n",
    "    * k-Means\n",
    "    * Hierarchical Cluster Analysis (HCA)\n",
    "    * Expectation Maximization\n",
    "* Visualization and dimensionality reduction\n",
    "    * Principal Component Analysis (PCA)\n",
    "    * Kernel PCA\n",
    "    * Locally-Linear Embedding (LLE)\n",
    "    * t-distributed Stochastic Neighbor Embedding (t-SNE)\n",
    "* Association rule learning \n",
    "    * Apriori\n",
    "    * Eclat\n",
    "    \n",
    "For example, say you have a lot of data about your blog’s visitors. You may want to run a clustering algorithm to try to detect groups of similar visitors (Figure 1-8). At no point do you tell the algorithm which group a visitor belongs to: it finds those connections without your help. For example, it might notice that 40% of your visitors are males who love comic books and generally read your blog in the evening, while 20% are young sci-fi lovers who visit during the weekends, and so on. If you use a hierarchical clustering algorithm, it may also subdivide each group into smaller groups. This may help you target your posts for each group.\n",
    "\n",
    "![clustering](img/clustering-intro.png)\n",
    "\n",
    "\n",
    "Visualization algorithms are also good examples of unsupervised learning algorithms: you feed them a lot of complex and unlabeled data, and they output a 2D or 3D representation of your data that can easily be plotted (Figure 1-9). These algorithms try to preserve as much structure as they can (e.g., trying to keep separate clusters in the input space from overlapping in the visualization), so you can understand how the data is organized and perhaps identify unsuspected patterns. \n",
    "\n",
    "\n",
    "A related task is dimensionality reduction, in which the goal is to simplify the data without losing too much information. One way to do this is to merge several correlated features into one. For example, a car’s mileage may be very correlated with its age, so the dimensionality reduction algorithm will merge them into one feature that represents the car’s wear and tear. This is called feature extraction. \n",
    "\n",
    "\n",
    "***TIP:*** It is often a good idea to try to reduce the dimension of your training data using a dimensionality reduction algorithm before you feed it to another Machine Learning algorithm (such as a supervised learning algorithm). It will run much faster, the data will take up less disk and memory space, and in some cases it may also perform better.\n",
    "Yet another important unsupervised task is anomaly detection — for example, detecting unusual credit card transactions to prevent fraud, catching manufacturing defects, or automatically removing outliers from a dataset before feeding it to another learning algorithm. The system is trained with normal instances, and when it sees a new instance it can tell whether it looks like a normal one or whether it is likely an anomaly "
   ]
  },
  {
   "cell_type": "markdown",
   "metadata": {},
   "source": [
    "###  Semisupervised learning\n",
    "\n",
    "Some algorithms can deal with partially labeled training data, usually a lot of unlabeled data and a little bit of labeled data. This is called semisupervised learning. Some photo-hosting services, such as Google Photos, are good examples of this. Once you upload all your family photos to the service, it automatically recognizes that the same person A shows up in photos 1, 5, and 11, while another person B shows up in photos 2, 5, and 7. This is the unsupervised part of the algorithm (clustering). Now all the system needs is for you to tell it who these people are. Just one label per person,4 and it is able to name everyone in every photo, which is useful for searching photos. \n"
   ]
  },
  {
   "cell_type": "markdown",
   "metadata": {},
   "source": [
    "### Reinforcement Learning\n",
    "\n",
    "Reinforcement Learning is a very different beast. The learning system, called an agent in this context, can observe the environment, select and perform actions, and get rewards in return (or penalties in the form of negative rewards). It must then learn by itself what is the best strategy, called a policy, to get the most reward over time. A policy defines what action the agent should choose when it is in a given situation.  For example, many robots implement Reinforcement Learning algorithms to learn how to walk. DeepMind’s AlphaGo program is also a good example of Reinforcement Learning: it made the headlines in March 2016 when it beat the world champion Lee Sedol at the game of Go. It learned its winning policy by analyzing millions of games, and then playing many games against itself. Note that learning was turned off during the games against the champion; AlphaGo was just applying the policy it had learned."
   ]
  },
  {
   "cell_type": "markdown",
   "metadata": {},
   "source": [
    "## Batch and Online Learning\n",
    "\n",
    "### Batch learning\n",
    "In batch learning, the system is incapable of learning incrementally: it must be trained using all the available data. This will generally take a lot of time and computing resources, so it is typically done offline. First the system is trained, and then it is launched into production and runs without learning anymore; it just applies what it has learned. This is called offline learning.\n",
    "If you want a batch learning system to know about new data (such as a new type of spam), you need to train a new version of the system from scratch on the full dataset (not just the new data, but also the old data), then stop the old system and replace it with the new one. "
   ]
  },
  {
   "cell_type": "markdown",
   "metadata": {},
   "source": [
    "### Online learning\n",
    "\n",
    "In online learning, you train the system incrementally by feeding it data instances sequentially, either individually or by small groups called mini-batches. Each learning step is fast and cheap, so the system can learn about new data on the fly, as it arrives   A big challenge with online learning is that if bad data is fed to the system, the system’s performance will gradually decline. If  we are talking about a live system, your clients will notice. For example, bad data could come from a malfunctioning sensor on a robot, or from someone spamming a search engine to try to rank high in search results. To reduce this risk, you need to monitor your system closely and promptly switch learning off (and possibly revert to a previously working state) if you detect a drop in performance. You may also want to monitor the input data and react to abnormal data (e.g., using an anomaly detection algorithm).\n"
   ]
  },
  {
   "cell_type": "markdown",
   "metadata": {},
   "source": [
    "## Instance-Based Versus Model-Based Learning\n",
    "\n",
    "One more way to categorize Machine Learning systems is by how they generalize. Most Machine Learning tasks are about making predictions. This means that given a number of training examples, the system needs to be able to generalize to examples it has never seen before. Having a good performance measure on the training data is good, but insufficient; the true goal is to perform well on new instances.\n",
    "There are two main approaches to generalization: instance-based learning and model-based learning.\n",
    "\n",
    "\n",
    "\n",
    "|Instance-based learning |  Model-based learning|\n",
    "|:--- | :--- |\n",
    "| ![instance-based](img/instance-based.png)  | ![model-based](img/model-based.png) |\n",
    "\n",
    "\n",
    "\n",
    "### Instance-based learning\n",
    "\n",
    "Your spam filter could be programmed to flag  emails that are very similar to known spam emails. This requires a measure of similarity between two emails. A (very basic) similarity measure between two emails could be to count the number of words they have in common. The system would flag an email as spam if it has many words in common with a known spam email. This is called instance-based learning: the system learns the examples by heart, then generalizes to new cases using a similarity measure. "
   ]
  },
  {
   "cell_type": "markdown",
   "metadata": {},
   "source": [
    "### Model-based learning\n",
    "\n",
    "Another way to generalize from a set of examples is to build a model of these examples, then use that model to make predictions. For example, suppose you want to know if money makes people happy: let's developp a model on the next section"
   ]
  },
  {
   "cell_type": "markdown",
   "metadata": {},
   "source": [
    "## Does money make happiness\n",
    "\n",
    "Now we want to know if money makes people happy, so we download the [Better Life Index](https://stats.oecd.org/index.aspx?DataSetCode=BLI) data from OECD (Organisation for Economic Co-operation and Development) as well as stats about [GDP per capita]( http://goo.gl/j1MSKe) from the IMF (International Monetary Found).\n",
    "\n",
    "### Observe data"
   ]
  },
  {
   "cell_type": "code",
   "execution_count": 1,
   "metadata": {},
   "outputs": [],
   "source": [
    "import pandas as pd\n",
    "import numpy as np\n",
    "import matplotlib.pyplot as plt\n",
    "\n",
    "# Ignore useless warnings (see SciPy issue #5998)\n",
    "import warnings\n",
    "warnings.filterwarnings(action=\"ignore\", module=\"scipy\", message=\"^internal gelsd\")"
   ]
  },
  {
   "cell_type": "code",
   "execution_count": 15,
   "metadata": {},
   "outputs": [
    {
     "name": "stdout",
     "output_type": "stream",
     "text": [
      "x_sample.shape: (29,)\n",
      "X_sample_ext.shape (29, 2)\n",
      "y_sample.shape (29,)\n"
     ]
    }
   ],
   "source": [
    "\n",
    "def load_all_data():\n",
    "    df_full=pd.read_csv(\"img/df_full.csv\")\n",
    "    df_full.set_index(\"Country\",inplace=True)\n",
    "    \n",
    "    df_sample=pd.read_csv(\"img/df_sample.csv\")\n",
    "    df_sample.set_index(\"Country\",inplace=True)\n",
    "    \n",
    "    df_missing=pd.read_csv(\"img/df_missing.csv\")\n",
    "    df_missing.set_index(\"Country\",inplace=True)\n",
    "    \n",
    "    return df_full,df_sample,df_missing\n",
    "\n",
    "_,df_sample,_=load_all_data()\n",
    "\n",
    "\"numpy extraction\"\n",
    "x_sample=df_sample[\"GDP per capita\"]\n",
    "X_sample_ext= np.stack([np.ones_like(x_sample),x_sample],axis=1) \n",
    "y_sample = df_sample[\"Life satisfaction\"].values\n",
    "print(\"x_sample.shape:\",x_sample.shape)\n",
    "print(\"X_sample_ext.shape\",X_sample_ext.shape)\n",
    "print(\"y_sample.shape\",y_sample.shape)\n",
    "\n",
    "\n",
    "\n",
    "\n",
    "\n",
    "\n",
    "\"some very simple test data: points regularly spaced on a given interval\"\n",
    "xlim=60000\n",
    "x_test=np.linspace(0, xlim, 1000)"
   ]
  },
  {
   "cell_type": "code",
   "execution_count": 16,
   "metadata": {},
   "outputs": [
    {
     "data": {
      "image/png": "[encoded data removed]",
      "text/plain": [
       "<Figure size 432x288 with 1 Axes>"
      ]
     },
     "metadata": {},
     "output_type": "display_data"
    }
   ],
   "source": [
    "plt.plot(x_sample,y_sample,\".\")\n",
    "plt.xlabel(\"GDP per capita\")\n",
    "plt.ylabel(\"Life satisfaction\")\n",
    "plt.xlim(0, xlim)\n",
    "plt.ylim(0,10)\n",
    "\n",
    "#variante en utilisant le plot de pandas\n",
    "#df_sample.plot(kind='scatter', x=\"GDP per capita\", y='Life satisfaction', figsize=(8,4))\n",
    "\n",
    "\n",
    "position_text = {\n",
    "    \"Hungary\": (5000, 1),\n",
    "    \"Korea\": (18000, 1.7),\n",
    "    \"France\": (29000, 2.4),\n",
    "    \"Australia\": (40000, 3.0),\n",
    "    \"United States\": (52000, 3.8),\n",
    "}\n",
    "for country, pos_text in position_text.items():\n",
    "    pos_data_x, pos_data_y = df_sample.loc[country]\n",
    "    country = \"U.S.\" if country == \"United States\" else country\n",
    "    plt.annotate(country, xy=(pos_data_x, pos_data_y), xytext=pos_text, arrowprops=dict(facecolor='black', width=0.5, shrink=0.1, headwidth=5))\n",
    "    plt.plot(pos_data_x, pos_data_y, \"ro\")"
   ]
  },
  {
   "cell_type": "markdown",
   "metadata": {},
   "source": [
    "« There does seem to be a trend here! Although the data is noisy (i.e., partly random), it looks like life satisfaction goes up more or less linearly as the country’s GDP per capita increases. So you decide to model life satisfaction as a linear function of GDP per capita. This step is called model selection: you selected a linear model of life satisfaction with just one attribute, GDP per capita:\n",
    "$$\n",
    "\\text{Life_statisfaction} = w_0 + w_1 \\text{GDP_per_capita}+ \\text{Bruit}\n",
    "$$"
   ]
  },
  {
   "cell_type": "markdown",
   "metadata": {},
   "source": [
    "### Fit model"
   ]
  },
  {
   "cell_type": "code",
   "execution_count": 17,
   "metadata": {},
   "outputs": [
    {
     "name": "stdout",
     "output_type": "stream",
     "text": [
      "w0:4.85 , w1:4.91E-05\n"
     ]
    },
    {
     "data": {
      "image/png": "[encoded data removed]",
      "text/plain": [
       "<Figure size 432x288 with 1 Axes>"
      ]
     },
     "metadata": {},
     "output_type": "display_data"
    }
   ],
   "source": [
    "from sklearn import linear_model\n",
    "\n",
    "model_lin_sample = linear_model.LinearRegression(fit_intercept=False)\n",
    "model_lin_sample.fit(X_sample_ext, y_sample)\n",
    "w0, w1=model_lin_sample.coef_[0],model_lin_sample.coef_[1]\n",
    "print(\"w0:%.2f\"%w0,\", w1:%.2E\"%w1)\n",
    "\n",
    "plt.plot(x_sample,y_sample,\".\")\n",
    "plt.xlabel(\"GDP per capita\")\n",
    "plt.ylabel(\"Life satisfaction\")\n",
    "plt.xlim(0, xlim)\n",
    "plt.ylim(0,10)\n",
    "\n",
    "plt.plot(x_test, w0 + w1*x_test, \"b\")\n",
    "\n",
    "plt.text(5000, 3.1, r\"$w_0=$\"+\"%.2f\"%w0, fontsize=14, color=\"b\")\n",
    "plt.text(5000, 2.2, r\"$w_1=$\"+\"%.2E\"%w1, fontsize=14, color=\"b\");"
   ]
  },
  {
   "cell_type": "code",
   "execution_count": 18,
   "metadata": {},
   "outputs": [
    {
     "data": {
      "image/png": "[encoded data removed]",
      "text/plain": [
       "<Figure size 432x288 with 1 Axes>"
      ]
     },
     "metadata": {},
     "output_type": "display_data"
    }
   ],
   "source": [
    "plt.plot(x_sample,y_sample,\".\")\n",
    "plt.xlabel(\"GDP per capita\")\n",
    "plt.ylabel(\"Life satisfaction\")\n",
    "plt.xlim(0, xlim)\n",
    "plt.ylim(0,10)\n",
    "\n",
    "plt.plot(x_test, w0 + w1*x_test, \"b\")\n",
    "\n",
    "plt.text(5000, 3.1, r\"$w_0=$\"+\"%.2f\"%w0, fontsize=14, color=\"b\")\n",
    "plt.text(5000, 2.2, r\"$w_1=$\"+\"%.2E\"%w1, fontsize=14, color=\"b\");"
   ]
  },
  {
   "cell_type": "markdown",
   "metadata": {},
   "source": [
    "Now the model fits the training data as closely as possible (for a linear model). "
   ]
  },
  {
   "cell_type": "markdown",
   "metadata": {},
   "source": [
    "### Prediction\n",
    "\n",
    "You are finally ready to run the model to make predictions. For example, say you want to know how happy Cypriots are, and the OECD data does not have the answer. Fortunately, you can  use your model to make a good prediction: you look up Cyprus’s GDP per capita, find \\$22,587, and then apply your model and find that life satisfaction.\n"
   ]
  },
  {
   "cell_type": "code",
   "execution_count": 19,
   "metadata": {},
   "outputs": [
    {
     "name": "stdout",
     "output_type": "stream",
     "text": [
      "cyprus gdp per capita: 22587\n",
      "prediction of cyprus life satisfaction: [5.96242338]\n"
     ]
    }
   ],
   "source": [
    "cyprus_gdp = 22587\n",
    "print(\"cyprus gdp per capita:\",cyprus_gdp)\n",
    "cyprus_life_hat = model_lin_sample.predict([[1,cyprus_gdp]])\n",
    "print(\"prediction of cyprus life satisfaction:\",cyprus_life_hat)"
   ]
  },
  {
   "cell_type": "markdown",
   "metadata": {},
   "source": [
    "***A vous:*** Retrouvez $(2\\heartsuit)$ la valeur prédite sans utiliser la méthode `.predict()` mais en utilisant direcement `w0` et `w1`."
   ]
  },
  {
   "cell_type": "code",
   "execution_count": 20,
   "metadata": {},
   "outputs": [
    {
     "data": {
      "image/png": "[encoded data removed]",
      "text/plain": [
       "<Figure size 432x288 with 1 Axes>"
      ]
     },
     "metadata": {},
     "output_type": "display_data"
    }
   ],
   "source": [
    "plt.plot(x_sample,y_sample,\".\")\n",
    "plt.xlabel(\"GDP per capita\")\n",
    "plt.ylabel(\"Life satisfaction\")\n",
    "plt.xlim(0, xlim)\n",
    "plt.ylim(0,10)\n",
    "\n",
    "a=np.linspace(0, xlim, 1000)\n",
    "plt.plot(a, w0 + w1*a, \"b\")\n",
    "\n",
    "plt.title(\"prediction of cyprus life satisfaction\",color=\"r\")\n",
    "plt.plot([cyprus_gdp, cyprus_gdp], [0, cyprus_life_hat], \"r--\")\n",
    "plt.text(25000, 5.0, \"Prediction=%.2f\"%cyprus_life_hat, fontsize=14, color=\"b\")\n",
    "plt.plot(cyprus_gdp, cyprus_life_hat, \"ro\");"
   ]
  },
  {
   "cell_type": "markdown",
   "metadata": {},
   "source": [
    "***A vous:***  Calculez $(2\\heartsuit)$ la prédiction donnerait l'algo des 3 plus proches voisins (instance-based). Il faut simplement répérer les 4 pays les plus proches de Chipre et moyenner leur `life_satisfaction`. Aide: utilisez `sort_values()`. Faites $(+2\\diamondsuit)$ en sorte que votre procédure soit automatique (=qu'elle utilise pas la lecture humaine d'un tableau)."
   ]
  },
  {
   "cell_type": "markdown",
   "metadata": {},
   "source": [
    "If all went well, our model will make good predictions. If not, we may need to use more attributes (employment rate, health, air pollution, etc.), get more or better quality training data, or perhaps select a more powerful model (e.g., a Polynomial « Regression model).\n",
    "\n",
    "In summary:\n",
    "\n",
    "* We studied the data.\n",
    "* We selected a model.\n",
    "* We trained it on the training data (i.e., the learning algorithm searched for the model parameter values that minimize a cost function).\n",
    "* Finally, we applied the model to make predictions on new cases (this is called inference), hoping that this model will generalize well.\n",
    "\n",
    "This is what a typical Machine Learning project looks like. "
   ]
  },
  {
   "cell_type": "markdown",
   "metadata": {},
   "source": [
    "##  Main Challenges of Machine Learning"
   ]
  },
  {
   "cell_type": "markdown",
   "metadata": {},
   "source": [
    "###  Insufficient Quantity of Training Data\n",
    "\n",
    "For a toddler to learn what an apple is, all it takes is for you to point to an apple and say “apple” (possibly repeating this procedure a few times). Now the child is able to recognize apples in all sorts of colors and shapes. Genius.\n",
    "Machine Learning is not quite there yet; it takes a lot of data for most Machine Learning algorithms to work properly. Even for very simple problems you typically need thousands of examples, and for complex problems such as image or speech recognition you may need millions of examples (unless you can reuse parts of an existing model). \n",
    "\n",
    "\n",
    "###  The unreasonable effetiveness of data\n",
    "\n",
    "In a famous paper published in 2001, Microsoft researchers Michele Banko and Eric Brill showed that very different Machine Learning algorithms, including fairly simple ones, performed almost identically well on a complex problem of natural language disambiguation8 once they were given enough data. As the authors put it: “these results suggest that we may want to reconsider the trade-off between spending time and money on algorithm development versus spending it on corpus development.  The idea that data matters more than algorithms for complex problems was further popularized by Peter Norvig et al. in a paper titled “The Unreasonable Effectiveness of Data” published in 2009.10 It should be  noted, however, that small- and medium-sized datasets are still very common, and it is not always easy or cheap to get extra training data, so don’t abandon algorithms just yet. \n",
    "\n",
    "\n",
    "![unreasonable](img/unreasonable.png)\n"
   ]
  },
  {
   "cell_type": "markdown",
   "metadata": {},
   "source": [
    "### Nonrepresentative Training Data\n",
    "\n",
    "In order to generalize well, it is crucial that your training data be representative of the new cases you want to generalize to. This is true whether you use instance-based learning or model-based learning.\n",
    "For example, the set of countries we used earlier for training the linear model was not perfectly representative; a few countries were missing. "
   ]
  },
  {
   "cell_type": "code",
   "execution_count": 21,
   "metadata": {},
   "outputs": [
    {
     "data": {
      "text/html": [
       "<div>\n",
       "<style scoped>\n",
       "    .dataframe tbody tr th:only-of-type {\n",
       "        vertical-align: middle;\n",
       "    }\n",
       "\n",
       "    .dataframe tbody tr th {\n",
       "        vertical-align: top;\n",
       "    }\n",
       "\n",
       "    .dataframe thead th {\n",
       "        text-align: right;\n",
       "    }\n",
       "</style>\n",
       "<table border=\"1\" class=\"dataframe\">\n",
       "  <thead>\n",
       "    <tr style=\"text-align: right;\">\n",
       "      <th></th>\n",
       "      <th>GDP per capita</th>\n",
       "      <th>Life satisfaction</th>\n",
       "    </tr>\n",
       "    <tr>\n",
       "      <th>Country</th>\n",
       "      <th></th>\n",
       "      <th></th>\n",
       "    </tr>\n",
       "  </thead>\n",
       "  <tbody>\n",
       "    <tr>\n",
       "      <th>Brazil</th>\n",
       "      <td>8669.998</td>\n",
       "      <td>7.0</td>\n",
       "    </tr>\n",
       "    <tr>\n",
       "      <th>Mexico</th>\n",
       "      <td>9009.280</td>\n",
       "      <td>6.7</td>\n",
       "    </tr>\n",
       "    <tr>\n",
       "      <th>Chile</th>\n",
       "      <td>13340.905</td>\n",
       "      <td>6.7</td>\n",
       "    </tr>\n",
       "    <tr>\n",
       "      <th>Czech Republic</th>\n",
       "      <td>17256.918</td>\n",
       "      <td>6.5</td>\n",
       "    </tr>\n",
       "    <tr>\n",
       "      <th>Norway</th>\n",
       "      <td>74822.106</td>\n",
       "      <td>7.4</td>\n",
       "    </tr>\n",
       "    <tr>\n",
       "      <th>Switzerland</th>\n",
       "      <td>80675.308</td>\n",
       "      <td>7.5</td>\n",
       "    </tr>\n",
       "    <tr>\n",
       "      <th>Luxembourg</th>\n",
       "      <td>101994.093</td>\n",
       "      <td>6.9</td>\n",
       "    </tr>\n",
       "  </tbody>\n",
       "</table>\n",
       "</div>"
      ],
      "text/plain": [
       "                GDP per capita  Life satisfaction\n",
       "Country                                          \n",
       "Brazil                8669.998                7.0\n",
       "Mexico                9009.280                6.7\n",
       "Chile                13340.905                6.7\n",
       "Czech Republic       17256.918                6.5\n",
       "Norway               74822.106                7.4\n",
       "Switzerland          80675.308                7.5\n",
       "Luxembourg          101994.093                6.9"
      ]
     },
     "execution_count": 21,
     "metadata": {},
     "output_type": "execute_result"
    }
   ],
   "source": [
    "df_full,df_sample,df_missing=load_all_data()\n",
    "\n",
    "\n",
    "\"numpy extraction\"\n",
    "x_sample = df_sample[\"GDP per capita\"].values\n",
    "X_sample_ext= np.stack([np.ones_like(x_sample),x_sample],axis=1) \n",
    "y_sample = df_sample[\"Life satisfaction\"].values\n",
    "\n",
    "\"numpy extraction\"\n",
    "x_full = df_full[\"GDP per capita\"].values\n",
    "X_full_ext = np.stack([np.ones_like(x_full),x_full],axis=1) \n",
    "y_full = df_full[\"Life satisfaction\"].values\n",
    "\n",
    "\"some very simple test data: points regularly spaced on a given interval\"\n",
    "xlim=110000\n",
    "x_test=np.linspace(0, xlim, 1000)\n",
    "\n",
    "df_missing"
   ]
  },
  {
   "cell_type": "code",
   "execution_count": 22,
   "metadata": {},
   "outputs": [],
   "source": [
    "position_text2 = {\n",
    "    \"Brazil\": (1000, 9.0),\n",
    "    \"Mexico\": (11000, 9.0),\n",
    "    \"Chile\": (25000, 9.0),\n",
    "    \"Czech Republic\": (35000, 9.0),\n",
    "    \"Norway\": (60000, 3),\n",
    "    \"Switzerland\": (72000, 3.0),\n",
    "    \"Luxembourg\": (90000, 3.0),\n",
    "}"
   ]
  },
  {
   "cell_type": "code",
   "execution_count": null,
   "metadata": {},
   "outputs": [],
   "source": []
  },
  {
   "cell_type": "code",
   "execution_count": 23,
   "metadata": {},
   "outputs": [
    {
     "data": {
      "image/png": "[encoded data removed]",
      "text/plain": [
       "<Figure size 576x288 with 1 Axes>"
      ]
     },
     "metadata": {},
     "output_type": "display_data"
    }
   ],
   "source": [
    "plt.figure(figsize=(8,4))\n",
    "plt.plot(x_sample,y_sample,\".\")\n",
    "plt.xlabel(\"GDP per capita\")\n",
    "plt.ylabel(\"Life satisfaction\")\n",
    "plt.xlim(0, xlim)\n",
    "plt.ylim(0,10)\n",
    "\n",
    "for country, pos_text in position_text2.items():\n",
    "    pos_data_x, pos_data_y = df_missing.loc[country]\n",
    "    plt.annotate(country, xy=(pos_data_x, pos_data_y), xytext=pos_text,\n",
    "            arrowprops=dict(facecolor='black', width=0.5, shrink=0.1, headwidth=5))\n",
    "    plt.plot(pos_data_x, pos_data_y, \"rs\")\n",
    "    \n",
    "\n",
    "def fit_and_plot_lin_model(X,y):    \n",
    "    model = linear_model.LinearRegression(fit_intercept=False)\n",
    "    model.fit(X, y)\n",
    "    w0, w1=model.coef_[0],model.coef_[1]\n",
    "    return w0,w1\n",
    "    \n",
    "    \n",
    "w0_sample,w1_sample=fit_and_plot_lin_model(X_sample_ext,y_sample)\n",
    "w0_full,w1_full=fit_and_plot_lin_model(X_full_ext,y_full)\n",
    "\n",
    "plt.plot(x_test, w0_sample + w1_sample*x_test,\":\",label=\"sample data\")\n",
    "plt.plot(x_test, w0_full + w1_full*x_test,label=\"full data\")\n",
    "plt.legend(loc=3);\n",
    "\n"
   ]
  },
  {
   "cell_type": "markdown",
   "metadata": {},
   "source": [
    "As you can see, not only does adding a few missing countries significantly alter the model, but it makes it clear that such a simple linear model is probably never going to work well. It seems that very rich countries are not happier than moderately rich countries (in fact they seem unhappier), and conversely some poor countries seem happier than many rich countries.  By using a nonrepresentative training set, we trained a model that is unlikely to make accurate predictions, especially for very poor and very rich countries.\n",
    "\n",
    "It is crucial to use a training set that is representative of the cases you want to generalize to. This is often harder than it sounds: if the sample is too small, you will have sampling noise (i.e., nonrepresentative data as a result of chance), but even very large samples can be nonrepresentative if the sampling method is flawed. This is called sampling bias.\n",
    "\n",
    "\n",
    "\n",
    "### A famous example of sampling bias\n",
    "\n",
    "Perhaps the most famous example of sampling bias happened during the US presidential election in 1936, which pitted Landon against Roosevelt: the Literary Digest conducted a very large poll, sending mail to about 10 million people. It got 2.4 million answers, and predicted with high confidence that Landon would get 57% of the votes. Instead, Roosevelt won  with 62% of the votes. The flaw was in the Literary Digest’s sampling method:\n",
    "\n",
    "* First, to obtain the addresses to send the polls to, the Literary Digest used telephone directories, lists of magazine subscribers, club membership lists, and the like. All of these lists tend to favor wealthier people, who are more likely to vote Republican (hence Landon).\n",
    "* Second, less than 25% of the people who received the poll answered. Again, this introduces a sampling bias, by ruling out people who don’t care much about politics, people who don’t like the Literary Digest, and other key groups. This is a special type of sampling bias called nonresponse bias. \n",
    "\n",
    "###  Poor-Quality Data\n",
    "\n",
    "Obviously, if your training data is full of errors, outliers, and noise (e.g., due to poor-quality measurements), it will make it harder for the system to detect the underlying patterns, so your system is less likely to perform well. It is often well worth the effort to spend time cleaning up your training data. The truth is, most data scientists spend a significant part of their time doing just that. \n",
    "\n",
    "\n",
    "###  Irrelevant Features\n",
    "\n",
    "As the saying goes: garbage in, garbage out. Your system will only be capable of learning if the training data contains enough relevant features and not too many irrelevant ones. A critical part of the success of a Machine Learning project is coming up with a good set of features to train on. This process, called feature engineering, involves:\n",
    "\n",
    "* Feature selection: selecting the most useful features to train on among existing features.\n",
    "* Feature extraction: combining existing features to produce a more useful one (as we saw earlier, dimensionality reduction algorithms can help).\n",
    "* Creating new features by gathering new data. "
   ]
  },
  {
   "cell_type": "markdown",
   "metadata": {},
   "source": [
    "###  Overfitting the Training Data\n",
    "\n",
    "Say you are visiting a foreign country and the taxi driver rips you off. You might be tempted to say that all taxi drivers in that country are thieves. Overgeneralizing is something that we humans do all too often, and unfortunately machines can fall into the same trap if we are not careful. In Machine Learning this is called overfitting: it means that the model performs well on the training data, but it does not generalize well.\n",
    "\n",
    "Here is  an example of a high-degree polynomial life satisfaction model that strongly overfits the training data. Even though it performs much better on the training data than the simple linear model, would you really trust its predictions?"
   ]
  },
  {
   "cell_type": "code",
   "execution_count": 29,
   "metadata": {},
   "outputs": [
    {
     "data": {
      "image/png": "[encoded data removed]",
      "text/plain": [
       "<Figure size 432x288 with 1 Axes>"
      ]
     },
     "metadata": {},
     "output_type": "display_data"
    }
   ],
   "source": [
    "\"we rename our full-data to make them shorter\"\n",
    "x=x_full\n",
    "X=x[:,np.newaxis]\n",
    "y=y_full\n",
    "\n",
    "\n",
    "plt.plot(x,y,\".\")\n",
    "plt.xlabel(\"GDP per capita\")\n",
    "plt.ylabel(\"Life satisfaction\")\n",
    "plt.xlim(0, xlim)\n",
    "plt.ylim(0,10)\n",
    "\n",
    "from sklearn import preprocessing\n",
    "from sklearn import pipeline\n",
    "\n",
    "poly = preprocessing.PolynomialFeatures(degree=20, include_bias=False)\n",
    "scaler = preprocessing.StandardScaler()\n",
    "lin_reg2 = linear_model.LinearRegression()\n",
    "pipeline_reg = pipeline.Pipeline([('poly', poly), ('scal', scaler),('lin',lin_reg2)])\n",
    "pipeline_reg.fit(X, y) \n",
    "y_test_hat = pipeline_reg.predict(x_test[:,np.newaxis])\n",
    "\n",
    "plt.plot(x_test,y_test_hat);"
   ]
  },
  {
   "cell_type": "markdown",
   "metadata": {},
   "source": [
    "Complex models such as deep neural networks can detect subtle patterns in the data, but if the training set is noisy, or if it is too small (which introduces sampling noise), then the model is likely to detect patterns in the noise itself. Obviously these patterns will not generalize to new instances. For example, say you feed your life satisfaction model many more attributes, including uninformative ones such as the country’s name. In that case, a complex model may detect patterns like the fact that all countries in the training data with a w in their name have a life satisfaction greater than 7: New Zealand (7.3), Norway (7.4), Sweden (7.2), and Switzerland (7.5). How confident are you that the W-satisfaction rule generalizes to Rwanda or Zimbabwe? Obviously this pattern occurred in the training data by pure chance, but the model has no way to tell whether a pattern is real or simply the result of noise in the data."
   ]
  },
  {
   "cell_type": "markdown",
   "metadata": {},
   "source": [
    "## Constraining a model\n",
    "\n",
    "Overfitting happens when the model is too complex relative to the amount and noisiness of the training data. The possible solutions are:\n",
    "\n",
    "* To simplify the model by selecting one with fewer parameters (e.g., a linear model rather than a high-degree polynomial model), by reducing the number of attributes in the training data or by constraining the model\n",
    "* To gather more training data\n",
    "* To reduce the noise in the training data (e.g., fix data errors and remove outliers).\n",
    "\n",
    "\n",
    "Constraining a model to make it simpler and reduce the risk of overfitting is called regularization. For example, the linear model we defined earlier has two parameters, $w_0$ and $w_1$. This gives the  learning algorithm two degrees of freedom to adapt the model to the training data: it can tweak both the height $w_0$ and the slope $w_1$ of the line. If we forced $w_1 = 0$, the algorithm would have only one degree of freedom and would have a much harder time fitting the data properly: all it could do is move the line up or down to get as close as possible to the training instances, so it would end up around the mean. A very simple model indeed!  \n",
    "\n",
    "\n",
    "\n"
   ]
  },
  {
   "cell_type": "markdown",
   "metadata": {},
   "source": [
    "If we allow the algorithm to modify $w_1$ but we force it to keep it small, then the learning algorithm will effectively have somewhere in between one and two degrees of freedom. It will produce a simpler model than with two degrees of freedom, but more complex than with just one. You want to find the right balance between fitting the data perfectly and keeping the model simple enough to ensure that it will generalize well."
   ]
  },
  {
   "cell_type": "code",
   "execution_count": 31,
   "metadata": {},
   "outputs": [
    {
     "data": {
      "image/png": "[encoded data removed]",
      "text/plain": [
       "<Figure size 432x288 with 1 Axes>"
      ]
     },
     "metadata": {},
     "output_type": "display_data"
    }
   ],
   "source": [
    "plt.plot(x,y,\".\")\n",
    "plt.xlabel(\"GDP per capita\")\n",
    "plt.ylabel(\"Life satisfaction\")\n",
    "plt.xlim(0, xlim)\n",
    "plt.ylim(0,10)\n",
    "\n",
    "poly = preprocessing.PolynomialFeatures(degree=20, include_bias=False)\n",
    "scaler = preprocessing.StandardScaler()\n",
    "ridge = linear_model.Ridge(alpha=0.5)\n",
    "pipeline_reg = pipeline.Pipeline([('poly', poly), ('scal', scaler),('lin',ridge)])\n",
    "pipeline_reg.fit(X, y) \n",
    "y_test_hat = pipeline_reg.predict(x_test[:,np.newaxis])\n",
    "\n",
    "plt.plot(x_test,y_test_hat);"
   ]
  },
  {
   "cell_type": "markdown",
   "metadata": {},
   "source": [
    "The amount of regularization to apply during learning can be controlled by a hyperparameter. A hyperparameter is a parameter of a learning algorithm (not of the model). As such, it is not affected by the learning algorithm itself; it must be set prior to training and remains constant during training. If you set the regularization hyperparameter to a very large value, you will get an almost flat model (a slope close to zero); the learning algorithm will almost certainly not overfit the training data, but it will be less likely to find a good solution. Tuning hyperparameters is an important part of building a Machine Learning system  »\n",
    "\n",
    "Extrait de: Aurélien Géron. « Hands-On Machine Learning with Scikit-Learn and TensorFlow: Concepts, Tools, and Techniques to Build Intelligent Systems. » iBooks. "
   ]
  },
  {
   "cell_type": "markdown",
   "metadata": {},
   "source": [
    "###  Underfitting the Training Data\n",
    "\n",
    "As you might guess, underfitting is the opposite of overfitting: it occurs when your model is too simple to learn the underlying structure of the data. For example, a linear model of life satisfaction is prone to underfit; reality is just more complex than the model, so its predictions are bound to be inaccurate, even on the training examples.\n",
    "The main options to fix this problem are:\n",
    "Selecting a more powerful model, with more parameters\n",
    "Feeding better features to the learning algorithm (feature engineering)\n",
    "Reducing the constraints on the model (e.g., reducing the  regularization hyperparameter) "
   ]
  },
  {
   "cell_type": "markdown",
   "metadata": {},
   "source": [
    "##  Stepping Back\n",
    "\n",
    "By now you already know a lot about Machine Learning. However, we went through so many concepts that you may be feeling a little lost, so let’s step back and look at the big picture:\n",
    "\n",
    "* Machine Learning is about making machines get better at some task by learning from data, instead of having to explicitly code rules.\n",
    "* There are many different types of ML systems: supervised or not, batch or online, instance-based or model-based, and so on.\n",
    "* In a ML project you gather data in a training set, and you feed the training set to a learning algorithm. If the algorithm  is model-based it tunes some parameters to fit the model to the training set (i.e., to make good predictions on the training set itself), and then hopefully it will be able to make good predictions on new cases as well. If the algorithm is instance-based, it just learns the examples by heart and uses a similarity measure to generalize to new instances.\n",
    "* The system will not perform well if your training set is too small, or if the data is not representative, noisy, or polluted with irrelevant features (garbage in, garbage out). Lastly, your model needs to be neither too simple (in which case it will underfit) nor too complex (in which case it will overfit).\n",
    "\n",
    "There’s just one last important topic to cover: once you have trained a model, you don’t want to just “hope” it generalizes to  new cases. You want to evaluate it, and fine-tune it if necessary. Let’s see how. "
   ]
  },
  {
   "cell_type": "markdown",
   "metadata": {},
   "source": [
    "##  Testing and Validating\n",
    "\n",
    "The only way to know how well a model will generalize to new cases is to actually try it out on new cases. One way to do that is to put your model in production and monitor how well it performs. This works well, but if your model is horribly bad, your users will complain — not the best idea.\n",
    "A better option is to split your data into two sets: the training set and the test set. As these names imply, you train your model using the training set, and you test it using the test set. The error rate on new cases is called the generalization error (or out-of-sample error), and by evaluating your model on the test set, you get an estimation of this error. This value tells you how well your model will perform on instances it has never seen before.\n",
    "If the training error is low (i.e., your model makes few mistakes on the training set) but the generalization error is high, it   means that your model is overfitting the training data.\n",
    "\n",
    "\n",
    "***TIP:*** It is common to use 80% of the data for training and hold out 20% for testing.\n",
    "\n",
    "So evaluating a model is simple enough: just use a test set. Now suppose you are hesitating between two models (say a linear model and a polynomial model): how can you decide? One option is to train both and compare how well they generalize using the test set.\n",
    "Now suppose that the linear model generalizes better, but you want to apply some regularization to avoid overfitting. The question is: how do you choose the value of the regularization hyperparameter? One option is to train 100 different models using 100 different values for this hyperparameter. Suppose you  find the best hyperparameter value that produces a model with the lowest generalization error, say just 5% error.\n",
    "\n",
    "So you launch this model into production, but unfortunately it does not perform as well as expected and produces 15% errors. What just happened? The problem is that you measured the generalization error multiple times on the test set, and you adapted the model and hyperparameters to produce the best model for that set. This means that the model is unlikely to perform as well on new data.\n",
    "A common solution to this problem is to have a second holdout set called the validation set. You train multiple models with various hyperparameters using the training set, you select the model and hyperparameters that perform best on the validation set, and when you’re happy with your model you run a single final test against the test set to get an estimate of the generalization error.\n",
    "\n",
    "To avoid “wasting” too much training data in validation sets, a common technique is to use cross-validation: the training set is split into complementary subsets, and each model is trained against a different combination of these subsets and validated against the remaining parts.  Once the model type and hyperparameters have been selected, a final model is trained using these hyperparameters on the full training set, and the generalized error is measured on the test set.\n",
    "\n",
    "\n",
    "***NO FREE LUNCH THEOREM:***  A model is a simplified version of the observations. The simplifications are meant to discard the superfluous details that are unlikely to generalize to new instances. However, to decide what data to discard and what data to keep, you must make assumptions. For example, a linear model makes the assumption that the data is fundamentally linear and that the distance between the instances and the straight line is just noise, which can safely   be ignored. In a famous 1996 paper David Wolpert demonstrated that if you make absolutely no assumption about the data, then there is no reason to prefer one model over any other. This is called the No Free Lunch (NFL) theorem. For some datasets the best model is a linear model, while for other datasets it is a neural network. There is no model that is a priori guaranteed to work better (hence the name of the theorem). The only way to know for sure which model is best is to evaluate them all. Since this is not possible, in practice you make some reasonable assumptions about the data and you evaluate only a few reasonable models. For example, for simple tasks you may evaluate linear models with various levels of regularization, and for a complex problem you may evaluate various neural networks."
   ]
  },
  {
   "cell_type": "code",
   "execution_count": null,
   "metadata": {},
   "outputs": [],
   "source": []
  }
 ],
 "metadata": {
  "kernelspec": {
   "display_name": "Python 3",
   "language": "python",
   "name": "python3"
  },
  "language_info": {
   "codemirror_mode": {
    "name": "ipython",
    "version": 3
   },
   "file_extension": ".py",
   "mimetype": "text/x-python",
   "name": "python",
   "nbconvert_exporter": "python",
   "pygments_lexer": "ipython3",
   "version": "3.6.5"
  }
 },
 "nbformat": 4,
 "nbformat_minor": 2
}
