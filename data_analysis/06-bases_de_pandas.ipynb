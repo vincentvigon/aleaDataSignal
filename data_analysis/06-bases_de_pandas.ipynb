{
 "cells": [
  {
   "cell_type": "markdown",
   "metadata": {},
   "source": [
    "\n",
    "Pandas est la librairie python pour la gestion des 'DataFrame' c'est l'équivalent d'une feuille excel ou d'une table d'une base de donnée de type SQL. \n",
    "\n",
    "* Les lignes représentent les individus (ou observations).\n",
    "* Les colonnes représentent les variables  (quantitative, qualitative ).\n",
    "\n",
    "Commençons pas jouer un peu avec cette librairie"
   ]
  },
  {
   "cell_type": "code",
   "execution_count": 5,
   "metadata": {},
   "outputs": [],
   "source": [
    "import numpy as np\n",
    "import matplotlib.pyplot as plt\n",
    "import scipy.stats as stats\n",
    "import pandas as pd\n",
    "% matplotlib inline\n",
    "np.set_printoptions(precision=2,linewidth=500,suppress=True)\n",
    "\n",
    "\"\"\"pour que les dataFrame ne soient pas trop coupée dans la console\"\"\"\n",
    "pd.set_option('expand_frame_repr', False)\n"
   ]
  },
  {
   "cell_type": "markdown",
   "metadata": {},
   "source": [
    "## Commençons par Jouer\n",
    "\n",
    "Avant de rentrer dans la technique, effectuons un travail amusant avec l'aide de `pandas`. "
   ]
  },
  {
   "cell_type": "code",
   "execution_count": 6,
   "metadata": {},
   "outputs": [
    {
     "data": {
      "text/html": [
       "<div>\n",
       "<style scoped>\n",
       "    .dataframe tbody tr th:only-of-type {\n",
       "        vertical-align: middle;\n",
       "    }\n",
       "\n",
       "    .dataframe tbody tr th {\n",
       "        vertical-align: top;\n",
       "    }\n",
       "\n",
       "    .dataframe thead th {\n",
       "        text-align: right;\n",
       "    }\n",
       "</style>\n",
       "<table border=\"1\" class=\"dataframe\">\n",
       "  <thead>\n",
       "    <tr style=\"text-align: right;\">\n",
       "      <th></th>\n",
       "      <th>sexe</th>\n",
       "      <th>preusuel</th>\n",
       "      <th>annais</th>\n",
       "      <th>nombre</th>\n",
       "    </tr>\n",
       "  </thead>\n",
       "  <tbody>\n",
       "    <tr>\n",
       "      <th>0</th>\n",
       "      <td>1</td>\n",
       "      <td>A</td>\n",
       "      <td>1980</td>\n",
       "      <td>3.0</td>\n",
       "    </tr>\n",
       "    <tr>\n",
       "      <th>1</th>\n",
       "      <td>1</td>\n",
       "      <td>A</td>\n",
       "      <td>1998</td>\n",
       "      <td>3.0</td>\n",
       "    </tr>\n",
       "    <tr>\n",
       "      <th>2</th>\n",
       "      <td>1</td>\n",
       "      <td>A</td>\n",
       "      <td>XXXX</td>\n",
       "      <td>21.0</td>\n",
       "    </tr>\n",
       "    <tr>\n",
       "      <th>3</th>\n",
       "      <td>1</td>\n",
       "      <td>AADEL</td>\n",
       "      <td>1976</td>\n",
       "      <td>5.0</td>\n",
       "    </tr>\n",
       "    <tr>\n",
       "      <th>4</th>\n",
       "      <td>1</td>\n",
       "      <td>AADEL</td>\n",
       "      <td>1978</td>\n",
       "      <td>3.0</td>\n",
       "    </tr>\n",
       "    <tr>\n",
       "      <th>5</th>\n",
       "      <td>1</td>\n",
       "      <td>AADEL</td>\n",
       "      <td>1980</td>\n",
       "      <td>3.0</td>\n",
       "    </tr>\n",
       "    <tr>\n",
       "      <th>6</th>\n",
       "      <td>1</td>\n",
       "      <td>AADEL</td>\n",
       "      <td>1981</td>\n",
       "      <td>5.0</td>\n",
       "    </tr>\n",
       "    <tr>\n",
       "      <th>7</th>\n",
       "      <td>1</td>\n",
       "      <td>AADEL</td>\n",
       "      <td>1982</td>\n",
       "      <td>4.0</td>\n",
       "    </tr>\n",
       "    <tr>\n",
       "      <th>8</th>\n",
       "      <td>1</td>\n",
       "      <td>AADEL</td>\n",
       "      <td>1983</td>\n",
       "      <td>3.0</td>\n",
       "    </tr>\n",
       "    <tr>\n",
       "      <th>9</th>\n",
       "      <td>1</td>\n",
       "      <td>AADEL</td>\n",
       "      <td>1987</td>\n",
       "      <td>5.0</td>\n",
       "    </tr>\n",
       "  </tbody>\n",
       "</table>\n",
       "</div>"
      ],
      "text/plain": [
       "   sexe preusuel annais  nombre\n",
       "0     1        A   1980     3.0\n",
       "1     1        A   1998     3.0\n",
       "2     1        A   XXXX    21.0\n",
       "3     1    AADEL   1976     5.0\n",
       "4     1    AADEL   1978     3.0\n",
       "5     1    AADEL   1980     3.0\n",
       "6     1    AADEL   1981     5.0\n",
       "7     1    AADEL   1982     4.0\n",
       "8     1    AADEL   1983     3.0\n",
       "9     1    AADEL   1987     5.0"
      ]
     },
     "execution_count": 6,
     "metadata": {},
     "output_type": "execute_result"
    }
   ],
   "source": [
    "df = pd.read_csv(\"data/nat2015.txt\",sep=\"\\t\",encoding='latin-1')\n",
    "df.head(10)"
   ]
  },
  {
   "cell_type": "markdown",
   "metadata": {},
   "source": [
    "***A vous:*** $(1\\heartsuit)$ Quelle est la signification des variables `preusuel` et `annais`?"
   ]
  },
  {
   "cell_type": "code",
   "execution_count": 7,
   "metadata": {},
   "outputs": [
    {
     "data": {
      "text/html": [
       "<div>\n",
       "<style scoped>\n",
       "    .dataframe tbody tr th:only-of-type {\n",
       "        vertical-align: middle;\n",
       "    }\n",
       "\n",
       "    .dataframe tbody tr th {\n",
       "        vertical-align: top;\n",
       "    }\n",
       "\n",
       "    .dataframe thead th {\n",
       "        text-align: right;\n",
       "    }\n",
       "</style>\n",
       "<table border=\"1\" class=\"dataframe\">\n",
       "  <thead>\n",
       "    <tr style=\"text-align: right;\">\n",
       "      <th>sexe</th>\n",
       "      <th>1</th>\n",
       "      <th>2</th>\n",
       "    </tr>\n",
       "    <tr>\n",
       "      <th>annais</th>\n",
       "      <th></th>\n",
       "      <th></th>\n",
       "    </tr>\n",
       "  </thead>\n",
       "  <tbody>\n",
       "    <tr>\n",
       "      <th>1900</th>\n",
       "      <td>177483.0</td>\n",
       "      <td>237721.0</td>\n",
       "    </tr>\n",
       "    <tr>\n",
       "      <th>1901</th>\n",
       "      <td>196048.0</td>\n",
       "      <td>257593.0</td>\n",
       "    </tr>\n",
       "    <tr>\n",
       "      <th>1902</th>\n",
       "      <td>204440.0</td>\n",
       "      <td>261516.0</td>\n",
       "    </tr>\n",
       "    <tr>\n",
       "      <th>1903</th>\n",
       "      <td>207457.0</td>\n",
       "      <td>261537.0</td>\n",
       "    </tr>\n",
       "    <tr>\n",
       "      <th>1904</th>\n",
       "      <td>214244.0</td>\n",
       "      <td>264926.0</td>\n",
       "    </tr>\n",
       "  </tbody>\n",
       "</table>\n",
       "</div>"
      ],
      "text/plain": [
       "sexe           1         2\n",
       "annais                    \n",
       "1900    177483.0  237721.0\n",
       "1901    196048.0  257593.0\n",
       "1902    204440.0  261516.0\n",
       "1903    207457.0  261537.0\n",
       "1904    214244.0  264926.0"
      ]
     },
     "execution_count": 7,
     "metadata": {},
     "output_type": "execute_result"
    }
   ],
   "source": [
    "tab = df.pivot_table(index=\"annais\", columns=\"sexe\", values=\"nombre\", aggfunc=\"sum\")\n",
    "tab.head()\n"
   ]
  },
  {
   "cell_type": "code",
   "execution_count": 8,
   "metadata": {},
   "outputs": [
    {
     "data": {
      "image/png": "[encoded data removed]",
      "text/plain": [
       "<Figure size 432x288 with 1 Axes>"
      ]
     },
     "metadata": {},
     "output_type": "display_data"
    }
   ],
   "source": [
    "tab.plot();"
   ]
  },
  {
   "cell_type": "markdown",
   "metadata": {},
   "source": [
    "Customisons"
   ]
  },
  {
   "cell_type": "code",
   "execution_count": 45,
   "metadata": {},
   "outputs": [
    {
     "data": {
      "image/png": "[encoded data removed]",
      "text/plain": [
       "<Figure size 720x288 with 1 Axes>"
      ]
     },
     "metadata": {},
     "output_type": "display_data"
    }
   ],
   "source": [
    "fig,ax=plt.subplots(figsize=(10,4))\n",
    "ax.plot(tab.index,tab[1].values,label=\"homme\")\n",
    "ax.plot(tab.index,tab[2].values,label=\"femme\")\n",
    "ax.set_xticks(tab.index[0::5])\n",
    "ax.set_xticklabels(tab.index[0::5],rotation=\"vertical\")\n",
    "ax.set_ylabel(\"nombre de naissance\")\n",
    "ax.grid(True)\n",
    "ax.legend();"
   ]
  },
  {
   "cell_type": "code",
   "execution_count": 6,
   "metadata": {},
   "outputs": [
    {
     "data": {
      "image/png": "[encoded data removed]",
      "text/plain": [
       "<Figure size 432x288 with 1 Axes>"
      ]
     },
     "metadata": {},
     "output_type": "display_data"
    }
   ],
   "source": [
    "\"\"\" on supprime les prénoms inconnus \"\"\"\n",
    "df = df.loc[df[\"annais\"] != \"XXXX\"]\n",
    "tab = df.pivot_table(index=\"annais\", columns=\"sexe\", values=\"preusuel\", aggfunc=\"count\")\n",
    "tab.plot(title=\"Evolution absolue de la diversité des prénoms par genre\");"
   ]
  },
  {
   "cell_type": "code",
   "execution_count": 7,
   "metadata": {},
   "outputs": [
    {
     "data": {
      "image/png": "[encoded data removed]",
      "text/plain": [
       "<Figure size 432x288 with 1 Axes>"
      ]
     },
     "metadata": {},
     "output_type": "display_data"
    }
   ],
   "source": [
    "def evol_prenom(prenom):\n",
    "    sel = df.loc[df['preusuel'] == prenom]\n",
    "    evol = sel.pivot_table(index='annais',\n",
    "                         columns='sexe',\n",
    "                         values='nombre',\n",
    "                         aggfunc='sum')\n",
    "    tab = evol.div(evol.sum(axis=1), axis=0)\n",
    "    tab.plot(title=\"Evolution relative du prénom {}\".format(prenom))\n",
    "    \n",
    "\"\"\"  essayez par exemple avec  CLAUDE ALIX DOMINIQUE\"\"\"\n",
    "evol_prenom('ALIX')"
   ]
  },
  {
   "cell_type": "markdown",
   "metadata": {},
   "source": [
    "***A vous:***  Customisez $(3\\heartsuit)$ tous les graphiques. Ne faites pas de copié-collé: vous devez créer une fonction qui s'applique aux 3 graphiques"
   ]
  },
  {
   "cell_type": "markdown",
   "metadata": {},
   "source": [
    "## Series et Dataframe\n",
    "\n",
    "Une série c'est une liste de valeurs indexées. On peut aussi lui donner un nom"
   ]
  },
  {
   "cell_type": "code",
   "execution_count": 30,
   "metadata": {},
   "outputs": [
    {
     "data": {
      "text/plain": [
       "a    4\n",
       "b    2\n",
       "c    9\n",
       "d    6\n",
       "e    1\n",
       "Name: toto1, dtype: int64"
      ]
     },
     "execution_count": 30,
     "metadata": {},
     "output_type": "execute_result"
    }
   ],
   "source": [
    "s1 = pd.Series(np.random.randint(0,10,size=5), index=['a', 'b', 'c', 'd', 'e'],name=\"toto1\")\n",
    "s1"
   ]
  },
  {
   "cell_type": "code",
   "execution_count": 31,
   "metadata": {},
   "outputs": [
    {
     "name": "stdout",
     "output_type": "stream",
     "text": [
      "s1.values:\n",
      " [4 2 9 6 1] <class 'numpy.ndarray'>\n",
      "s1.index:\n",
      " Index(['a', 'b', 'c', 'd', 'e'], dtype='object') <class 'pandas.core.indexes.base.Index'>\n",
      "s1.index.values:\n",
      " ['a' 'b' 'c' 'd' 'e'] <class 'numpy.ndarray'>\n"
     ]
    }
   ],
   "source": [
    "print(\"s1.values:\\n\",s1.values,type(s1.values))\n",
    "print(\"s1.index:\\n\",s1.index,type(s1.index))\n",
    "print(\"s1.index.values:\\n\",s1.index.values,type(s1.index.values))"
   ]
  },
  {
   "cell_type": "markdown",
   "metadata": {},
   "source": [
    "Une `DataFrame` c'est plusieurs `Series` collée en colonnes. Ces colonnes partagent le même index et chaque colonne a un nom. "
   ]
  },
  {
   "cell_type": "code",
   "execution_count": 46,
   "metadata": {},
   "outputs": [
    {
     "data": {
      "text/html": [
       "<div>\n",
       "<style scoped>\n",
       "    .dataframe tbody tr th:only-of-type {\n",
       "        vertical-align: middle;\n",
       "    }\n",
       "\n",
       "    .dataframe tbody tr th {\n",
       "        vertical-align: top;\n",
       "    }\n",
       "\n",
       "    .dataframe thead th {\n",
       "        text-align: right;\n",
       "    }\n",
       "</style>\n",
       "<table border=\"1\" class=\"dataframe\">\n",
       "  <thead>\n",
       "    <tr style=\"text-align: right;\">\n",
       "      <th></th>\n",
       "      <th>col1</th>\n",
       "      <th>col2</th>\n",
       "    </tr>\n",
       "  </thead>\n",
       "  <tbody>\n",
       "    <tr>\n",
       "      <th>a</th>\n",
       "      <td>4</td>\n",
       "      <td>-1.555250</td>\n",
       "    </tr>\n",
       "    <tr>\n",
       "      <th>b</th>\n",
       "      <td>2</td>\n",
       "      <td>0.184347</td>\n",
       "    </tr>\n",
       "    <tr>\n",
       "      <th>c</th>\n",
       "      <td>9</td>\n",
       "      <td>0.067080</td>\n",
       "    </tr>\n",
       "    <tr>\n",
       "      <th>d</th>\n",
       "      <td>6</td>\n",
       "      <td>-0.306240</td>\n",
       "    </tr>\n",
       "    <tr>\n",
       "      <th>e</th>\n",
       "      <td>1</td>\n",
       "      <td>-0.200152</td>\n",
       "    </tr>\n",
       "  </tbody>\n",
       "</table>\n",
       "</div>"
      ],
      "text/plain": [
       "   col1      col2\n",
       "a     4 -1.555250\n",
       "b     2  0.184347\n",
       "c     9  0.067080\n",
       "d     6 -0.306240\n",
       "e     1 -0.200152"
      ]
     },
     "execution_count": 46,
     "metadata": {},
     "output_type": "execute_result"
    }
   ],
   "source": [
    "s2 = pd.Series(np.random.normal(size=5), index=['a', 'b', 'c', 'd', 'e'])\n",
    "df=pd.DataFrame({\"col1\":s1,\"col2\":s2})\n",
    "df"
   ]
  },
  {
   "cell_type": "code",
   "execution_count": 28,
   "metadata": {},
   "outputs": [
    {
     "name": "stdout",
     "output_type": "stream",
     "text": [
      "Index(['a', 'b', 'c', 'd', 'e'], dtype='object')\n",
      "Index(['col1', 'col2'], dtype='object')\n"
     ]
    }
   ],
   "source": [
    "print(df.index)\n",
    "print(df.columns)"
   ]
  },
  {
   "cell_type": "markdown",
   "metadata": {},
   "source": [
    "Quand on récupère une ligne ou une colonne d'une dataframe, on retombe sur une serie. Observez les index et les noms de ses series. Tout est logique.  "
   ]
  },
  {
   "cell_type": "code",
   "execution_count": 47,
   "metadata": {},
   "outputs": [
    {
     "data": {
      "text/plain": [
       "a    4\n",
       "b    2\n",
       "c    9\n",
       "d    6\n",
       "e    1\n",
       "Name: col1, dtype: int64"
      ]
     },
     "execution_count": 47,
     "metadata": {},
     "output_type": "execute_result"
    }
   ],
   "source": [
    "df['col1']"
   ]
  },
  {
   "cell_type": "code",
   "execution_count": 48,
   "metadata": {},
   "outputs": [
    {
     "data": {
      "text/plain": [
       "col1    4.00000\n",
       "col2   -1.55525\n",
       "Name: a, dtype: float64"
      ]
     },
     "execution_count": 48,
     "metadata": {},
     "output_type": "execute_result"
    }
   ],
   "source": [
    "df.loc['a'] # 'loc' pour extraire une ligne"
   ]
  },
  {
   "cell_type": "markdown",
   "metadata": {},
   "source": [
    "## Manipulation d'une dataframe\n"
   ]
  },
  {
   "cell_type": "code",
   "execution_count": 113,
   "metadata": {},
   "outputs": [
    {
     "data": {
      "text/html": [
       "<div>\n",
       "<style scoped>\n",
       "    .dataframe tbody tr th:only-of-type {\n",
       "        vertical-align: middle;\n",
       "    }\n",
       "\n",
       "    .dataframe tbody tr th {\n",
       "        vertical-align: top;\n",
       "    }\n",
       "\n",
       "    .dataframe thead th {\n",
       "        text-align: right;\n",
       "    }\n",
       "</style>\n",
       "<table border=\"1\" class=\"dataframe\">\n",
       "  <thead>\n",
       "    <tr style=\"text-align: right;\">\n",
       "      <th></th>\n",
       "      <th>nbPiece</th>\n",
       "      <th>surface</th>\n",
       "      <th>quartier</th>\n",
       "      <th>construction</th>\n",
       "      <th>prix</th>\n",
       "      <th>nomProprio</th>\n",
       "    </tr>\n",
       "  </thead>\n",
       "  <tbody>\n",
       "    <tr>\n",
       "      <th>0</th>\n",
       "      <td>2</td>\n",
       "      <td>20.5</td>\n",
       "      <td>populaire</td>\n",
       "      <td>2012-05-01</td>\n",
       "      <td>60000.0</td>\n",
       "      <td>Toto</td>\n",
       "    </tr>\n",
       "    <tr>\n",
       "      <th>1</th>\n",
       "      <td>3</td>\n",
       "      <td>35.0</td>\n",
       "      <td>populaire</td>\n",
       "      <td>2015-10-03</td>\n",
       "      <td>120000.0</td>\n",
       "      <td>Momo</td>\n",
       "    </tr>\n",
       "    <tr>\n",
       "      <th>2</th>\n",
       "      <td>4</td>\n",
       "      <td>NaN</td>\n",
       "      <td>chic</td>\n",
       "      <td>1999-12-21</td>\n",
       "      <td>NaN</td>\n",
       "      <td>Fifi</td>\n",
       "    </tr>\n",
       "    <tr>\n",
       "      <th>3</th>\n",
       "      <td>1</td>\n",
       "      <td>15.0</td>\n",
       "      <td>moyen</td>\n",
       "      <td>2000-01-01</td>\n",
       "      <td>30000.0</td>\n",
       "      <td>Lolo</td>\n",
       "    </tr>\n",
       "    <tr>\n",
       "      <th>4</th>\n",
       "      <td>4</td>\n",
       "      <td>120.0</td>\n",
       "      <td>chic</td>\n",
       "      <td>1969-12-11</td>\n",
       "      <td>200000.0</td>\n",
       "      <td>None</td>\n",
       "    </tr>\n",
       "  </tbody>\n",
       "</table>\n",
       "</div>"
      ],
      "text/plain": [
       "   nbPiece  surface   quartier construction      prix nomProprio\n",
       "0        2     20.5  populaire   2012-05-01   60000.0       Toto\n",
       "1        3     35.0  populaire   2015-10-03  120000.0       Momo\n",
       "2        4      NaN       chic   1999-12-21       NaN       Fifi\n",
       "3        1     15.0      moyen   2000-01-01   30000.0       Lolo\n",
       "4        4    120.0       chic   1969-12-11  200000.0       None"
      ]
     },
     "execution_count": 113,
     "metadata": {},
     "output_type": "execute_result"
    }
   ],
   "source": [
    "import datetime\n",
    "\n",
    "\"\"\" créons 'df'  une dataFrame. On ne précise pas l'index, donc par défaut c'est 0,1,2,...\"\"\"\n",
    "def make_df():\n",
    "    df = pd.DataFrame({\n",
    "        'nbPiece': [2, 3, 4, 1,4],\n",
    "        'surface': [20.5, 35, None, 15,120],\n",
    "        'quartier': pd.Categorical([\"populaire\", \"populaire\", \"chic\", \"moyen\",\"chic\"]),\n",
    "        'construction': [datetime.date(2012, 5, 1),datetime.date(2015, 10, 3),datetime.date(1999, 12, 21),datetime.date(2000, 1, 1),datetime.date(1969, 12, 11),],\n",
    "        'prix':[60000,120000,np.nan,30000,200000],\n",
    "        'nomProprio':[\"Toto\",\"Momo\",\"Fifi\",\"Lolo\",None]\n",
    "    })\n",
    "    return df\n",
    "df= make_df()\n",
    "df # mieux que print(df)"
   ]
  },
  {
   "cell_type": "markdown",
   "metadata": {},
   "source": [
    "`pd.Categorical`: c'est une 'enumeration':  \"populaire\" est codé par 0, \"chic\" par 1,  \"moyen\" par 2, cela fait gagner de l'espace mémoire."
   ]
  },
  {
   "cell_type": "markdown",
   "metadata": {},
   "source": [
    "### Sélection de lignes et colonnes\n",
    "\n",
    "Observez à chaque fois si la sélection renvoie une `Series` ou une `DataFame`. Demandez-vous quel est l'index.  "
   ]
  },
  {
   "cell_type": "code",
   "execution_count": 128,
   "metadata": {},
   "outputs": [
    {
     "data": {
      "text/plain": [
       "0    0\n",
       "1    0\n",
       "2    0\n",
       "3    0\n",
       "4    0\n",
       "Name: nbPiece, dtype: int64"
      ]
     },
     "execution_count": 128,
     "metadata": {},
     "output_type": "execute_result"
    }
   ],
   "source": [
    "\"la colonne nbPiece\"\n",
    "df['nbPiece'] \n",
    "#ou bien avec un point: \n",
    "# oneColumn=df.nbPiece "
   ]
  },
  {
   "cell_type": "markdown",
   "metadata": {},
   "source": [
    "la méthode 'loc' permet de jouer avec les lignes et les colonnes"
   ]
  },
  {
   "cell_type": "code",
   "execution_count": 129,
   "metadata": {},
   "outputs": [
    {
     "data": {
      "text/plain": [
       "nbPiece                  0\n",
       "surface               20.5\n",
       "quartier         populaire\n",
       "construction    2012-05-01\n",
       "prix                 60000\n",
       "nomProprio            Toto\n",
       "Name: 0, dtype: object"
      ]
     },
     "execution_count": 129,
     "metadata": {},
     "output_type": "execute_result"
    }
   ],
   "source": [
    "df.loc[0,:]"
   ]
  },
  {
   "cell_type": "code",
   "execution_count": 130,
   "metadata": {},
   "outputs": [
    {
     "data": {
      "text/html": [
       "<div>\n",
       "<style scoped>\n",
       "    .dataframe tbody tr th:only-of-type {\n",
       "        vertical-align: middle;\n",
       "    }\n",
       "\n",
       "    .dataframe tbody tr th {\n",
       "        vertical-align: top;\n",
       "    }\n",
       "\n",
       "    .dataframe thead th {\n",
       "        text-align: right;\n",
       "    }\n",
       "</style>\n",
       "<table border=\"1\" class=\"dataframe\">\n",
       "  <thead>\n",
       "    <tr style=\"text-align: right;\">\n",
       "      <th></th>\n",
       "      <th>nbPiece</th>\n",
       "      <th>surface</th>\n",
       "      <th>quartier</th>\n",
       "      <th>construction</th>\n",
       "      <th>prix</th>\n",
       "      <th>nomProprio</th>\n",
       "    </tr>\n",
       "  </thead>\n",
       "  <tbody>\n",
       "    <tr>\n",
       "      <th>0</th>\n",
       "      <td>0</td>\n",
       "      <td>20.5</td>\n",
       "      <td>populaire</td>\n",
       "      <td>2012-05-01</td>\n",
       "      <td>60000.0</td>\n",
       "      <td>Toto</td>\n",
       "    </tr>\n",
       "    <tr>\n",
       "      <th>2</th>\n",
       "      <td>0</td>\n",
       "      <td>NaN</td>\n",
       "      <td>chic</td>\n",
       "      <td>1999-12-21</td>\n",
       "      <td>NaN</td>\n",
       "      <td>Fifi</td>\n",
       "    </tr>\n",
       "  </tbody>\n",
       "</table>\n",
       "</div>"
      ],
      "text/plain": [
       "   nbPiece  surface   quartier construction     prix nomProprio\n",
       "0        0     20.5  populaire   2012-05-01  60000.0       Toto\n",
       "2        0      NaN       chic   1999-12-21      NaN       Fifi"
      ]
     },
     "execution_count": 130,
     "metadata": {},
     "output_type": "execute_result"
    }
   ],
   "source": [
    "df.loc[[0, 2],:]"
   ]
  },
  {
   "cell_type": "code",
   "execution_count": 131,
   "metadata": {},
   "outputs": [
    {
     "data": {
      "text/html": [
       "<div>\n",
       "<style scoped>\n",
       "    .dataframe tbody tr th:only-of-type {\n",
       "        vertical-align: middle;\n",
       "    }\n",
       "\n",
       "    .dataframe tbody tr th {\n",
       "        vertical-align: top;\n",
       "    }\n",
       "\n",
       "    .dataframe thead th {\n",
       "        text-align: right;\n",
       "    }\n",
       "</style>\n",
       "<table border=\"1\" class=\"dataframe\">\n",
       "  <thead>\n",
       "    <tr style=\"text-align: right;\">\n",
       "      <th></th>\n",
       "      <th>nbPiece</th>\n",
       "      <th>surface</th>\n",
       "    </tr>\n",
       "  </thead>\n",
       "  <tbody>\n",
       "    <tr>\n",
       "      <th>0</th>\n",
       "      <td>0</td>\n",
       "      <td>20.5</td>\n",
       "    </tr>\n",
       "    <tr>\n",
       "      <th>2</th>\n",
       "      <td>0</td>\n",
       "      <td>NaN</td>\n",
       "    </tr>\n",
       "  </tbody>\n",
       "</table>\n",
       "</div>"
      ],
      "text/plain": [
       "   nbPiece  surface\n",
       "0        0     20.5\n",
       "2        0      NaN"
      ]
     },
     "execution_count": 131,
     "metadata": {},
     "output_type": "execute_result"
    }
   ],
   "source": [
    "df.loc[[0,2],['nbPiece','surface']]"
   ]
  },
  {
   "cell_type": "markdown",
   "metadata": {},
   "source": [
    "D'après vous `df.loc[[2],:]` renvoie une `Series` ou une `DataFame` $(1\\heartsuit)$?"
   ]
  },
  {
   "cell_type": "markdown",
   "metadata": {},
   "source": [
    "### Copy or not copy, that is the question\n",
    "\n",
    "On rentre dans les truc bizarre (qui donne envie de dire \"Grrrr\")."
   ]
  },
  {
   "cell_type": "markdown",
   "metadata": {},
   "source": [
    "Selectionnons deux colonnes et modifions la mini-dataframe obtenue:"
   ]
  },
  {
   "cell_type": "code",
   "execution_count": 164,
   "metadata": {},
   "outputs": [
    {
     "data": {
      "text/html": [
       "<div>\n",
       "<style scoped>\n",
       "    .dataframe tbody tr th:only-of-type {\n",
       "        vertical-align: middle;\n",
       "    }\n",
       "\n",
       "    .dataframe tbody tr th {\n",
       "        vertical-align: top;\n",
       "    }\n",
       "\n",
       "    .dataframe thead th {\n",
       "        text-align: right;\n",
       "    }\n",
       "</style>\n",
       "<table border=\"1\" class=\"dataframe\">\n",
       "  <thead>\n",
       "    <tr style=\"text-align: right;\">\n",
       "      <th></th>\n",
       "      <th>nbPiece</th>\n",
       "      <th>surface</th>\n",
       "    </tr>\n",
       "  </thead>\n",
       "  <tbody>\n",
       "    <tr>\n",
       "      <th>0</th>\n",
       "      <td>0</td>\n",
       "      <td>20.5</td>\n",
       "    </tr>\n",
       "    <tr>\n",
       "      <th>1</th>\n",
       "      <td>0</td>\n",
       "      <td>35.0</td>\n",
       "    </tr>\n",
       "    <tr>\n",
       "      <th>2</th>\n",
       "      <td>0</td>\n",
       "      <td>NaN</td>\n",
       "    </tr>\n",
       "    <tr>\n",
       "      <th>3</th>\n",
       "      <td>0</td>\n",
       "      <td>15.0</td>\n",
       "    </tr>\n",
       "    <tr>\n",
       "      <th>4</th>\n",
       "      <td>0</td>\n",
       "      <td>120.0</td>\n",
       "    </tr>\n",
       "  </tbody>\n",
       "</table>\n",
       "</div>"
      ],
      "text/plain": [
       "   nbPiece  surface\n",
       "0        0     20.5\n",
       "1        0     35.0\n",
       "2        0      NaN\n",
       "3        0     15.0\n",
       "4        0    120.0"
      ]
     },
     "execution_count": 164,
     "metadata": {},
     "output_type": "execute_result"
    }
   ],
   "source": [
    "df=make_df()\n",
    "\"\"\"vérifions que pandas  fait facilement des copies des données\"\"\"\n",
    "twoCol=df.loc[:, ['nbPiece', 'surface']]\n",
    "twoCol['nbPiece']*=0\n",
    "twoCol"
   ]
  },
  {
   "cell_type": "markdown",
   "metadata": {},
   "source": [
    "Bonne nouvelle: la dataframe initiale n'a pas bougée: pandas a donc fait une copie des données"
   ]
  },
  {
   "cell_type": "code",
   "execution_count": 165,
   "metadata": {},
   "outputs": [
    {
     "data": {
      "text/html": [
       "<div>\n",
       "<style scoped>\n",
       "    .dataframe tbody tr th:only-of-type {\n",
       "        vertical-align: middle;\n",
       "    }\n",
       "\n",
       "    .dataframe tbody tr th {\n",
       "        vertical-align: top;\n",
       "    }\n",
       "\n",
       "    .dataframe thead th {\n",
       "        text-align: right;\n",
       "    }\n",
       "</style>\n",
       "<table border=\"1\" class=\"dataframe\">\n",
       "  <thead>\n",
       "    <tr style=\"text-align: right;\">\n",
       "      <th></th>\n",
       "      <th>nbPiece</th>\n",
       "      <th>surface</th>\n",
       "      <th>quartier</th>\n",
       "      <th>construction</th>\n",
       "      <th>prix</th>\n",
       "      <th>nomProprio</th>\n",
       "    </tr>\n",
       "  </thead>\n",
       "  <tbody>\n",
       "    <tr>\n",
       "      <th>0</th>\n",
       "      <td>2</td>\n",
       "      <td>20.5</td>\n",
       "      <td>populaire</td>\n",
       "      <td>2012-05-01</td>\n",
       "      <td>60000.0</td>\n",
       "      <td>Toto</td>\n",
       "    </tr>\n",
       "    <tr>\n",
       "      <th>1</th>\n",
       "      <td>3</td>\n",
       "      <td>35.0</td>\n",
       "      <td>populaire</td>\n",
       "      <td>2015-10-03</td>\n",
       "      <td>120000.0</td>\n",
       "      <td>Momo</td>\n",
       "    </tr>\n",
       "    <tr>\n",
       "      <th>2</th>\n",
       "      <td>4</td>\n",
       "      <td>NaN</td>\n",
       "      <td>chic</td>\n",
       "      <td>1999-12-21</td>\n",
       "      <td>NaN</td>\n",
       "      <td>Fifi</td>\n",
       "    </tr>\n",
       "    <tr>\n",
       "      <th>3</th>\n",
       "      <td>1</td>\n",
       "      <td>15.0</td>\n",
       "      <td>moyen</td>\n",
       "      <td>2000-01-01</td>\n",
       "      <td>30000.0</td>\n",
       "      <td>Lolo</td>\n",
       "    </tr>\n",
       "    <tr>\n",
       "      <th>4</th>\n",
       "      <td>4</td>\n",
       "      <td>120.0</td>\n",
       "      <td>chic</td>\n",
       "      <td>1969-12-11</td>\n",
       "      <td>200000.0</td>\n",
       "      <td>None</td>\n",
       "    </tr>\n",
       "  </tbody>\n",
       "</table>\n",
       "</div>"
      ],
      "text/plain": [
       "   nbPiece  surface   quartier construction      prix nomProprio\n",
       "0        2     20.5  populaire   2012-05-01   60000.0       Toto\n",
       "1        3     35.0  populaire   2015-10-03  120000.0       Momo\n",
       "2        4      NaN       chic   1999-12-21       NaN       Fifi\n",
       "3        1     15.0      moyen   2000-01-01   30000.0       Lolo\n",
       "4        4    120.0       chic   1969-12-11  200000.0       None"
      ]
     },
     "execution_count": 165,
     "metadata": {},
     "output_type": "execute_result"
    }
   ],
   "source": [
    "df"
   ]
  },
  {
   "cell_type": "markdown",
   "metadata": {},
   "source": [
    "Par contre sélectionnons une seule colonne:"
   ]
  },
  {
   "cell_type": "code",
   "execution_count": 166,
   "metadata": {},
   "outputs": [
    {
     "data": {
      "text/html": [
       "<div>\n",
       "<style scoped>\n",
       "    .dataframe tbody tr th:only-of-type {\n",
       "        vertical-align: middle;\n",
       "    }\n",
       "\n",
       "    .dataframe tbody tr th {\n",
       "        vertical-align: top;\n",
       "    }\n",
       "\n",
       "    .dataframe thead th {\n",
       "        text-align: right;\n",
       "    }\n",
       "</style>\n",
       "<table border=\"1\" class=\"dataframe\">\n",
       "  <thead>\n",
       "    <tr style=\"text-align: right;\">\n",
       "      <th></th>\n",
       "      <th>nbPiece</th>\n",
       "      <th>surface</th>\n",
       "      <th>quartier</th>\n",
       "      <th>construction</th>\n",
       "      <th>prix</th>\n",
       "      <th>nomProprio</th>\n",
       "    </tr>\n",
       "  </thead>\n",
       "  <tbody>\n",
       "    <tr>\n",
       "      <th>0</th>\n",
       "      <td>0</td>\n",
       "      <td>20.5</td>\n",
       "      <td>populaire</td>\n",
       "      <td>2012-05-01</td>\n",
       "      <td>60000.0</td>\n",
       "      <td>Toto</td>\n",
       "    </tr>\n",
       "    <tr>\n",
       "      <th>1</th>\n",
       "      <td>0</td>\n",
       "      <td>35.0</td>\n",
       "      <td>populaire</td>\n",
       "      <td>2015-10-03</td>\n",
       "      <td>120000.0</td>\n",
       "      <td>Momo</td>\n",
       "    </tr>\n",
       "    <tr>\n",
       "      <th>2</th>\n",
       "      <td>0</td>\n",
       "      <td>NaN</td>\n",
       "      <td>chic</td>\n",
       "      <td>1999-12-21</td>\n",
       "      <td>NaN</td>\n",
       "      <td>Fifi</td>\n",
       "    </tr>\n",
       "    <tr>\n",
       "      <th>3</th>\n",
       "      <td>0</td>\n",
       "      <td>15.0</td>\n",
       "      <td>moyen</td>\n",
       "      <td>2000-01-01</td>\n",
       "      <td>30000.0</td>\n",
       "      <td>Lolo</td>\n",
       "    </tr>\n",
       "    <tr>\n",
       "      <th>4</th>\n",
       "      <td>0</td>\n",
       "      <td>120.0</td>\n",
       "      <td>chic</td>\n",
       "      <td>1969-12-11</td>\n",
       "      <td>200000.0</td>\n",
       "      <td>None</td>\n",
       "    </tr>\n",
       "  </tbody>\n",
       "</table>\n",
       "</div>"
      ],
      "text/plain": [
       "   nbPiece  surface   quartier construction      prix nomProprio\n",
       "0        0     20.5  populaire   2012-05-01   60000.0       Toto\n",
       "1        0     35.0  populaire   2015-10-03  120000.0       Momo\n",
       "2        0      NaN       chic   1999-12-21       NaN       Fifi\n",
       "3        0     15.0      moyen   2000-01-01   30000.0       Lolo\n",
       "4        0    120.0       chic   1969-12-11  200000.0       None"
      ]
     },
     "execution_count": 166,
     "metadata": {},
     "output_type": "execute_result"
    }
   ],
   "source": [
    "oneCol=df.loc[:, 'nbPiece']\n",
    "oneCol*=0\n",
    "df"
   ]
  },
  {
   "cell_type": "markdown",
   "metadata": {},
   "source": [
    "Il n'y a pas eu copie. Grrrrr!!! Et pire: si on n'avait  pris deux colonnes et pas toutes les lignes, il y aurait eu copie des données! \n",
    "\n",
    "Signalons enfin que si on sélectionne deux colonnes sans le `loc`:"
   ]
  },
  {
   "cell_type": "code",
   "execution_count": 167,
   "metadata": {},
   "outputs": [
    {
     "data": {
      "text/html": [
       "<div>\n",
       "<style scoped>\n",
       "    .dataframe tbody tr th:only-of-type {\n",
       "        vertical-align: middle;\n",
       "    }\n",
       "\n",
       "    .dataframe tbody tr th {\n",
       "        vertical-align: top;\n",
       "    }\n",
       "\n",
       "    .dataframe thead th {\n",
       "        text-align: right;\n",
       "    }\n",
       "</style>\n",
       "<table border=\"1\" class=\"dataframe\">\n",
       "  <thead>\n",
       "    <tr style=\"text-align: right;\">\n",
       "      <th></th>\n",
       "      <th>quartier</th>\n",
       "      <th>nbPiece</th>\n",
       "    </tr>\n",
       "  </thead>\n",
       "  <tbody>\n",
       "    <tr>\n",
       "      <th>0</th>\n",
       "      <td>populaire</td>\n",
       "      <td>0</td>\n",
       "    </tr>\n",
       "    <tr>\n",
       "      <th>1</th>\n",
       "      <td>populaire</td>\n",
       "      <td>0</td>\n",
       "    </tr>\n",
       "    <tr>\n",
       "      <th>2</th>\n",
       "      <td>chic</td>\n",
       "      <td>0</td>\n",
       "    </tr>\n",
       "    <tr>\n",
       "      <th>3</th>\n",
       "      <td>moyen</td>\n",
       "      <td>0</td>\n",
       "    </tr>\n",
       "    <tr>\n",
       "      <th>4</th>\n",
       "      <td>chic</td>\n",
       "      <td>0</td>\n",
       "    </tr>\n",
       "  </tbody>\n",
       "</table>\n",
       "</div>"
      ],
      "text/plain": [
       "    quartier  nbPiece\n",
       "0  populaire        0\n",
       "1  populaire        0\n",
       "2       chic        0\n",
       "3      moyen        0\n",
       "4       chic        0"
      ]
     },
     "execution_count": 167,
     "metadata": {},
     "output_type": "execute_result"
    }
   ],
   "source": [
    "twoCol_bis=df[['quartier', 'nbPiece']]\n",
    "twoCol_bis"
   ]
  },
  {
   "cell_type": "markdown",
   "metadata": {},
   "source": [
    "On obtient une dataFrame non-modifiable. Si on essayer de la modifier le message d'erreur est assez explicite: `A value is trying to be set on a copy of a slice from a DataFrame. Try using .loc[row_indexer,col_indexer] = value instead`"
   ]
  },
  {
   "cell_type": "markdown",
   "metadata": {},
   "source": [
    "### Sélection par valeurs"
   ]
  },
  {
   "cell_type": "code",
   "execution_count": 175,
   "metadata": {},
   "outputs": [
    {
     "data": {
      "text/plain": [
       "0     True\n",
       "1    False\n",
       "2    False\n",
       "3     True\n",
       "4    False\n",
       "Name: prix, dtype: bool"
      ]
     },
     "execution_count": 175,
     "metadata": {},
     "output_type": "execute_result"
    }
   ],
   "source": [
    "df=make_df()\n",
    "\"sélection d'indices en fonction du prix\"\n",
    "df[\"prix\"]<=100000"
   ]
  },
  {
   "cell_type": "code",
   "execution_count": 174,
   "metadata": {},
   "outputs": [
    {
     "name": "stderr",
     "output_type": "stream",
     "text": [
      "/usr/local/lib/python3.6/site-packages/ipykernel_launcher.py:2: SettingWithCopyWarning: \n",
      "A value is trying to be set on a copy of a slice from a DataFrame\n",
      "\n",
      "See the caveats in the documentation: http://pandas.pydata.org/pandas-docs/stable/indexing.html#indexing-view-versus-copy\n",
      "  \n"
     ]
    },
    {
     "data": {
      "text/plain": [
       "0         0.0\n",
       "1    120000.0\n",
       "2         NaN\n",
       "3         0.0\n",
       "4    200000.0\n",
       "Name: prix, dtype: float64"
      ]
     },
     "execution_count": 174,
     "metadata": {},
     "output_type": "execute_result"
    }
   ],
   "source": [
    "\"voyons les valeurs correspondantes\"\n",
    "df[\"prix\"][df.prix<=100000]=0\n",
    "df[\"prix\"]"
   ]
  },
  {
   "cell_type": "code",
   "execution_count": 172,
   "metadata": {},
   "outputs": [
    {
     "data": {
      "text/html": [
       "<div>\n",
       "<style scoped>\n",
       "    .dataframe tbody tr th:only-of-type {\n",
       "        vertical-align: middle;\n",
       "    }\n",
       "\n",
       "    .dataframe tbody tr th {\n",
       "        vertical-align: top;\n",
       "    }\n",
       "\n",
       "    .dataframe thead th {\n",
       "        text-align: right;\n",
       "    }\n",
       "</style>\n",
       "<table border=\"1\" class=\"dataframe\">\n",
       "  <thead>\n",
       "    <tr style=\"text-align: right;\">\n",
       "      <th></th>\n",
       "      <th>nbPiece</th>\n",
       "      <th>surface</th>\n",
       "      <th>quartier</th>\n",
       "      <th>construction</th>\n",
       "      <th>prix</th>\n",
       "      <th>nomProprio</th>\n",
       "    </tr>\n",
       "  </thead>\n",
       "  <tbody>\n",
       "    <tr>\n",
       "      <th>0</th>\n",
       "      <td>2</td>\n",
       "      <td>20.5</td>\n",
       "      <td>populaire</td>\n",
       "      <td>2012-05-01</td>\n",
       "      <td>60000.0</td>\n",
       "      <td>Toto</td>\n",
       "    </tr>\n",
       "    <tr>\n",
       "      <th>3</th>\n",
       "      <td>1</td>\n",
       "      <td>15.0</td>\n",
       "      <td>moyen</td>\n",
       "      <td>2000-01-01</td>\n",
       "      <td>30000.0</td>\n",
       "      <td>Lolo</td>\n",
       "    </tr>\n",
       "  </tbody>\n",
       "</table>\n",
       "</div>"
      ],
      "text/plain": [
       "   nbPiece  surface   quartier construction     prix nomProprio\n",
       "0        2     20.5  populaire   2012-05-01  60000.0       Toto\n",
       "3        1     15.0      moyen   2000-01-01  30000.0       Lolo"
      ]
     },
     "execution_count": 172,
     "metadata": {},
     "output_type": "execute_result"
    }
   ],
   "source": [
    "\"voyons la sous partie de la dataFrame correspondante\"\n",
    "df.loc[df[\"prix\"]<=100000]"
   ]
  },
  {
   "cell_type": "code",
   "execution_count": 173,
   "metadata": {},
   "outputs": [
    {
     "ename": "ValueError",
     "evalue": "Cannot setitem on a Categorical with a new category, set the categories first",
     "output_type": "error",
     "traceback": [
      "\u001b[0;31m---------------------------------------------------------------------------\u001b[0m",
      "\u001b[0;31mValueError\u001b[0m                                Traceback (most recent call last)",
      "\u001b[0;32m<ipython-input-173-c30298df42c8>\u001b[0m in \u001b[0;36m<module>\u001b[0;34m()\u001b[0m\n\u001b[0;32m----> 1\u001b[0;31m \u001b[0mdf\u001b[0m\u001b[0;34m.\u001b[0m\u001b[0mloc\u001b[0m\u001b[0;34m[\u001b[0m\u001b[0mdf\u001b[0m\u001b[0;34m[\u001b[0m\u001b[0;34m\"prix\"\u001b[0m\u001b[0;34m]\u001b[0m\u001b[0;34m<=\u001b[0m\u001b[0;36m100000\u001b[0m\u001b[0;34m]\u001b[0m\u001b[0;34m=\u001b[0m\u001b[0;36m0\u001b[0m\u001b[0;34m\u001b[0m\u001b[0m\n\u001b[0m\u001b[1;32m      2\u001b[0m \u001b[0mdf\u001b[0m\u001b[0;34m\u001b[0m\u001b[0m\n",
      "\u001b[0;32m/usr/local/lib/python3.6/site-packages/pandas/core/indexing.py\u001b[0m in \u001b[0;36m__setitem__\u001b[0;34m(self, key, value)\u001b[0m\n\u001b[1;32m    187\u001b[0m             \u001b[0mkey\u001b[0m \u001b[0;34m=\u001b[0m \u001b[0mcom\u001b[0m\u001b[0;34m.\u001b[0m\u001b[0m_apply_if_callable\u001b[0m\u001b[0;34m(\u001b[0m\u001b[0mkey\u001b[0m\u001b[0;34m,\u001b[0m \u001b[0mself\u001b[0m\u001b[0;34m.\u001b[0m\u001b[0mobj\u001b[0m\u001b[0;34m)\u001b[0m\u001b[0;34m\u001b[0m\u001b[0m\n\u001b[1;32m    188\u001b[0m         \u001b[0mindexer\u001b[0m \u001b[0;34m=\u001b[0m \u001b[0mself\u001b[0m\u001b[0;34m.\u001b[0m\u001b[0m_get_setitem_indexer\u001b[0m\u001b[0;34m(\u001b[0m\u001b[0mkey\u001b[0m\u001b[0;34m)\u001b[0m\u001b[0;34m\u001b[0m\u001b[0m\n\u001b[0;32m--> 189\u001b[0;31m         \u001b[0mself\u001b[0m\u001b[0;34m.\u001b[0m\u001b[0m_setitem_with_indexer\u001b[0m\u001b[0;34m(\u001b[0m\u001b[0mindexer\u001b[0m\u001b[0;34m,\u001b[0m \u001b[0mvalue\u001b[0m\u001b[0;34m)\u001b[0m\u001b[0;34m\u001b[0m\u001b[0m\n\u001b[0m\u001b[1;32m    190\u001b[0m \u001b[0;34m\u001b[0m\u001b[0m\n\u001b[1;32m    191\u001b[0m     \u001b[0;32mdef\u001b[0m \u001b[0m_validate_key\u001b[0m\u001b[0;34m(\u001b[0m\u001b[0mself\u001b[0m\u001b[0;34m,\u001b[0m \u001b[0mkey\u001b[0m\u001b[0;34m,\u001b[0m \u001b[0maxis\u001b[0m\u001b[0;34m)\u001b[0m\u001b[0;34m:\u001b[0m\u001b[0;34m\u001b[0m\u001b[0m\n",
      "\u001b[0;32m/usr/local/lib/python3.6/site-packages/pandas/core/indexing.py\u001b[0m in \u001b[0;36m_setitem_with_indexer\u001b[0;34m(self, indexer, value)\u001b[0m\n\u001b[1;32m    613\u001b[0m                 \u001b[0;31m# scalar\u001b[0m\u001b[0;34m\u001b[0m\u001b[0;34m\u001b[0m\u001b[0m\n\u001b[1;32m    614\u001b[0m                 \u001b[0;32mfor\u001b[0m \u001b[0mitem\u001b[0m \u001b[0;32min\u001b[0m \u001b[0mlabels\u001b[0m\u001b[0;34m:\u001b[0m\u001b[0;34m\u001b[0m\u001b[0m\n\u001b[0;32m--> 615\u001b[0;31m                     \u001b[0msetter\u001b[0m\u001b[0;34m(\u001b[0m\u001b[0mitem\u001b[0m\u001b[0;34m,\u001b[0m \u001b[0mvalue\u001b[0m\u001b[0;34m)\u001b[0m\u001b[0;34m\u001b[0m\u001b[0m\n\u001b[0m\u001b[1;32m    616\u001b[0m \u001b[0;34m\u001b[0m\u001b[0m\n\u001b[1;32m    617\u001b[0m         \u001b[0;32melse\u001b[0m\u001b[0;34m:\u001b[0m\u001b[0;34m\u001b[0m\u001b[0m\n",
      "\u001b[0;32m/usr/local/lib/python3.6/site-packages/pandas/core/indexing.py\u001b[0m in \u001b[0;36msetter\u001b[0;34m(item, v)\u001b[0m\n\u001b[1;32m    537\u001b[0m                     \u001b[0ms\u001b[0m\u001b[0;34m.\u001b[0m\u001b[0m_consolidate_inplace\u001b[0m\u001b[0;34m(\u001b[0m\u001b[0;34m)\u001b[0m\u001b[0;34m\u001b[0m\u001b[0m\n\u001b[1;32m    538\u001b[0m                     \u001b[0ms\u001b[0m \u001b[0;34m=\u001b[0m \u001b[0ms\u001b[0m\u001b[0;34m.\u001b[0m\u001b[0mcopy\u001b[0m\u001b[0;34m(\u001b[0m\u001b[0;34m)\u001b[0m\u001b[0;34m\u001b[0m\u001b[0m\n\u001b[0;32m--> 539\u001b[0;31m                     \u001b[0ms\u001b[0m\u001b[0;34m.\u001b[0m\u001b[0m_data\u001b[0m \u001b[0;34m=\u001b[0m \u001b[0ms\u001b[0m\u001b[0;34m.\u001b[0m\u001b[0m_data\u001b[0m\u001b[0;34m.\u001b[0m\u001b[0msetitem\u001b[0m\u001b[0;34m(\u001b[0m\u001b[0mindexer\u001b[0m\u001b[0;34m=\u001b[0m\u001b[0mpi\u001b[0m\u001b[0;34m,\u001b[0m \u001b[0mvalue\u001b[0m\u001b[0;34m=\u001b[0m\u001b[0mv\u001b[0m\u001b[0;34m)\u001b[0m\u001b[0;34m\u001b[0m\u001b[0m\n\u001b[0m\u001b[1;32m    540\u001b[0m                     \u001b[0ms\u001b[0m\u001b[0;34m.\u001b[0m\u001b[0m_maybe_update_cacher\u001b[0m\u001b[0;34m(\u001b[0m\u001b[0mclear\u001b[0m\u001b[0;34m=\u001b[0m\u001b[0;32mTrue\u001b[0m\u001b[0;34m)\u001b[0m\u001b[0;34m\u001b[0m\u001b[0m\n\u001b[1;32m    541\u001b[0m \u001b[0;34m\u001b[0m\u001b[0m\n",
      "\u001b[0;32m/usr/local/lib/python3.6/site-packages/pandas/core/internals.py\u001b[0m in \u001b[0;36msetitem\u001b[0;34m(self, **kwargs)\u001b[0m\n\u001b[1;32m   3691\u001b[0m \u001b[0;34m\u001b[0m\u001b[0m\n\u001b[1;32m   3692\u001b[0m     \u001b[0;32mdef\u001b[0m \u001b[0msetitem\u001b[0m\u001b[0;34m(\u001b[0m\u001b[0mself\u001b[0m\u001b[0;34m,\u001b[0m \u001b[0;34m**\u001b[0m\u001b[0mkwargs\u001b[0m\u001b[0;34m)\u001b[0m\u001b[0;34m:\u001b[0m\u001b[0;34m\u001b[0m\u001b[0m\n\u001b[0;32m-> 3693\u001b[0;31m         \u001b[0;32mreturn\u001b[0m \u001b[0mself\u001b[0m\u001b[0;34m.\u001b[0m\u001b[0mapply\u001b[0m\u001b[0;34m(\u001b[0m\u001b[0;34m'setitem'\u001b[0m\u001b[0;34m,\u001b[0m \u001b[0;34m**\u001b[0m\u001b[0mkwargs\u001b[0m\u001b[0;34m)\u001b[0m\u001b[0;34m\u001b[0m\u001b[0m\n\u001b[0m\u001b[1;32m   3694\u001b[0m \u001b[0;34m\u001b[0m\u001b[0m\n\u001b[1;32m   3695\u001b[0m     \u001b[0;32mdef\u001b[0m \u001b[0mputmask\u001b[0m\u001b[0;34m(\u001b[0m\u001b[0mself\u001b[0m\u001b[0;34m,\u001b[0m \u001b[0;34m**\u001b[0m\u001b[0mkwargs\u001b[0m\u001b[0;34m)\u001b[0m\u001b[0;34m:\u001b[0m\u001b[0;34m\u001b[0m\u001b[0m\n",
      "\u001b[0;32m/usr/local/lib/python3.6/site-packages/pandas/core/internals.py\u001b[0m in \u001b[0;36mapply\u001b[0;34m(self, f, axes, filter, do_integrity_check, consolidate, **kwargs)\u001b[0m\n\u001b[1;32m   3579\u001b[0m \u001b[0;34m\u001b[0m\u001b[0m\n\u001b[1;32m   3580\u001b[0m             \u001b[0mkwargs\u001b[0m\u001b[0;34m[\u001b[0m\u001b[0;34m'mgr'\u001b[0m\u001b[0;34m]\u001b[0m \u001b[0;34m=\u001b[0m \u001b[0mself\u001b[0m\u001b[0;34m\u001b[0m\u001b[0m\n\u001b[0;32m-> 3581\u001b[0;31m             \u001b[0mapplied\u001b[0m \u001b[0;34m=\u001b[0m \u001b[0mgetattr\u001b[0m\u001b[0;34m(\u001b[0m\u001b[0mb\u001b[0m\u001b[0;34m,\u001b[0m \u001b[0mf\u001b[0m\u001b[0;34m)\u001b[0m\u001b[0;34m(\u001b[0m\u001b[0;34m**\u001b[0m\u001b[0mkwargs\u001b[0m\u001b[0;34m)\u001b[0m\u001b[0;34m\u001b[0m\u001b[0m\n\u001b[0m\u001b[1;32m   3582\u001b[0m             \u001b[0mresult_blocks\u001b[0m \u001b[0;34m=\u001b[0m \u001b[0m_extend_blocks\u001b[0m\u001b[0;34m(\u001b[0m\u001b[0mapplied\u001b[0m\u001b[0;34m,\u001b[0m \u001b[0mresult_blocks\u001b[0m\u001b[0;34m)\u001b[0m\u001b[0;34m\u001b[0m\u001b[0m\n\u001b[1;32m   3583\u001b[0m \u001b[0;34m\u001b[0m\u001b[0m\n",
      "\u001b[0;32m/usr/local/lib/python3.6/site-packages/pandas/core/internals.py\u001b[0m in \u001b[0;36msetitem\u001b[0;34m(self, indexer, value, mgr)\u001b[0m\n\u001b[1;32m   1932\u001b[0m \u001b[0;34m\u001b[0m\u001b[0m\n\u001b[1;32m   1933\u001b[0m         \u001b[0mcheck_setitem_lengths\u001b[0m\u001b[0;34m(\u001b[0m\u001b[0mindexer\u001b[0m\u001b[0;34m,\u001b[0m \u001b[0mvalue\u001b[0m\u001b[0;34m,\u001b[0m \u001b[0mself\u001b[0m\u001b[0;34m.\u001b[0m\u001b[0mvalues\u001b[0m\u001b[0;34m)\u001b[0m\u001b[0;34m\u001b[0m\u001b[0m\n\u001b[0;32m-> 1934\u001b[0;31m         \u001b[0mself\u001b[0m\u001b[0;34m.\u001b[0m\u001b[0mvalues\u001b[0m\u001b[0;34m[\u001b[0m\u001b[0mindexer\u001b[0m\u001b[0;34m]\u001b[0m \u001b[0;34m=\u001b[0m \u001b[0mvalue\u001b[0m\u001b[0;34m\u001b[0m\u001b[0m\n\u001b[0m\u001b[1;32m   1935\u001b[0m         \u001b[0;32mreturn\u001b[0m \u001b[0mself\u001b[0m\u001b[0;34m\u001b[0m\u001b[0m\n\u001b[1;32m   1936\u001b[0m \u001b[0;34m\u001b[0m\u001b[0m\n",
      "\u001b[0;32m/usr/local/lib/python3.6/site-packages/pandas/core/arrays/categorical.py\u001b[0m in \u001b[0;36m__setitem__\u001b[0;34m(self, key, value)\u001b[0m\n\u001b[1;32m   1980\u001b[0m         \u001b[0;31m# something to np.nan\u001b[0m\u001b[0;34m\u001b[0m\u001b[0;34m\u001b[0m\u001b[0m\n\u001b[1;32m   1981\u001b[0m         \u001b[0;32mif\u001b[0m \u001b[0mlen\u001b[0m\u001b[0;34m(\u001b[0m\u001b[0mto_add\u001b[0m\u001b[0;34m)\u001b[0m \u001b[0;32mand\u001b[0m \u001b[0;32mnot\u001b[0m \u001b[0misna\u001b[0m\u001b[0;34m(\u001b[0m\u001b[0mto_add\u001b[0m\u001b[0;34m)\u001b[0m\u001b[0;34m.\u001b[0m\u001b[0mall\u001b[0m\u001b[0;34m(\u001b[0m\u001b[0;34m)\u001b[0m\u001b[0;34m:\u001b[0m\u001b[0;34m\u001b[0m\u001b[0m\n\u001b[0;32m-> 1982\u001b[0;31m             raise ValueError(\"Cannot setitem on a Categorical with a new \"\n\u001b[0m\u001b[1;32m   1983\u001b[0m                              \"category, set the categories first\")\n\u001b[1;32m   1984\u001b[0m \u001b[0;34m\u001b[0m\u001b[0m\n",
      "\u001b[0;31mValueError\u001b[0m: Cannot setitem on a Categorical with a new category, set the categories first"
     ]
    }
   ],
   "source": [
    "df.loc[df[\"prix\"]<=100000]=\n",
    "df"
   ]
  },
  {
   "cell_type": "markdown",
   "metadata": {},
   "source": [
    "### transformation de variable"
   ]
  },
  {
   "cell_type": "code",
   "execution_count": 136,
   "metadata": {},
   "outputs": [
    {
     "data": {
      "text/html": [
       "<div>\n",
       "<style scoped>\n",
       "    .dataframe tbody tr th:only-of-type {\n",
       "        vertical-align: middle;\n",
       "    }\n",
       "\n",
       "    .dataframe tbody tr th {\n",
       "        vertical-align: top;\n",
       "    }\n",
       "\n",
       "    .dataframe thead th {\n",
       "        text-align: right;\n",
       "    }\n",
       "</style>\n",
       "<table border=\"1\" class=\"dataframe\">\n",
       "  <thead>\n",
       "    <tr style=\"text-align: right;\">\n",
       "      <th></th>\n",
       "      <th>nbPiece</th>\n",
       "      <th>surface</th>\n",
       "      <th>quartier</th>\n",
       "      <th>construction</th>\n",
       "      <th>prix</th>\n",
       "      <th>nomProprio</th>\n",
       "      <th>prixAuM2</th>\n",
       "    </tr>\n",
       "  </thead>\n",
       "  <tbody>\n",
       "    <tr>\n",
       "      <th>0</th>\n",
       "      <td>2</td>\n",
       "      <td>20.5</td>\n",
       "      <td>populaire</td>\n",
       "      <td>2012-05-01</td>\n",
       "      <td>60000.0</td>\n",
       "      <td>Toto</td>\n",
       "      <td>2927.0</td>\n",
       "    </tr>\n",
       "    <tr>\n",
       "      <th>1</th>\n",
       "      <td>3</td>\n",
       "      <td>35.0</td>\n",
       "      <td>populaire</td>\n",
       "      <td>2015-10-03</td>\n",
       "      <td>120000.0</td>\n",
       "      <td>Momo</td>\n",
       "      <td>3429.0</td>\n",
       "    </tr>\n",
       "    <tr>\n",
       "      <th>2</th>\n",
       "      <td>4</td>\n",
       "      <td>NaN</td>\n",
       "      <td>chic</td>\n",
       "      <td>1999-12-21</td>\n",
       "      <td>NaN</td>\n",
       "      <td>Fifi</td>\n",
       "      <td>NaN</td>\n",
       "    </tr>\n",
       "    <tr>\n",
       "      <th>3</th>\n",
       "      <td>1</td>\n",
       "      <td>15.0</td>\n",
       "      <td>moyen</td>\n",
       "      <td>2000-01-01</td>\n",
       "      <td>30000.0</td>\n",
       "      <td>Lolo</td>\n",
       "      <td>2000.0</td>\n",
       "    </tr>\n",
       "    <tr>\n",
       "      <th>4</th>\n",
       "      <td>4</td>\n",
       "      <td>120.0</td>\n",
       "      <td>chic</td>\n",
       "      <td>1969-12-11</td>\n",
       "      <td>200000.0</td>\n",
       "      <td>None</td>\n",
       "      <td>1667.0</td>\n",
       "    </tr>\n",
       "  </tbody>\n",
       "</table>\n",
       "</div>"
      ],
      "text/plain": [
       "   nbPiece  surface   quartier construction      prix nomProprio  prixAuM2\n",
       "0        2     20.5  populaire   2012-05-01   60000.0       Toto    2927.0\n",
       "1        3     35.0  populaire   2015-10-03  120000.0       Momo    3429.0\n",
       "2        4      NaN       chic   1999-12-21       NaN       Fifi       NaN\n",
       "3        1     15.0      moyen   2000-01-01   30000.0       Lolo    2000.0\n",
       "4        4    120.0       chic   1969-12-11  200000.0       None    1667.0"
      ]
     },
     "execution_count": 136,
     "metadata": {},
     "output_type": "execute_result"
    }
   ],
   "source": [
    "\"\"\"ajoutons la variable 'prix au metre carré' \"\"\"\n",
    "df['prixAuM2']=np.round(df.prix/df.surface) # et on voit que pandas et numpy interagissent\n",
    "df"
   ]
  },
  {
   "cell_type": "code",
   "execution_count": 22,
   "metadata": {},
   "outputs": [
    {
     "data": {
      "text/html": [
       "<div>\n",
       "<style scoped>\n",
       "    .dataframe tbody tr th:only-of-type {\n",
       "        vertical-align: middle;\n",
       "    }\n",
       "\n",
       "    .dataframe tbody tr th {\n",
       "        vertical-align: top;\n",
       "    }\n",
       "\n",
       "    .dataframe thead th {\n",
       "        text-align: right;\n",
       "    }\n",
       "</style>\n",
       "<table border=\"1\" class=\"dataframe\">\n",
       "  <thead>\n",
       "    <tr style=\"text-align: right;\">\n",
       "      <th></th>\n",
       "      <th>nbPiece</th>\n",
       "      <th>surface</th>\n",
       "      <th>quartier</th>\n",
       "      <th>construction</th>\n",
       "      <th>prix</th>\n",
       "      <th>nomProprio</th>\n",
       "      <th>prixAuM2</th>\n",
       "      <th>priceDepreciated</th>\n",
       "    </tr>\n",
       "  </thead>\n",
       "  <tbody>\n",
       "    <tr>\n",
       "      <th>0</th>\n",
       "      <td>2</td>\n",
       "      <td>20.5</td>\n",
       "      <td>populaire</td>\n",
       "      <td>2012-05-01</td>\n",
       "      <td>60000.0</td>\n",
       "      <td>Toto</td>\n",
       "      <td>2927.0</td>\n",
       "      <td>43292.5</td>\n",
       "    </tr>\n",
       "    <tr>\n",
       "      <th>1</th>\n",
       "      <td>3</td>\n",
       "      <td>35.0</td>\n",
       "      <td>populaire</td>\n",
       "      <td>2015-10-03</td>\n",
       "      <td>120000.0</td>\n",
       "      <td>Momo</td>\n",
       "      <td>3429.0</td>\n",
       "      <td>113350.0</td>\n",
       "    </tr>\n",
       "    <tr>\n",
       "      <th>2</th>\n",
       "      <td>4</td>\n",
       "      <td>NaN</td>\n",
       "      <td>chic</td>\n",
       "      <td>1999-12-21</td>\n",
       "      <td>NaN</td>\n",
       "      <td>Fifi</td>\n",
       "      <td>NaN</td>\n",
       "      <td>NaN</td>\n",
       "    </tr>\n",
       "    <tr>\n",
       "      <th>3</th>\n",
       "      <td>1</td>\n",
       "      <td>15.0</td>\n",
       "      <td>moyen</td>\n",
       "      <td>2000-01-01</td>\n",
       "      <td>30000.0</td>\n",
       "      <td>Lolo</td>\n",
       "      <td>2000.0</td>\n",
       "      <td>-16005.0</td>\n",
       "    </tr>\n",
       "    <tr>\n",
       "      <th>4</th>\n",
       "      <td>4</td>\n",
       "      <td>120.0</td>\n",
       "      <td>chic</td>\n",
       "      <td>1969-12-11</td>\n",
       "      <td>200000.0</td>\n",
       "      <td>None</td>\n",
       "      <td>1667.0</td>\n",
       "      <td>-826720.0</td>\n",
       "    </tr>\n",
       "  </tbody>\n",
       "</table>\n",
       "</div>"
      ],
      "text/plain": [
       "   nbPiece  surface   quartier construction      prix nomProprio  prixAuM2  priceDepreciated\n",
       "0        2     20.5  populaire   2012-05-01   60000.0       Toto    2927.0           43292.5\n",
       "1        3     35.0  populaire   2015-10-03  120000.0       Momo    3429.0          113350.0\n",
       "2        4      NaN       chic   1999-12-21       NaN       Fifi       NaN               NaN\n",
       "3        1     15.0      moyen   2000-01-01   30000.0       Lolo    2000.0          -16005.0\n",
       "4        4    120.0       chic   1969-12-11  200000.0       None    1667.0         -826720.0"
      ]
     },
     "execution_count": 22,
     "metadata": {},
     "output_type": "execute_result"
    }
   ],
   "source": [
    "\"\"\"ajoutons une variable donnant un prix déprécié en fonction du nombre d'année et de la surface.\n",
    "Comme c'est une opération plus complexe, on utilise une fonction qui agit sur une ligne\"\"\"\n",
    "\n",
    "def priceDepreciatedFunction(line):\n",
    "    dateNow = datetime.date(2016, 10, 17)\n",
    "    buildDate=line['construction']\n",
    "    nbDays=(dateNow - buildDate).days\n",
    "    return line['prix'] - 0.5 * line['surface'] * nbDays\n",
    "\n",
    "\"\"\" Attention :\n",
    "axis=1 -> on applique la fonction ligne par ligne\n",
    "axis=0 -> on applique la fonction colonne par colonne\n",
    "\"\"\"\n",
    "df[\"priceDepreciated\"]=df.apply(priceDepreciatedFunction,axis=1)\n",
    "df"
   ]
  },
  {
   "cell_type": "code",
   "execution_count": 24,
   "metadata": {},
   "outputs": [
    {
     "data": {
      "text/html": [
       "<div>\n",
       "<style scoped>\n",
       "    .dataframe tbody tr th:only-of-type {\n",
       "        vertical-align: middle;\n",
       "    }\n",
       "\n",
       "    .dataframe tbody tr th {\n",
       "        vertical-align: top;\n",
       "    }\n",
       "\n",
       "    .dataframe thead th {\n",
       "        text-align: right;\n",
       "    }\n",
       "</style>\n",
       "<table border=\"1\" class=\"dataframe\">\n",
       "  <thead>\n",
       "    <tr style=\"text-align: right;\">\n",
       "      <th></th>\n",
       "      <th>nbPiece</th>\n",
       "      <th>surface</th>\n",
       "      <th>quartier</th>\n",
       "      <th>construction</th>\n",
       "      <th>prix</th>\n",
       "      <th>nomProprio</th>\n",
       "      <th>prixAuM2</th>\n",
       "      <th>priceDepreciated</th>\n",
       "    </tr>\n",
       "  </thead>\n",
       "  <tbody>\n",
       "    <tr>\n",
       "      <th>0</th>\n",
       "      <td>2</td>\n",
       "      <td>20.5</td>\n",
       "      <td>populaire</td>\n",
       "      <td>2012-05-01</td>\n",
       "      <td>0.06</td>\n",
       "      <td>Toto</td>\n",
       "      <td>2927.0</td>\n",
       "      <td>43.2925</td>\n",
       "    </tr>\n",
       "    <tr>\n",
       "      <th>1</th>\n",
       "      <td>3</td>\n",
       "      <td>35.0</td>\n",
       "      <td>populaire</td>\n",
       "      <td>2015-10-03</td>\n",
       "      <td>0.12</td>\n",
       "      <td>Momo</td>\n",
       "      <td>3429.0</td>\n",
       "      <td>113.3500</td>\n",
       "    </tr>\n",
       "    <tr>\n",
       "      <th>2</th>\n",
       "      <td>4</td>\n",
       "      <td>NaN</td>\n",
       "      <td>chic</td>\n",
       "      <td>1999-12-21</td>\n",
       "      <td>NaN</td>\n",
       "      <td>Fifi</td>\n",
       "      <td>NaN</td>\n",
       "      <td>NaN</td>\n",
       "    </tr>\n",
       "    <tr>\n",
       "      <th>3</th>\n",
       "      <td>1</td>\n",
       "      <td>15.0</td>\n",
       "      <td>moyen</td>\n",
       "      <td>2000-01-01</td>\n",
       "      <td>0.03</td>\n",
       "      <td>Lolo</td>\n",
       "      <td>2000.0</td>\n",
       "      <td>-16.0050</td>\n",
       "    </tr>\n",
       "    <tr>\n",
       "      <th>4</th>\n",
       "      <td>4</td>\n",
       "      <td>120.0</td>\n",
       "      <td>chic</td>\n",
       "      <td>1969-12-11</td>\n",
       "      <td>0.20</td>\n",
       "      <td>None</td>\n",
       "      <td>1667.0</td>\n",
       "      <td>-826.7200</td>\n",
       "    </tr>\n",
       "  </tbody>\n",
       "</table>\n",
       "</div>"
      ],
      "text/plain": [
       "   nbPiece  surface   quartier construction  prix nomProprio  prixAuM2  priceDepreciated\n",
       "0        2     20.5  populaire   2012-05-01  0.06       Toto    2927.0           43.2925\n",
       "1        3     35.0  populaire   2015-10-03  0.12       Momo    3429.0          113.3500\n",
       "2        4      NaN       chic   1999-12-21   NaN       Fifi       NaN               NaN\n",
       "3        1     15.0      moyen   2000-01-01  0.03       Lolo    2000.0          -16.0050\n",
       "4        4    120.0       chic   1969-12-11  0.20       None    1667.0         -826.7200"
      ]
     },
     "execution_count": 24,
     "metadata": {},
     "output_type": "execute_result"
    }
   ],
   "source": [
    "\"\"\"transformons les prix pour qu'ils apparaissent en millier d'euro\"\"\"\n",
    "df[\"prix\"] /= 1000\n",
    "df[\"priceDepreciated\"]/=1000\n",
    "df"
   ]
  },
  {
   "cell_type": "markdown",
   "metadata": {},
   "source": [
    "### Valeurs manquantes"
   ]
  },
  {
   "cell_type": "code",
   "execution_count": 25,
   "metadata": {},
   "outputs": [
    {
     "data": {
      "text/plain": [
       "0    0\n",
       "1    0\n",
       "2    4\n",
       "3    0\n",
       "4    1\n",
       "dtype: int64"
      ]
     },
     "execution_count": 25,
     "metadata": {},
     "output_type": "execute_result"
    }
   ],
   "source": [
    "\"nombre de Nan par ligne\"\n",
    "df.apply(lambda line:sum(line.isnull()),axis=1)"
   ]
  },
  {
   "cell_type": "code",
   "execution_count": 27,
   "metadata": {},
   "outputs": [
    {
     "data": {
      "text/plain": [
       "0    0\n",
       "1    0\n",
       "2    4\n",
       "3    0\n",
       "4    1\n",
       "dtype: int64"
      ]
     },
     "execution_count": 27,
     "metadata": {},
     "output_type": "execute_result"
    }
   ],
   "source": [
    "\"\"\" le mot clef lambda sert à définir une fonction sur une ligne sans lui donner de nom. On aurait aussi pu faire:\"\"\"\n",
    "def fonctionAnonyme(line):\n",
    "    return sum(line.isnull())\n",
    "\n",
    "df.apply(fonctionAnonyme,axis=1)"
   ]
  },
  {
   "cell_type": "code",
   "execution_count": 28,
   "metadata": {},
   "outputs": [
    {
     "data": {
      "text/plain": [
       "nbPiece             0\n",
       "surface             1\n",
       "quartier            0\n",
       "construction        0\n",
       "prix                1\n",
       "nomProprio          1\n",
       "prixAuM2            1\n",
       "priceDepreciated    1\n",
       "dtype: int64"
      ]
     },
     "execution_count": 28,
     "metadata": {},
     "output_type": "execute_result"
    }
   ],
   "source": [
    "\"nombre de Nan par colonne\"\n",
    "df.apply(lambda col: sum(col.isnull()), axis=0)"
   ]
  },
  {
   "cell_type": "code",
   "execution_count": 29,
   "metadata": {},
   "outputs": [
    {
     "data": {
      "text/html": [
       "<div>\n",
       "<style scoped>\n",
       "    .dataframe tbody tr th:only-of-type {\n",
       "        vertical-align: middle;\n",
       "    }\n",
       "\n",
       "    .dataframe tbody tr th {\n",
       "        vertical-align: top;\n",
       "    }\n",
       "\n",
       "    .dataframe thead th {\n",
       "        text-align: right;\n",
       "    }\n",
       "</style>\n",
       "<table border=\"1\" class=\"dataframe\">\n",
       "  <thead>\n",
       "    <tr style=\"text-align: right;\">\n",
       "      <th></th>\n",
       "      <th>nbPiece</th>\n",
       "      <th>surface</th>\n",
       "      <th>quartier</th>\n",
       "      <th>construction</th>\n",
       "      <th>prix</th>\n",
       "      <th>nomProprio</th>\n",
       "      <th>prixAuM2</th>\n",
       "      <th>priceDepreciated</th>\n",
       "    </tr>\n",
       "  </thead>\n",
       "  <tbody>\n",
       "    <tr>\n",
       "      <th>0</th>\n",
       "      <td>2</td>\n",
       "      <td>20.5</td>\n",
       "      <td>populaire</td>\n",
       "      <td>2012-05-01</td>\n",
       "      <td>0.06</td>\n",
       "      <td>Toto</td>\n",
       "      <td>2927.0</td>\n",
       "      <td>43.2925</td>\n",
       "    </tr>\n",
       "    <tr>\n",
       "      <th>1</th>\n",
       "      <td>3</td>\n",
       "      <td>35.0</td>\n",
       "      <td>populaire</td>\n",
       "      <td>2015-10-03</td>\n",
       "      <td>0.12</td>\n",
       "      <td>Momo</td>\n",
       "      <td>3429.0</td>\n",
       "      <td>113.3500</td>\n",
       "    </tr>\n",
       "    <tr>\n",
       "      <th>2</th>\n",
       "      <td>4</td>\n",
       "      <td>120.0</td>\n",
       "      <td>chic</td>\n",
       "      <td>1999-12-21</td>\n",
       "      <td>0.20</td>\n",
       "      <td>Fifi</td>\n",
       "      <td>NaN</td>\n",
       "      <td>NaN</td>\n",
       "    </tr>\n",
       "    <tr>\n",
       "      <th>3</th>\n",
       "      <td>1</td>\n",
       "      <td>15.0</td>\n",
       "      <td>moyen</td>\n",
       "      <td>2000-01-01</td>\n",
       "      <td>0.03</td>\n",
       "      <td>Lolo</td>\n",
       "      <td>2000.0</td>\n",
       "      <td>-16.0050</td>\n",
       "    </tr>\n",
       "    <tr>\n",
       "      <th>4</th>\n",
       "      <td>4</td>\n",
       "      <td>120.0</td>\n",
       "      <td>chic</td>\n",
       "      <td>1969-12-11</td>\n",
       "      <td>0.20</td>\n",
       "      <td>None</td>\n",
       "      <td>1667.0</td>\n",
       "      <td>-826.7200</td>\n",
       "    </tr>\n",
       "  </tbody>\n",
       "</table>\n",
       "</div>"
      ],
      "text/plain": [
       "   nbPiece  surface   quartier construction  prix nomProprio  prixAuM2  priceDepreciated\n",
       "0        2     20.5  populaire   2012-05-01  0.06       Toto    2927.0           43.2925\n",
       "1        3     35.0  populaire   2015-10-03  0.12       Momo    3429.0          113.3500\n",
       "2        4    120.0       chic   1999-12-21  0.20       Fifi       NaN               NaN\n",
       "3        1     15.0      moyen   2000-01-01  0.03       Lolo    2000.0          -16.0050\n",
       "4        4    120.0       chic   1969-12-11  0.20       None    1667.0         -826.7200"
      ]
     },
     "execution_count": 29,
     "metadata": {},
     "output_type": "execute_result"
    }
   ],
   "source": [
    "\"\"\"on remplace les surfaces manquantes par la surface moyenne du quartier correspondant\"\"\"\n",
    "def surfaceNullToMeanOfQuartier(line):\n",
    "    if pd.isnull(line['surface']) : return df.surface[df.quartier==line.quartier].mean() #la méthode mean ne prend pas en compte les Nan\n",
    "    else : return line['surface']\n",
    "\n",
    "df['surface']=df.apply(surfaceNullToMeanOfQuartier,axis=1)\n",
    "\n",
    "\n",
    "\"\"\"on remplace les prix manquants par la surface * le prix moyen par quartier  \"\"\"\n",
    "def prixNullReplacement(line):\n",
    "    if pd.isnull(line.prix):\n",
    "        findQuartier=df.quartier==line.quartier\n",
    "        mean=(df.prix[findQuartier]/df.surface[findQuartier]).mean()\n",
    "        return mean* line.surface\n",
    "    else : return line.prix\n",
    "\n",
    "df.prix=df.apply(prixNullReplacement,axis=1)\n",
    "\"\"\"et voilà le travail\"\"\"\n",
    "df"
   ]
  },
  {
   "cell_type": "markdown",
   "metadata": {},
   "source": [
    "## Uniquement le contenu"
   ]
  },
  {
   "cell_type": "code",
   "execution_count": 30,
   "metadata": {},
   "outputs": [
    {
     "name": "stdout",
     "output_type": "stream",
     "text": [
      "nbPiece 0 2\n",
      "nbPiece 1 3\n",
      "nbPiece 2 4\n",
      "nbPiece 3 1\n",
      "nbPiece 4 4\n",
      "surface 0 20.5\n",
      "surface 1 35.0\n",
      "surface 2 120.0\n",
      "surface 3 15.0\n",
      "surface 4 120.0\n",
      "quartier 0 populaire\n",
      "quartier 1 populaire\n",
      "quartier 2 chic\n",
      "quartier 3 moyen\n",
      "quartier 4 chic\n",
      "construction 0 2012-05-01\n",
      "construction 1 2015-10-03\n",
      "construction 2 1999-12-21\n",
      "construction 3 2000-01-01\n",
      "construction 4 1969-12-11\n",
      "prix 0 0.06\n",
      "prix 1 0.12\n",
      "prix 2 0.2\n",
      "prix 3 0.03\n",
      "prix 4 0.2\n",
      "nomProprio 0 Toto\n",
      "nomProprio 1 Momo\n",
      "nomProprio 2 Fifi\n",
      "nomProprio 3 Lolo\n",
      "nomProprio 4 None\n",
      "prixAuM2 0 2927.0\n",
      "prixAuM2 1 3429.0\n",
      "prixAuM2 2 nan\n",
      "prixAuM2 3 2000.0\n",
      "prixAuM2 4 1667.0\n",
      "priceDepreciated 0 43.2925\n",
      "priceDepreciated 1 113.35\n",
      "priceDepreciated 2 nan\n",
      "priceDepreciated 3 -16.005\n",
      "priceDepreciated 4 -826.72\n"
     ]
    }
   ],
   "source": [
    "\"\"\"effectuons une double boucle sur la dataFrame. Notez encore la di-symétrie entre ligne et colonnes\"\"\"\n",
    "for col in df.columns.values:\n",
    "    for lin in df.index:\n",
    "        print(col,lin,df.loc[lin,col])"
   ]
  },
  {
   "cell_type": "code",
   "execution_count": 31,
   "metadata": {},
   "outputs": [
    {
     "data": {
      "text/html": [
       "<div>\n",
       "<style scoped>\n",
       "    .dataframe tbody tr th:only-of-type {\n",
       "        vertical-align: middle;\n",
       "    }\n",
       "\n",
       "    .dataframe tbody tr th {\n",
       "        vertical-align: top;\n",
       "    }\n",
       "\n",
       "    .dataframe thead th {\n",
       "        text-align: right;\n",
       "    }\n",
       "</style>\n",
       "<table border=\"1\" class=\"dataframe\">\n",
       "  <thead>\n",
       "    <tr style=\"text-align: right;\">\n",
       "      <th></th>\n",
       "      <th>prix</th>\n",
       "      <th>nbPiece</th>\n",
       "      <th>surface</th>\n",
       "      <th>quartier</th>\n",
       "    </tr>\n",
       "  </thead>\n",
       "  <tbody>\n",
       "    <tr>\n",
       "      <th>0</th>\n",
       "      <td>0.06</td>\n",
       "      <td>2</td>\n",
       "      <td>20.5</td>\n",
       "      <td>populaire</td>\n",
       "    </tr>\n",
       "    <tr>\n",
       "      <th>1</th>\n",
       "      <td>0.12</td>\n",
       "      <td>3</td>\n",
       "      <td>35.0</td>\n",
       "      <td>populaire</td>\n",
       "    </tr>\n",
       "    <tr>\n",
       "      <th>2</th>\n",
       "      <td>0.20</td>\n",
       "      <td>4</td>\n",
       "      <td>120.0</td>\n",
       "      <td>chic</td>\n",
       "    </tr>\n",
       "    <tr>\n",
       "      <th>3</th>\n",
       "      <td>0.03</td>\n",
       "      <td>1</td>\n",
       "      <td>15.0</td>\n",
       "      <td>moyen</td>\n",
       "    </tr>\n",
       "    <tr>\n",
       "      <th>4</th>\n",
       "      <td>0.20</td>\n",
       "      <td>4</td>\n",
       "      <td>120.0</td>\n",
       "      <td>chic</td>\n",
       "    </tr>\n",
       "  </tbody>\n",
       "</table>\n",
       "</div>"
      ],
      "text/plain": [
       "   prix  nbPiece  surface   quartier\n",
       "0  0.06        2     20.5  populaire\n",
       "1  0.12        3     35.0  populaire\n",
       "2  0.20        4    120.0       chic\n",
       "3  0.03        1     15.0      moyen\n",
       "4  0.20        4    120.0       chic"
      ]
     },
     "execution_count": 31,
     "metadata": {},
     "output_type": "execute_result"
    }
   ],
   "source": [
    "\"\"\" Maintenant, nous transformons une partie de notre dataFrame en un brave tableau numpy numérique :\n",
    " on supprimer l'index, le nom des colonnes et l'on transforme les noms de catégories en numéro\"\"\"\n",
    "\n",
    "df2=df.loc[:,[\"prix\",\"nbPiece\",\"surface\",\"quartier\"]]\n",
    "#attention, pour ne pas avoir de bug plus loin, ne pas faire :\n",
    "#df2=df[[\"prix\",\"nbPiece\",\"surface\",\"quartier\"]]\n",
    "df2"
   ]
  },
  {
   "cell_type": "code",
   "execution_count": 32,
   "metadata": {},
   "outputs": [
    {
     "data": {
      "text/html": [
       "<div>\n",
       "<style scoped>\n",
       "    .dataframe tbody tr th:only-of-type {\n",
       "        vertical-align: middle;\n",
       "    }\n",
       "\n",
       "    .dataframe tbody tr th {\n",
       "        vertical-align: top;\n",
       "    }\n",
       "\n",
       "    .dataframe thead th {\n",
       "        text-align: right;\n",
       "    }\n",
       "</style>\n",
       "<table border=\"1\" class=\"dataframe\">\n",
       "  <thead>\n",
       "    <tr style=\"text-align: right;\">\n",
       "      <th></th>\n",
       "      <th>prix</th>\n",
       "      <th>nbPiece</th>\n",
       "      <th>surface</th>\n",
       "      <th>quartier</th>\n",
       "    </tr>\n",
       "  </thead>\n",
       "  <tbody>\n",
       "    <tr>\n",
       "      <th>0</th>\n",
       "      <td>0.06</td>\n",
       "      <td>2</td>\n",
       "      <td>20.5</td>\n",
       "      <td>0</td>\n",
       "    </tr>\n",
       "    <tr>\n",
       "      <th>1</th>\n",
       "      <td>0.12</td>\n",
       "      <td>3</td>\n",
       "      <td>35.0</td>\n",
       "      <td>0</td>\n",
       "    </tr>\n",
       "    <tr>\n",
       "      <th>2</th>\n",
       "      <td>0.20</td>\n",
       "      <td>4</td>\n",
       "      <td>120.0</td>\n",
       "      <td>2</td>\n",
       "    </tr>\n",
       "    <tr>\n",
       "      <th>3</th>\n",
       "      <td>0.03</td>\n",
       "      <td>1</td>\n",
       "      <td>15.0</td>\n",
       "      <td>1</td>\n",
       "    </tr>\n",
       "    <tr>\n",
       "      <th>4</th>\n",
       "      <td>0.20</td>\n",
       "      <td>4</td>\n",
       "      <td>120.0</td>\n",
       "      <td>2</td>\n",
       "    </tr>\n",
       "  </tbody>\n",
       "</table>\n",
       "</div>"
      ],
      "text/plain": [
       "   prix  nbPiece  surface  quartier\n",
       "0  0.06        2     20.5         0\n",
       "1  0.12        3     35.0         0\n",
       "2  0.20        4    120.0         2\n",
       "3  0.03        1     15.0         1\n",
       "4  0.20        4    120.0         2"
      ]
     },
     "execution_count": 32,
     "metadata": {},
     "output_type": "execute_result"
    }
   ],
   "source": [
    "\"\"\" transformons une variable qualitative en un indice la représentant.   \"\"\"\n",
    "df2[\"quartier\"]=df2[\"quartier\"].map({\"populaire\":0, \"chic\":2, \"moyen\":1})\n",
    "df2"
   ]
  },
  {
   "cell_type": "code",
   "execution_count": 34,
   "metadata": {},
   "outputs": [
    {
     "name": "stdout",
     "output_type": "stream",
     "text": [
      "<class 'numpy.ndarray'>\n",
      "[[  0.06   2.    20.5    0.  ]\n",
      " [  0.12   3.    35.     0.  ]\n",
      " [  0.2    4.   120.     2.  ]\n",
      " [  0.03   1.    15.     1.  ]\n",
      " [  0.2    4.   120.     2.  ]]\n"
     ]
    }
   ],
   "source": [
    "\"\"\" transformons notre dataFrame en une simple matrice numpy  \"\"\"\n",
    "mat=df2.values\n",
    "print(type(mat))\n",
    "print(mat)"
   ]
  },
  {
   "cell_type": "markdown",
   "metadata": {},
   "source": [
    "une fois que l'on aura supprimer les nan, on pourra utiliser \n",
    "cette matrice pour faire une regression linéaire par exemple (ils faudra faire quelque chose pour traiter la variable qualitative)."
   ]
  },
  {
   "cell_type": "markdown",
   "metadata": {},
   "source": [
    "Pour faire du traitement de donnée, la technique de travail que je conseille est la suivante :\n",
    "\n",
    "* 1/ Effectuer tout le nettoyage des données (remplacement des nan), les statistiques descriptives, la transformation de certaines variable \n",
    "(ex: passage au log) avec pandas et ses dataFrame.\n",
    "* 2/ Effectuer les taches d'apprentissages statistique à partir de tableau numpy; en utilisant sklearn, statmodel ou bien vos propres outils. \n",
    "\n",
    "On peut faire manger aux outils d'apprentissages statistiques  des dataFrame pandas mais c'est dangereux ; \n",
    "par exemple, si on ne prend pas garde, on risque de considérer l'index comme une variable explicative! "
   ]
  },
  {
   "cell_type": "code",
   "execution_count": null,
   "metadata": {},
   "outputs": [],
   "source": []
  }
 ],
 "metadata": {
  "kernelspec": {
   "display_name": "Python 3",
   "language": "python",
   "name": "python3"
  },
  "language_info": {
   "codemirror_mode": {
    "name": "ipython",
    "version": 3
   },
   "file_extension": ".py",
   "mimetype": "text/x-python",
   "name": "python",
   "nbconvert_exporter": "python",
   "pygments_lexer": "ipython3",
   "version": "3.6.5"
  }
 },
 "nbformat": 4,
 "nbformat_minor": 2
}
