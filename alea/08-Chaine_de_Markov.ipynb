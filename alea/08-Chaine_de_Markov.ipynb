{
 "cells": [
  {
   "cell_type": "markdown",
   "metadata": {},
   "source": [
    "# Chaine de Markov"
   ]
  },
  {
   "cell_type": "code",
   "execution_count": 2,
   "metadata": {},
   "outputs": [],
   "source": [
    "import numpy as np\n",
    "import matplotlib.pyplot as plt\n",
    "%matplotlib inline\n",
    "np.set_printoptions(precision=3,suppress=True)"
   ]
  },
  {
   "cell_type": "markdown",
   "metadata": {},
   "source": [
    "## Préliminaires d'algèbre linéaire\n",
    "\n",
    "Attention, en numpy les vecteurs, les matrices lignes et les matrices colonnes sont des objets différents:\n",
    "\n",
    "* vecteur.shape = (?)\n",
    "* matrice_ligne.shape = (1,?)\n",
    "* matrice_colonne.shape = (?,1)\n",
    "* matrice_quelconque.shape = (?,?)\n",
    "\n",
    "Observez bien les sorties consoles: les vecteur s'écrivent avec 1 crochet, les matrices avec 2 crochets.\n",
    "\n"
   ]
  },
  {
   "cell_type": "markdown",
   "metadata": {},
   "source": [
    "### Multiplication matricielle\n",
    "\n",
    "`np.matmul()` s'applique uniquement entre matrices."
   ]
  },
  {
   "cell_type": "code",
   "execution_count": 3,
   "metadata": {},
   "outputs": [
    {
     "name": "stdout",
     "output_type": "stream",
     "text": [
      "\n",
      "mat_col\n",
      " [[1.]\n",
      " [1.]\n",
      " [1.]]\n",
      "\n",
      "mat_lin\n",
      " [[1. 1. 1.]]\n",
      "\n",
      "mat_square\n",
      " [[1. 1. 1.]\n",
      " [1. 1. 1.]\n",
      " [1. 1. 1.]]\n",
      "\n",
      "mat_square × mat_col\n",
      " [[3.]\n",
      " [3.]\n",
      " [3.]]\n",
      "\n",
      "mat_lin × mat_square\n",
      " [[3. 3. 3.]]\n",
      "\n",
      "mat_lin × mat_square × mat_col\n",
      " [[9.]]\n"
     ]
    }
   ],
   "source": [
    "size=3\n",
    "mat_col=np.ones(shape=[size,1])\n",
    "mat_lin=np.ones(shape=[1,size])\n",
    "mat_square=np.ones(shape=[size,size])\n",
    "\n",
    "print(\"\\nmat_col\\n\",mat_col)\n",
    "print(\"\\nmat_lin\\n\",mat_lin)\n",
    "print(\"\\nmat_square\\n\",mat_square)\n",
    "\n",
    "print(\"\\nmat_square × mat_col\\n\",np.matmul(mat_square,mat_col) )\n",
    "print(\"\\nmat_lin × mat_square\\n\",np.matmul(mat_lin,mat_square))\n",
    "print(\"\\nmat_lin × mat_square × mat_col\\n\", np.matmul(np.matmul(mat_lin,mat_square),mat_col))\n"
   ]
  },
  {
   "cell_type": "markdown",
   "metadata": {},
   "source": [
    "sinon on peut utiliser `np.dot()` qui permet les multiplications matrice × vecteur, matrice × matrice, vecteur ×  vecteur (=produit scalaire)"
   ]
  },
  {
   "cell_type": "code",
   "execution_count": 4,
   "metadata": {},
   "outputs": [
    {
     "name": "stdout",
     "output_type": "stream",
     "text": [
      "\n",
      "vec0 × vec1\n",
      " 6.0\n",
      "\n",
      "vec0 × mat_square\n",
      " [3. 3. 3.]\n",
      "\n",
      "mat_square × vec0\n",
      " [3. 3. 3.]\n",
      "\n",
      "mat_square × mat_square\n",
      " [[3. 3. 3.]\n",
      " [3. 3. 3.]\n",
      " [3. 3. 3.]]\n"
     ]
    }
   ],
   "source": [
    "size=3\n",
    "vec0=np.ones(shape=[size])\n",
    "vec1=2*np.ones(shape=[size])\n",
    "mat_square=np.ones(shape=[size,size])\n",
    "\n",
    "print(\"\\nvec0 × vec1\\n\",np.dot(vec0,vec1))\n",
    "print(\"\\nvec0 × mat_square\\n\",np.dot(vec0,mat_square))\n",
    "print(\"\\nmat_square × vec0\\n\",np.dot(mat_square,vec0))\n",
    "print(\"\\nmat_square × mat_square\\n\",np.dot(mat_square,mat_square))"
   ]
  },
  {
   "cell_type": "markdown",
   "metadata": {},
   "source": [
    "et si vous avez python 3.5+, vous pouvez utilisez l'opérateur @ qui rend les codes plus lisible"
   ]
  },
  {
   "cell_type": "code",
   "execution_count": 5,
   "metadata": {},
   "outputs": [
    {
     "name": "stdout",
     "output_type": "stream",
     "text": [
      "\n",
      "vec0 × vec1\n",
      " 6.0\n",
      "\n",
      "vec0 × mat_square\n",
      " [3. 3. 3.]\n",
      "\n",
      "mat_square × vec0\n",
      " [3. 3. 3.]\n",
      "\n",
      "mat_square × mat_square\n",
      " [[3. 3. 3.]\n",
      " [3. 3. 3.]\n",
      " [3. 3. 3.]]\n"
     ]
    }
   ],
   "source": [
    "print(\"\\nvec0 × vec1\\n\",vec0 @ vec1)\n",
    "print(\"\\nvec0 × mat_square\\n\",vec0 @ mat_square)\n",
    "print(\"\\nmat_square × vec0\\n\",mat_square @ vec0)\n",
    "print(\"\\nmat_square × mat_square\\n\",mat_square @  mat_square)"
   ]
  },
  {
   "cell_type": "markdown",
   "metadata": {},
   "source": [
    "***Exo:*** Multipliez matriciellement des matrices de taille non-compatible.\n",
    "Extrayez la partie intéressante du message d'erreur."
   ]
  },
  {
   "cell_type": "markdown",
   "metadata": {},
   "source": [
    "### inverse et transposée \n",
    "\n",
    "Notez que le pseudo-inverse permet d'inverser les matrices non-inversibles (testez). "
   ]
  },
  {
   "cell_type": "code",
   "execution_count": 6,
   "metadata": {},
   "outputs": [
    {
     "name": "stdout",
     "output_type": "stream",
     "text": [
      "\n",
      "mat\n",
      " [[1. 0. 2.]\n",
      " [0. 1. 0.]\n",
      " [0. 0. 1.]]\n",
      "\n",
      "mat^T\n",
      " [[1. 0. 0.]\n",
      " [0. 1. 0.]\n",
      " [2. 0. 1.]]\n",
      "\n",
      "mat^(-1)\n",
      " [[ 1.  0. -2.]\n",
      " [ 0.  1.  0.]\n",
      " [ 0.  0.  1.]]\n",
      "\n",
      "mat^(-1)-pseudo-inverse\n",
      " [[ 1.  0. -2.]\n",
      " [ 0.  1.  0.]\n",
      " [ 0.  0.  1.]]\n"
     ]
    }
   ],
   "source": [
    "size=3\n",
    "mat=np.zeros(shape=[size,size])\n",
    "for i in range(size):\n",
    "    mat[i,i]=1\n",
    "mat[0,size-1]=2\n",
    "\n",
    "\n",
    "print(\"\\nmat\\n\",mat )\n",
    "print(\"\\nmat^T\\n\",mat.T)\n",
    "print(\"\\nmat^(-1)\\n\",np.linalg.inv(mat))\n",
    "print(\"\\nmat^(-1)-pseudo-inverse\\n\",np.linalg.pinv(mat))"
   ]
  },
  {
   "cell_type": "markdown",
   "metadata": {},
   "source": [
    "### vecteur propre et valeur propre\n",
    "\n",
    "Souvenez-vous qu'en anglais valeur/vecteur 'propre' c'est 'eigen' value/vector"
   ]
  },
  {
   "cell_type": "code",
   "execution_count": 7,
   "metadata": {},
   "outputs": [
    {
     "name": "stdout",
     "output_type": "stream",
     "text": [
      "\n",
      "mat\n",
      " [[0.3   0.141 0.374 0.186]\n",
      " [0.303 0.297 0.205 0.195]\n",
      " [0.281 0.384 0.116 0.219]\n",
      " [0.173 0.284 0.01  0.534]]\n",
      "\n",
      "eigVal\n",
      " [ 1.     0.327 -0.04  -0.04 ]\n",
      "\n",
      "eigVec\n",
      " [[ 0.5    0.359 -0.765 -0.765]\n",
      " [ 0.5    0.361  0.302  0.302]\n",
      " [ 0.5    0.293  0.546  0.546]\n",
      " [ 0.5   -0.81   0.073  0.073]]\n"
     ]
    }
   ],
   "source": [
    "size=4\n",
    "\"\"\"une matrice aléatoire auquel on fait subir une opération de normalisation (laquelle?)\"\"\"\n",
    "mat=np.random.uniform(low=0,high=10,size=[size,size])\n",
    "rowSum=np.sum(mat,axis=1)\n",
    "\"\"\" mat[i,j]=mat[i,j]/rowSum(i)  \"\"\"\n",
    "for i in range(size): mat[i,:]/=rowSum[i]\n",
    "\n",
    "eigVal,eigVec=np.linalg.eig(mat)\n",
    "print(\"\\nmat\\n\", mat )\n",
    "print(\"\\neigVal\\n\",np.real(eigVal))\n",
    "print(\"\\neigVec\\n\", np.real(eigVec))"
   ]
  },
  {
   "cell_type": "markdown",
   "metadata": {},
   "source": [
    "***A vous:*** \n",
    "\n",
    "* Pourquoi 1 est-il valeur propre ? Quel est le vecteur propre associé? `np.linalg.eig` donne-t-il les vecteurs propres à droite ou à gauche? Sont-ils disposés en ligne ou bien en colonne?\n",
    "\n",
    "* Toutes les matrices sont-elles diagonalisables?  A quoi servent les np.real()?  \n",
    "\n",
    "* laquelle de ces deux formules est la bonne ?\n",
    "\n",
    "        Diag = P^-1 @ mat @ P   \n",
    "\n",
    "ou\n",
    "\n",
    "        Diag = P @ mat @ P^-1\n",
    "        \n",
    "Vérifiez avec python. Aide: Pour transformez un vecteur en matrice diagonale, utilisez `np.diag(vecteur)`"
   ]
  },
  {
   "cell_type": "markdown",
   "metadata": {},
   "source": [
    "Attention, lorsqu'on part d'une matrice symétrique (ou hermitienne), pour obtenir la diagonalisation dans une base othornormale il faut utiliser `np.linalg.eigh` (h-comme hermitienne). Vérifiez-le!\n"
   ]
  },
  {
   "cell_type": "markdown",
   "metadata": {},
   "source": [
    "## Définition intuitive d'une chaine de Markov"
   ]
  },
  {
   "cell_type": "markdown",
   "metadata": {},
   "source": [
    "On considère un ensemble dénombrable $E$ : l'ensemble des \"états\". Par exemple   $E=\\{0,1,2,3,4,5\\}$.      On considère aussi que les éléments de $E$ sont des sommets d'un graphes, dont les flèches sont pondérées.  \n",
    "\n",
    "![graph_ponder](./img/graph_ponder.png)\n",
    "\n",
    "Une chaine de Markov $t\\to X_t$  est un processus aléatoire qui se ballade en suivant le graphe. Au temps $t=0$ elle se trouve en une sommet $X_0$ donnée.  Si au temps $t$ elle se trouve en $X_t$, elle tire une des fléches partant de $X_t$,  avec une probabilités proportionnelle aux pondérations, et elle suit cette flèche pour arriver à un nouvel état $X_{t+1}$\n",
    "\n",
    "***Remarque:***  Ici, les étiquettes que l'on a mis sur les états n'ont aucune importance. On aurait pu tout aussi bien prendre $E=\\{A,B,C,E,D,F\\}$. Dans les exemple suivants, le fait que les indexes soient des entiers aura son importance.   "
   ]
  },
  {
   "cell_type": "code",
   "execution_count": 8,
   "metadata": {},
   "outputs": [
    {
     "name": "stdout",
     "output_type": "stream",
     "text": [
      "[[0.    0.    0.    1.    0.    0.   ]\n",
      " [1.    0.    0.    0.    0.    0.   ]\n",
      " [0.    1.    0.    0.    0.    0.   ]\n",
      " [0.    0.6   0.    0.    0.4   0.   ]\n",
      " [0.    0.244 0.024 0.    0.    0.732]\n",
      " [0.    0.    1.    0.    0.    0.   ]]\n"
     ]
    }
   ],
   "source": [
    "def premier_chaine():\n",
    "    P=np.zeros([6,6])\n",
    "    P[0,3]=4\n",
    "    P[1,0]=2.1\n",
    "    P[2,1]=2.5\n",
    "    P[3,1]=3\n",
    "    P[3,4]=2\n",
    "    P[4,1]=2\n",
    "    P[4,2]=0.2\n",
    "    P[4,5]=6\n",
    "    P[5,2]=7.3\n",
    "    sumLine=np.sum(P,axis=1)\n",
    "    \"\"\" P[i,j]=P[i,j]/sumLine[i] \"\"\"\n",
    "    P/=np.expand_dims(sumLine,axis=1)\n",
    "    return P\n",
    "\n",
    "print(premier_chaine())"
   ]
  },
  {
   "cell_type": "code",
   "execution_count": 9,
   "metadata": {},
   "outputs": [
    {
     "ename": "NameError",
     "evalue": "name 'P' is not defined",
     "output_type": "error",
     "traceback": [
      "\u001b[0;31m---------------------------------------------------------------------------\u001b[0m",
      "\u001b[0;31mNameError\u001b[0m                                 Traceback (most recent call last)",
      "\u001b[0;32m<ipython-input-9-bd1f8039b661>\u001b[0m in \u001b[0;36m<module>\u001b[0;34m()\u001b[0m\n\u001b[1;32m      8\u001b[0m \u001b[0;34m\u001b[0m\u001b[0m\n\u001b[1;32m      9\u001b[0m \u001b[0mt_max\u001b[0m\u001b[0;34m=\u001b[0m\u001b[0;36m300\u001b[0m\u001b[0;34m\u001b[0m\u001b[0m\n\u001b[0;32m---> 10\u001b[0;31m \u001b[0mX\u001b[0m\u001b[0;34m=\u001b[0m\u001b[0mmarkov_from_P\u001b[0m\u001b[0;34m(\u001b[0m\u001b[0mt_max\u001b[0m\u001b[0;34m,\u001b[0m\u001b[0mP\u001b[0m\u001b[0;34m,\u001b[0m\u001b[0;36m3\u001b[0m\u001b[0;34m)\u001b[0m\u001b[0;34m\u001b[0m\u001b[0m\n\u001b[0m\u001b[1;32m     11\u001b[0m \u001b[0mplt\u001b[0m\u001b[0;34m.\u001b[0m\u001b[0mfigure\u001b[0m\u001b[0;34m(\u001b[0m\u001b[0mfigsize\u001b[0m\u001b[0;34m=\u001b[0m\u001b[0;34m(\u001b[0m\u001b[0;36m20\u001b[0m\u001b[0;34m,\u001b[0m\u001b[0;36m3\u001b[0m\u001b[0;34m)\u001b[0m\u001b[0;34m)\u001b[0m\u001b[0;34m\u001b[0m\u001b[0m\n\u001b[1;32m     12\u001b[0m \u001b[0mplt\u001b[0m\u001b[0;34m.\u001b[0m\u001b[0mplot\u001b[0m\u001b[0;34m(\u001b[0m\u001b[0mrange\u001b[0m\u001b[0;34m(\u001b[0m\u001b[0mt_max\u001b[0m\u001b[0;34m)\u001b[0m\u001b[0;34m,\u001b[0m\u001b[0mX\u001b[0m\u001b[0;34m)\u001b[0m\u001b[0;34m;\u001b[0m\u001b[0;34m\u001b[0m\u001b[0m\n",
      "\u001b[0;31mNameError\u001b[0m: name 'P' is not defined"
     ]
    }
   ],
   "source": [
    "def markov_from_P(t_max,P,x0):\n",
    "    X=np.zeros(t_max,dtype=np.int)\n",
    "    X[0]=x0\n",
    "    for t in range(t_max-1):\n",
    "        X[t+1]=np.random.choice(a=range(len(P)),p=P[X[t],:])\n",
    "    return X\n",
    "\n",
    "\n",
    "t_max=300\n",
    "X=markov_from_P(t_max,P,3)\n",
    "plt.figure(figsize=(20,3))\n",
    "plt.plot(range(t_max),X);\n",
    "plt.grid()\n",
    "\n"
   ]
  },
  {
   "cell_type": "markdown",
   "metadata": {},
   "source": [
    "## Exemples: Marches aléatoires\n",
    "\n",
    "Les marches aléatoire sont des chaines de Markov qui possède en plus une certaine invariance en espace.  Donnons 3 exemples :\n",
    "\n",
    "\n",
    "\n",
    "* La marche aléatoire simple sur $E=\\mathbb Z$: elle monde de 1 ou descend de 1 avec proba $\\frac 12$.   \n",
    "\n",
    "* marche aléatoire non-simple: elles montent et descendent selon une loi donnée (pas forcément portée par {-1,+1}). Par exemple les sauts possibles sont {+1,+2,-1} avec proba {1/3,1/3,1/3}, quelle sera d'après vous la destination de cette marche aléatoire\n",
    "\n",
    "\n",
    "* La marche aléatoire simple absorbée sur $E=\\{0,1,...,n-1\\}$. Elle monte ou descent avec proba $\\frac 12$. Une fois arrivée en $0$ ou en $n-1$, elle reste dans ces états. \n",
    "\n",
    "*  La marche aléatoire simple réfléchie sur $E=\\{0,1,...,n-1\\}$. Elle monte ou descent avec proba $\\frac 12$. Une fois arrivée en $0$ elle monte en 1,  une fois arrivée en $n-1$ elle descent en $n-2$.  \n",
    "\n",
    "\n",
    "\n",
    "***A vous:*** Simulez ces marché aléatoire. pour les marches sur $E=\\{0,1,...,n-1\\}$, utilisez la technique précédente qui utilise `np.random.choice`. Pour les marches sur $\\mathbb Z$, inventez une technique.  \n",
    "\n",
    "\n",
    "***Généralisation:*** On peut aussi imaginez des marches sur $\\mathbb R$ (par exemple qui saute selon des loi gaussiennes). Mais cela sort du cadre classique. \n"
   ]
  },
  {
   "cell_type": "markdown",
   "metadata": {},
   "source": [
    "## Formalisation\n",
    "\n",
    "***Définition*** Une chaine de Markov générale est une fonction  aléatoire (=un processus) $t \\to X_t$ qui prend en $t=0$ une valeur $X_0$ donnée (possiblement aléatoire) et qui ensuite est régie par l'équation:\n",
    "$$\n",
    "X_{t+1} = f_{t+1} (X_t, U_{t+1})   \n",
    "$$\n",
    "avec \n",
    "* f_{t+1} fonction\n",
    "* U_{t+1} v.a indépendante de tous les tirages aléatoires précédents, à savoir $X_0, U_1,U_2,...,U_t$. \n",
    "\n",
    "Si de plus, les $f_t$ sont toutes les même, on parle de chaine de Markov homogène dans le temps. La plupart du temps, le terme \"chaines de Markov\" sous entend  \"homogène dans le temps\". \n",
    "\n",
    "\n",
    "\n",
    "\n",
    "### Propriété fondamentale\n",
    "\n",
    "\n",
    "***Théorème:***  Considérons $t\\to X_t$ une chaine de Markov générale.  La loi  de $X_{t+1}$ est indépendante de $X_{0},...,X_{t-1}$ sachant $X_t$:\n",
    "$$\n",
    "\\mathbf P[X_{t+1} = x_{t+1} /X_t = x_t ,  X_{t-1}=x_{t-1} ,..., X_{0}=x_0  ] =    \\mathbf P[X_{t+1} = x_{t+1} /X_t = x_t   ]  \n",
    "$$\n",
    "Si de plus elle est homogène alors\n",
    "$$\n",
    "\\mathbf P[X_{t+1} = y /X_t = x   ] = \\mathbf P[X_{1} = y /X_0 = x   ] \n",
    "$$\n",
    "\n",
    "\n",
    "Ce théorème admet une réciproque: si un processus $(X_t)$ satisfait la première équation (resp. et la seconde) alors c'est une chaine de Markov (resp. homogène dans le temps).\n",
    "\n",
    "\n",
    "Attention: dans les livres de maths, on utilise la propriété d'indépendance conditionnelle pour définir une chaine de Markov. La définition que j'ai choisi est plus proche de la pratique: les chaines de Markov étant toujours construite à l'aide d'une l'équation $X_{t+1} = f_{t+1} (X_t, U_{t+1}) $ plus ou moins cachée. Par exemple, dans le programme précédent:\n",
    "\n",
    "    X[t+1]=np.random.choice(a=range(6),p=P[X[t],:])\n",
    "          = fonction(X[t], rand() )\n",
    "          \n",
    "où la fonction `rand()` symbolise l'appel du générateur aléatoire de notre ordinateur. Chaque appelle donnant un réel aléatoire uniforme sur `[0,1]` indépendant de tout les tirages précédent. \n",
    "\n",
    "\n"
   ]
  },
  {
   "cell_type": "markdown",
   "metadata": {},
   "source": [
    "## Probabilité/mesure invariante"
   ]
  },
  {
   "cell_type": "markdown",
   "metadata": {},
   "source": [
    "On appelle mesure invariante une probabilité  $\\pi$ sur $E$ vérifiant $\\pi P=\\pi$. Elle satisfait donc le système linéaire:\n",
    "\n",
    "$$\n",
    "\\forall x\\in E :  \\sum_x \\pi(x) P(x,y) = \\pi(x)\n",
    "$$\n",
    "Si de plus $\\pi$ vérifie $\\sum_{x\\in E} \\pi(x)=1$ alors on parle de probabilité invariante.\n",
    "\n",
    "***Théorème:*** Il existe toujours une mesure invariante. \n",
    "\n",
    "***Corrolaire:*** Quand $E$ est fini, il existe toujours une probabilité invariante: il suffit de renormaliser une mesure invariante $\\pi$, en la divisant par sa passe totale $\\sum_x \\pi(x)$. \n",
    "\n",
    "***A vous:***\n",
    "\n",
    "* Reconsidérons la marche aléatoire simple sur $\\mathbb Z$. Donnez une mesure invariante (essayez de résoudre le système avec un $\\pi$ très très simple). Peut-on la renormaliser pour en faire une proba invariante?  Qu'en est-il de la marche aléatoire non-simple?\n",
    "\n",
    "* Plaçons nous dans le cas $E$ fini. Dans ce cas $P$ est une matrice. Trouvez l'argument d'algèbre linéaire qui démontre le premier théorème: Aide: il y a un vecteur propre à droite très facile à trouver pour $P$..."
   ]
  },
  {
   "cell_type": "code",
   "execution_count": 18,
   "metadata": {
    "scrolled": true
   },
   "outputs": [
    {
     "name": "stdout",
     "output_type": "stream",
     "text": [
      "val_pr\n",
      " [ 1.    -0.461 -0.461 -0.706  0.313  0.313]\n",
      "vec_pr\n",
      " [[ 0.25   0.26   0.26  -0.403 -0.171 -0.171]\n",
      " [ 0.25   0.278  0.278  0.284  0.139  0.139]\n",
      " [ 0.076 -0.184 -0.184 -0.464  0.527  0.527]\n",
      " [ 0.25  -0.564 -0.564  0.57  -0.544 -0.544]\n",
      " [ 0.1    0.113  0.113 -0.323 -0.151 -0.151]\n",
      " [ 0.073  0.097  0.097  0.335  0.199  0.199]]\n"
     ]
    },
    {
     "data": {
      "image/png": "[encoded data removed]",
      "text/plain": [
       "<Figure size 432x288 with 1 Axes>"
      ]
     },
     "metadata": {},
     "output_type": "display_data"
    }
   ],
   "source": [
    "\"\"\" calculons l'unique probabilité invariante de notre chaine de Markov\"\"\"\n",
    "def mesure_invariante(P):\n",
    "    val_pr,vec_pr=np.linalg.eig(P.T)\n",
    "    val_pr=np.real(val_pr)\n",
    "    vec_pr=np.real(vec_pr)\n",
    "    pi=vec_pr[:,0]\n",
    "    pi/=np.sum(pi)\n",
    "    print(\"val_pr\\n\",val_pr)\n",
    "    print(\"vec_pr\\n\",vec_pr)\n",
    "    return pi\n",
    "\n",
    "P=premier_chaine()\n",
    "pi=mesure_invariante(P)\n",
    "plt.bar(range(6),pi);"
   ]
  },
  {
   "cell_type": "markdown",
   "metadata": {},
   "source": [
    "***A vous:*** Pourquoi transpose-t-on la matrice dans `np.linalg.eig(P.T)`?"
   ]
  },
  {
   "cell_type": "markdown",
   "metadata": {},
   "source": [
    "## théorème ergodique\n",
    "\n",
    "***NB:*** A partir de maintenant, nous supposons que l'espace d'état $E$ est fini. Dans une dernière partie, nous verrons les difficultés qui se raoutent dans le cas infini. Notamment on introduira la dichotomie transient/récurent.\n",
    "\n",
    "\n",
    "\n",
    "On dit qu'un graphe est ***irréductible*** lorsque l'on peut toujours aller d'un état à l'autre en suivant les flèches. On dit qu'une chaine de Markov est irréductible quand son graphe l'est. \n",
    "\n",
    "\n",
    "***Théorème:*** Lorsque la chaine de Markov fini est irréductible, il n'y a qu'une seule mesure invariante, à une constante multiplicative près. \n",
    "\n",
    "***A vous:*** Comment traduiriez-vous ce théorème en terme d'algèbre linéaire?"
   ]
  },
  {
   "cell_type": "markdown",
   "metadata": {},
   "source": [
    "Notons maintenant $X^x_t$ la chaine de Markov qui part du point $x$. Notons:\n",
    "\n",
    "$$\n",
    "  \\Gamma_{T}^x(y) =\\frac 1 T  \\sum_{t=0}^{T-1}  1_{\\{X^x_t = y  \\}}\n",
    "$$\n",
    "C'est le temps moyen passé dans l'état $y$ en partant de $x$.  \n",
    "\n",
    "\n",
    "***Théorème ergodique:*** Quand $T$ tend vers l'infini: \n",
    "\n",
    "* $\\Gamma_{T}^x$ converge vers une probabilité invariante. \n",
    "* Quand la chaine est irréductible, il converge donc vers l'unique probabilité invariante, et ainsi la limite ne dépend pas du point de départ $x$.\n"
   ]
  },
  {
   "cell_type": "code",
   "execution_count": 25,
   "metadata": {},
   "outputs": [
    {
     "name": "stdout",
     "output_type": "stream",
     "text": [
      "[0.25  0.25  0.077 0.25  0.099 0.075]\n"
     ]
    },
    {
     "data": {
      "image/png": "[encoded data removed]",
      "text/plain": [
       "<Figure size 432x288 with 1 Axes>"
      ]
     },
     "metadata": {},
     "output_type": "display_data"
    }
   ],
   "source": [
    "t_max=5000\n",
    "P=premier_chaine()\n",
    "X=markov_from_P(t_max,P,3)\n",
    "Gamma=np.zeros(6)\n",
    "for i in range(6):\n",
    "    Gamma[i]=np.mean(X==i)\n",
    "print(Gamma)\n",
    "plt.bar(range(6),pi)\n",
    "plt.plot(range(6),Gamma,\"o\",c=\"red\");"
   ]
  },
  {
   "cell_type": "markdown",
   "metadata": {},
   "source": [
    "***A vous:*** modifiez ce programme pour mettre en évidence la convergence: vous pouvez effectuer des moyennes à différents temps, et les afficher comme des petits points qui se rapprochent des points rouges ci-dessus. Attention il y a une erreur à ne pas faire (la même erreur que l'on fait souvent quand on veut illustrer la loi forte des grands nombres)."
   ]
  },
  {
   "cell_type": "markdown",
   "metadata": {},
   "source": [
    "### Marche aléatoire absorbée: un exemple réductible\n",
    "\n",
    "\n",
    "***Définition:*** Un état absorbant est un état duquel la chaine ne peut pas sortir. Par exemple, la marche aléatoire absorbée admet deux points absorbant: $0$ et $n-1$. \n",
    "\n",
    "***Exo:*** Considérons la marche absorbée. \n",
    "\n",
    "*   Montrez mathématiquement qu'il n'y a pas unicité de la probabilité invariante. \n",
    "*   Notons $\\Gamma_\\infty^x =\\lim_T\\Gamma_T^x$. Quelle est son interprétation probabiliste. Intuitez qu'elle dépend de $x$. Est-ce en constradiction avec le théorème ergodique?\n",
    "*   A l'aide de simulations, tracez les courbe $x \\to  \\Gamma_\\infty^x (0)$ et $x \\to  \\Gamma_\\infty^x (n-1)$. Est-ce en accord avec votre intuition.  Aide: vous devez simulez la marche aléatoire jusqu'à ce qu'elle touche 0 ou 1. Il faut donc utiliser une boucle `while` (ou un `for...break`). Il ne faut donc par recopier le programme ci-dessous!"
   ]
  },
  {
   "cell_type": "code",
   "execution_count": 23,
   "metadata": {},
   "outputs": [
    {
     "data": {
      "image/png": "[encoded data removed]",
      "text/plain": [
       "<Figure size 1440x216 with 1 Axes>"
      ]
     },
     "metadata": {},
     "output_type": "display_data"
    }
   ],
   "source": [
    "def marche_absorb(n):\n",
    "    P=np.zeros([n,n])\n",
    "    for i in range(1,n-1): \n",
    "        P[i,i+1]=0.5\n",
    "        P[i,i-1]=0.5\n",
    "    P[0,0]=1\n",
    "    P[-1,-1]=1\n",
    "    return P\n",
    "\n",
    "\n",
    "t_max=300\n",
    "nb_essaies=10\n",
    "plt.figure(figsize=(20,3))\n",
    "plt.grid()\n",
    "n=18\n",
    "P=marche_absorb(n)\n",
    "for i in range(nb_essaies):\n",
    "    X=markov_from_P(t_max,P,n//2)\n",
    "    plt.plot(range(t_max),X)\n",
    "    \n",
    "\n"
   ]
  },
  {
   "cell_type": "markdown",
   "metadata": {},
   "source": [
    "Faites tourner ce programme en variant les points de départs. Que constatez-vous?"
   ]
  },
  {
   "cell_type": "markdown",
   "metadata": {},
   "source": [
    "### Calcul exacte de la probabilité d'absorbtion\n",
    "\n",
    "Considérons la probabilité que la chaine soit absorbée en 0:\n",
    "$$\n",
    "\\gamma(x) = \\mathbf P_x[X_\\infty=0] = \\Gamma_\\infty^x(0)\n",
    "$$\n",
    "\n",
    "***Lemme:*** Le vecteur $\\gamma$ vérifie $P\\gamma=\\gamma$. \n",
    "\n",
    "En effet\n",
    "$$\n",
    "\\begin{aligned}\n",
    "P\\gamma(x)& = \\sum_y P(x,y) \\gamma(y) =   \\sum_y P(x,y) \\mathbf P_y[\\lim_n X_n = 0   ]    \\\\\n",
    "&= \\dots\n",
    "\\end{aligned}\n",
    "$$\n",
    "Completez, en n'oubliant pas de justifier les interversion entre les limites et les espérances. \n",
    "\n",
    "\n",
    "Ainsi $\\gamma$ vérifiez les trois propriétés suivantes:\n",
    "\n",
    "* C'est un vecteur propre à gauche de $P$ associé à la valeur propre 1. \n",
    "* $\\gamma(0)=1$.\n",
    "* $\\gamma(n-1)=0$. \n",
    "\n",
    "***A vous:*** Déduisez la fin du résonnement en observant le programme ci-dessus. "
   ]
  },
  {
   "cell_type": "code",
   "execution_count": 13,
   "metadata": {},
   "outputs": [
    {
     "name": "stdout",
     "output_type": "stream",
     "text": [
      "val_pr\n",
      " [-0.707  0.     0.707  1.     1.   ]\n",
      "vec_pr\n",
      " [[ 0.     0.     0.     0.73   0.   ]\n",
      " [ 0.5    0.707 -0.5    0.548  0.183]\n",
      " [-0.707 -0.    -0.707  0.365  0.365]\n",
      " [ 0.5   -0.707 -0.5    0.183  0.548]\n",
      " [ 0.     0.     0.     0.     0.73 ]]\n",
      "f: [0.    0.183 0.365 0.548 0.73 ]\n",
      "g: [0.73  0.548 0.365 0.183 0.   ]\n",
      "M\n",
      " [[0.   0.73]\n",
      " [0.73 0.  ]]\n"
     ]
    },
    {
     "data": {
      "image/png": "[encoded data removed]",
      "text/plain": [
       "<Figure size 432x288 with 1 Axes>"
      ]
     },
     "metadata": {},
     "output_type": "display_data"
    }
   ],
   "source": [
    "n=5\n",
    "P=marche_absorb(n)\n",
    "\n",
    "val_pr,vec_pr=np.linalg.eig(P)\n",
    "val_pr=np.real(val_pr)\n",
    "vec_pr=np.real(vec_pr)\n",
    "\n",
    "\"\"\" on voit qu'il y a 2 vecteurs propres associés à la valeur propre 1. \n",
    "Attention: elles sont à la fin.\n",
    "On les notes f et g\"\"\"\n",
    "print(\"val_pr\\n\",val_pr)\n",
    "print(\"vec_pr\\n\",vec_pr)\n",
    "f=vec_pr[:,-1]\n",
    "g=vec_pr[:,-2]\n",
    "print(\"f:\",f)\n",
    "print(\"g:\",g)\n",
    "\n",
    "M=np.array([[f[0],g[0]],[f[n-1],g[n-1]]])\n",
    "print(\"M\\n\",M)\n",
    "ab=np.linalg.inv(M) @ [1,0]\n",
    "gamma=ab[0]*f+ab[1]*g\n",
    "\n",
    "plt.plot(range(n),gamma,\".\")\n",
    "plt.title(\"proba de finir en 0 en fonction du point de départ\");\n"
   ]
  },
  {
   "cell_type": "markdown",
   "metadata": {},
   "source": [
    "Remarquons que la technique que nous avons utilisé marcherait pour n'importe quelle chaine de markov avec 2 points absorbants. N'hésitez pas à en inventez une.\n",
    "\n",
    "***Exo:*** Le programme précédent n'est pas très robuste car les vecteur propres  proposé par `np.linalg.eig` sont classé dans un ordre que nous ne maitrisons pas. Modififez ce programme pour qu'il fonctionne quel que soit cet ordre."
   ]
  },
  {
   "cell_type": "markdown",
   "metadata": {},
   "source": [
    "## Convergence en loi\n",
    "\n",
    "\n",
    "### apériodique\n",
    "\n",
    "Considérons une graph irréductible orienté. Il est périodique, de période $n>1$, lorsque tous les boucles qu'on peut faire en suivant les arrêtes du graphes on une longueur multiple de $n$. \n",
    "\n",
    "Remarques:\n",
    "\n",
    "* Grâce à l'irréductibilité, il suffit de tester les boucles issues d'une état donné. \n",
    "\n",
    "* Pour montrez qu'un graphe est apériodique, il suffit de trouver un état $x_0$ est de trouver deux boucles issues de $x_0$ dont le pcgd des longueurs est 1. \n",
    "\n",
    "\n",
    "*** Théorème (convergence en loi):*** Considérons une chaine de Markov irréductible apériodique. Alors $(X_t)$ converge en loi vers  l'unique probabilité invariante. \n",
    "\n",
    "\n",
    "***A vous:*** Vérifiez que cette convergence en loi équivaut au fait que toutes les lignes de $P^t$ converge vers $\\pi$.\n",
    "\n"
   ]
  },
  {
   "cell_type": "code",
   "execution_count": 24,
   "metadata": {},
   "outputs": [
    {
     "name": "stdout",
     "output_type": "stream",
     "text": [
      "val_pr\n",
      " [ 1.    -0.461 -0.461 -0.706  0.313  0.313]\n",
      "vec_pr\n",
      " [[ 0.25   0.26   0.26  -0.403 -0.171 -0.171]\n",
      " [ 0.25   0.278  0.278  0.284  0.139  0.139]\n",
      " [ 0.076 -0.184 -0.184 -0.464  0.527  0.527]\n",
      " [ 0.25  -0.564 -0.564  0.57  -0.544 -0.544]\n",
      " [ 0.1    0.113  0.113 -0.323 -0.151 -0.151]\n",
      " [ 0.073  0.097  0.097  0.335  0.199  0.199]]\n"
     ]
    },
    {
     "data": {
      "image/png": "[encoded data removed]",
      "text/plain": [
       "<Figure size 432x288 with 1 Axes>"
      ]
     },
     "metadata": {},
     "output_type": "display_data"
    }
   ],
   "source": [
    "P=premier_chaine()\n",
    "\n",
    "pi=mesure_invariante(P)\n",
    "P_infty=np.linalg.matrix_power(P,50)\n",
    "\n",
    "plt.bar(range(6),pi);\n",
    "plt.plot(P_infty[0,:],\"o\",c=\"red\")\n",
    "plt.plot(P_infty[1,:],\"o\",c=\"k\");"
   ]
  },
  {
   "cell_type": "markdown",
   "metadata": {},
   "source": [
    "Avec $t=50$ cela n'a pas encore bien converger. Comment expliquez-vous la grosse différence entre les points rouges et noire sur les deux premier état? (aide:observez le graphe de la chaine)"
   ]
  },
  {
   "cell_type": "code",
   "execution_count": null,
   "metadata": {},
   "outputs": [],
   "source": []
  }
 ],
 "metadata": {
  "kernelspec": {
   "display_name": "Python 3",
   "language": "python",
   "name": "python3"
  },
  "language_info": {
   "codemirror_mode": {
    "name": "ipython",
    "version": 3
   },
   "file_extension": ".py",
   "mimetype": "text/x-python",
   "name": "python",
   "nbconvert_exporter": "python",
   "pygments_lexer": "ipython3",
   "version": "3.6.5"
  }
 },
 "nbformat": 4,
 "nbformat_minor": 2
}
