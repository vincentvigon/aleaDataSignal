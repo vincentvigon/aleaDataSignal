{
 "cells": [
  {
   "cell_type": "markdown",
   "metadata": {},
   "source": [
    "#  Les bases de python\n",
    "\n",
    "Les basses de python sont exposées ici de façon sommaires. Le but est de passer le plus rapidement possibles aux programmes à vocation mathématiques; programmes que l'on veut le plus simple possible. Pour cela, vous commencerez toujours par observer du code, et quand ce sera à votre tour de coder, immitez au maximum ce que vous avez lu (en évitant cependant les copié-collé). \n",
    "\n",
    "Quand vous serez des vieux routier de la programmation, vous pourrez créer votre propre style (Ouaaa!)."
   ]
  },
  {
   "cell_type": "markdown",
   "metadata": {},
   "source": [
    "## Blocs de code via l'indentation\n",
    "\n",
    "Les blocs de codes sont définis par l'intentation. Les programmes sont ainsi très épurés. L'indentation se fait le plus souvent automatiquement lors des retours chariots, et sinon:\n",
    "\n",
    "* Pour indenter un bloc complet, sélectionner-le et appuyez sur la touche tabulation.  \n",
    "* Pour dé-sindenter :   shift+tabulation."
   ]
  },
  {
   "cell_type": "code",
   "execution_count": 9,
   "metadata": {},
   "outputs": [
    {
     "name": "stdout",
     "output_type": "stream",
     "text": [
      "i= 3\n",
      "     j= 1\n",
      "     i**j= 3\n",
      "     j= 2\n",
      "     i**j= 9\n",
      "i= 4\n",
      "     j= 1\n",
      "     i**j= 4\n",
      "     j= 2\n",
      "     i**j= 16\n",
      "i= 5\n",
      "     j= 1\n",
      "     i**j= 5\n",
      "     j= 2\n",
      "     i**j= 25\n"
     ]
    }
   ],
   "source": [
    "for i in [3,4,5]:\n",
    "    print(\"i=\",i)\n",
    "    for j in [1,2]:\n",
    "        print(\"     j=\",j) \n",
    "        print(\"     i**j=\",i**j) # l'opérateur ** c'est la puissance"
   ]
  },
  {
   "cell_type": "markdown",
   "metadata": {},
   "source": [
    "## Fonctions\n",
    "\n",
    "* On utilise sans arrêt des fonctions crées par d'autres. Par exemple: `print(\"toto\")`. \n",
    "* On crée parfois nos propres fonctions: quand cela clarifie la présentation des programmes, ou quand cela évite de dupliquer du code (c'est très mal!). \n",
    "\n",
    "### Définition et appel d'une fonction"
   ]
  },
  {
   "cell_type": "code",
   "execution_count": 10,
   "metadata": {},
   "outputs": [
    {
     "name": "stdout",
     "output_type": "stream",
     "text": [
      "7\n"
     ]
    }
   ],
   "source": [
    "def toto_add(a, b):\n",
    "    return a+b\n",
    "\n",
    "\"\"\" appel de la fonction précédemment définie:\"\"\"\n",
    "res=toto_add(3, 4)\n",
    "print(res)"
   ]
  },
  {
   "cell_type": "markdown",
   "metadata": {},
   "source": [
    "### Arguments facultatifs\n",
    "\n",
    "On peut ajouter des arguments avec des valeurs prédéfinies."
   ]
  },
  {
   "cell_type": "code",
   "execution_count": 11,
   "metadata": {},
   "outputs": [
    {
     "name": "stdout",
     "output_type": "stream",
     "text": [
      "7\n",
      "14\n",
      "49\n",
      "196\n"
     ]
    }
   ],
   "source": [
    "def toto_do_computations(a,b,c=1,d=1):\n",
    "    return ((a+b)*c)**d\n",
    "\n",
    "print(toto_do_computations(3,4))\n",
    "\"\"\"conseille : toujours préciser le nom des arguments facultatifs \"\"\"\n",
    "print(toto_do_computations(3,4,c=2))\n",
    "print(toto_do_computations(3,4,d=2))\n",
    "print(toto_do_computations(3,4,c=2,d=2))\n",
    "\n"
   ]
  },
  {
   "cell_type": "markdown",
   "metadata": {},
   "source": [
    "### Conseil sur les arguments de fonctions\n",
    "\n",
    "Pour vos propres fonctions, je vous conseille de ne pas du tout utiliser d'argument facultatif; ce qui va bien avec notre devise \"programmer le plus simplement possible\". \n",
    "\n",
    "Mais vous allez devoir utiliser des fonctions crées par d'autres qui ont des arguments facultatifs. Par exemple, considérons une fonction de scipy qui généres des v.a gaussiennes:"
   ]
  },
  {
   "cell_type": "code",
   "execution_count": 41,
   "metadata": {},
   "outputs": [
    {
     "name": "stdout",
     "output_type": "stream",
     "text": [
      "[ 1.83439849 -0.97655303 -3.99448812]\n"
     ]
    }
   ],
   "source": [
    "import scipy.stats as stats\n",
    "\"\"\" 'loc':espérance, scale:'ecart type', 'size': nombre de v.a générées\"\"\"\n",
    "X=stats.norm.rvs(loc=-1,scale=3,size=3)\n",
    "print(X)"
   ]
  },
  {
   "cell_type": "markdown",
   "metadata": {},
   "source": [
    "Dans la fonction précédente, tous les arguments sont facultatifs. Les valeurs par défaut sont logiquement `loc=0,scale=1,size=1`. On peut écrire par exemple \n",
    "\n",
    "    simus=stat.norm.rvs(size=1000)\n",
    "\n",
    "pour\n",
    "\n",
    "     simus=stat.norm.rvs(loc=0,scale=1,size=1000)\n",
    "\n",
    "\n",
    "Mais attention : si on ne précise pas le nom des arguments, ils sont pris dans l'ordre `1:loc 2:scale 3:size`\n",
    "Par exemple: si, pour tirer 1000 gaussiennes, j'écris\n",
    "\n",
    "     simus=stat.norm.rvs(1000)\n",
    "\n",
    "mon programme bug car cela correspond à \n",
    "\n",
    "    simus=stat.norm.rvs(loc=1000)\n",
    "\n",
    "Je vous conseille d'écrire quasi tout le temps le nom des arguments pour éviter ce genre de confusion ; sauf quand il s'agit d'un argument obligatoire évident comme dans `plt.plot(x,y)`.  "
   ]
  },
  {
   "cell_type": "markdown",
   "metadata": {},
   "source": [
    "### Lambda expression\n",
    "C'est une façon courte d'écrire les fonctions sans leur donner de nom. On parle de fonction anomyme. On les rencontre fréquement comme argument d'autre fonction. "
   ]
  },
  {
   "cell_type": "code",
   "execution_count": 51,
   "metadata": {},
   "outputs": [
    {
     "data": {
      "text/plain": [
       "[0, 1, 4, 9, 16, 25, 36, 49, 64, 81]"
      ]
     },
     "execution_count": 51,
     "metadata": {},
     "output_type": "execute_result"
    }
   ],
   "source": [
    "\"une fonction qui prend comme argument une fonction\"\n",
    "def evaluate_a_function_on_integers(func,borne):\n",
    "    res=[]\n",
    "    for  i in range(borne):\n",
    "        res.append(func(i))\n",
    "    return res\n",
    "\n",
    "# lambda x:x**2  signifie   x->x**2\n",
    "evaluate_a_function_on_integers(lambda x:x**2,10)    "
   ]
  },
  {
   "cell_type": "code",
   "execution_count": 52,
   "metadata": {},
   "outputs": [
    {
     "data": {
      "text/plain": [
       "[0, 1, 4, 9, 16, 25, 36, 49, 64, 81]"
      ]
     },
     "execution_count": 52,
     "metadata": {},
     "output_type": "execute_result"
    }
   ],
   "source": [
    "\"\"\"sans utiliser de fonction anonyme:\"\"\"\n",
    "def square(x): \n",
    "    return x**2\n",
    "\n",
    "evaluate_a_function_on_integers(square,10)"
   ]
  },
  {
   "cell_type": "markdown",
   "metadata": {},
   "source": [
    "## Listes, tuple, chaînes de caractères\n",
    "\n",
    "Notez bien que les indices commencent à 0! \n",
    "\n",
    "### Liste: `[...]`\n",
    "\n",
    "* Elles contiennent des éléments de n'importe quel type. \n",
    "* Leur taille peut varier en cours d'utilisation."
   ]
  },
  {
   "cell_type": "code",
   "execution_count": 13,
   "metadata": {},
   "outputs": [
    {
     "name": "stdout",
     "output_type": "stream",
     "text": [
      "la liste complète [1, 2, 3, 'quatre', 5]\n",
      "le premier élément (numéro 0) 1\n",
      "le dernier élément (numéro longueur-1) 5\n",
      "ou bien 5\n",
      "[1, 2, 3, 'quatre', 5, 'six']\n"
     ]
    }
   ],
   "source": [
    "list0= [1, 2, 3, \"quatre\", 5]\n",
    "print(\"la liste complète\", list0)\n",
    "print(\"le premier élément (numéro 0)\", list0[0])\n",
    "print(\"le dernier élément (numéro longueur-1)\", list0[len(list0) - 1])\n",
    "print(\"ou bien\", list0[-1])\n",
    "\n",
    "\"\"\" On lui rajoute un élément à la fin \"\"\"\n",
    "list0.append(\"six\")\n",
    "print(list0)"
   ]
  },
  {
   "cell_type": "markdown",
   "metadata": {},
   "source": [
    "### Tuple: `(...)`\n",
    "\n",
    "* Ils contiennent des éléments de n'importe quel type\n",
    "* Leur taille ne peut pas varier\n",
    "* On ne peut pas les modifier (ils sont \"immutables\")"
   ]
  },
  {
   "cell_type": "code",
   "execution_count": 14,
   "metadata": {},
   "outputs": [
    {
     "name": "stdout",
     "output_type": "stream",
     "text": [
      "(1, 2, 'trois')\n"
     ]
    }
   ],
   "source": [
    "a=(1,2,\"trois\")\n",
    "\"\"\" les lignes suivante produisent des messages erreurs. Lisez ces messages.\"\"\"\n",
    "print(a)\n",
    "#a[0]=2\n",
    "#a.append(\"quatre\")"
   ]
  },
  {
   "cell_type": "markdown",
   "metadata": {},
   "source": [
    "Les tuples sont pratiques quand on veut qu'une fonction renvoie plusieurs éléments."
   ]
  },
  {
   "cell_type": "code",
   "execution_count": 15,
   "metadata": {},
   "outputs": [
    {
     "name": "stdout",
     "output_type": "stream",
     "text": [
      "poids: 3000\n",
      "prix: 7500.0\n"
     ]
    }
   ],
   "source": [
    "def beurreEtArgentDuBeure(nbPlaquette:float):\n",
    "    poids=nbPlaquette*250\n",
    "    prix=poids*2.5\n",
    "    return (poids,prix)\n",
    "    \n",
    "(po,pr)=beurreEtArgentDuBeure(12)\n",
    "print(\"poids:\",po)\n",
    "print(\"prix:\",pr)"
   ]
  },
  {
   "cell_type": "markdown",
   "metadata": {},
   "source": [
    "Remarque, les parenthèses autour des `tuples` sont souvent facultatives. Ci-dessus on aurait pu écrire: `return poids,prix` et: `po,pr=beurreEtArgentDuBeure(12)`"
   ]
  },
  {
   "cell_type": "markdown",
   "metadata": {},
   "source": [
    "### Chaîne de caractère: `\"...\"` ou `'...'`"
   ]
  },
  {
   "cell_type": "code",
   "execution_count": 16,
   "metadata": {},
   "outputs": [
    {
     "name": "stdout",
     "output_type": "stream",
     "text": [
      "toto\n",
      "toto dit \"bonjour\"\n",
      "\t 1 \n",
      "\t 2\n"
     ]
    }
   ],
   "source": [
    "a=\"toto\"\n",
    "print(a)\n",
    "\"\"\" on peut mettre des doubles guillement dans les simples \"\"\"\n",
    "b='toto dit \"bonjour\"'\n",
    "print(b)\n",
    "\"\"\" on peut ajouter des retours chariots et des tabulations\"\"\"\n",
    "c='\\t 1 \\n\\t 2'\n",
    "print(c)\n",
    "\"\"\" chaîne sur plusieurs lignes. Je les utilise aussi pour les commentaires.\"\"\"\n",
    "d=\"\"\"\n",
    "$$$_____$$$$$$$$$$$$$$$_$$$_______$$$_$$$$$$$$$$\n",
    "$$$____$$$____$$$____$$$_$$$_____$$$__$$$_______\n",
    "$$$____$$$___________$$$_$$$_____$$$__$$$_______\n",
    "$$$_____$$$_________$$$___$$$___$$$___$$$$$$$$__\n",
    "$$$______$$$_______$$$_____$$$_$$$____$$$_______\n",
    "$$$_______$$$_____$$$______$$$_$$$____$$$_______\n",
    "$$$$$$$$$___$$$_$$$_________$$$$$_____$$$$$$$$$$\n",
    "\"\"\"\n",
    "#print(d)"
   ]
  },
  {
   "cell_type": "markdown",
   "metadata": {},
   "source": [
    "### Itérables (à lire rapidement)\n",
    "\n",
    "On utilise très fréquement la fonction `range()`. \n",
    "\n",
    "* `range(10)` c'est les entier de 0 à 9.\n",
    "* `range(1,10)` c'est les entiers de 1 à 9.\n",
    "\n",
    "Mais `range()` ne renvoie pas vraiment liste, mais un `iterable` c.à.d une liste potentielle, qui devient vraiment liste quand on l'itère dans une boucle: "
   ]
  },
  {
   "cell_type": "code",
   "execution_count": 35,
   "metadata": {},
   "outputs": [
    {
     "name": "stdout",
     "output_type": "stream",
     "text": [
      "1\n",
      "10\n",
      "100\n",
      "1000\n",
      "10000\n",
      "100000\n"
     ]
    }
   ],
   "source": [
    "for i in range(4000000000000):\n",
    "    j=10**i\n",
    "    print(j)\n",
    "    if j>10000: break #j'arrète, c'est trop gros "
   ]
  },
  {
   "cell_type": "markdown",
   "metadata": {},
   "source": [
    "*** A vous:***  $(1\\heartsuit)$ Que se serait-il passé si dans le programme précédent si `range()` renvoyé une liste?  \n",
    "\n",
    "Pour comprendre l'intérêt des itérables: imaginez un programme de deeplearning qui doit s'entrainer en regardant des centaines de milliers d'images qu'il télécharge depuis le net. La strucutre principale du programme est:\n",
    "\n",
    "        for img in allImg(): \n",
    "            train_with(img)\n",
    "\n",
    "Si jamais `getAllImg()` renvoyait une liste, il faudrait attendre que toutes les images soient chargée en mémoire avant de commencer.  \n",
    "\n",
    "A notre niveau, on ne créera pas d'iterable.  Je vous en parle pour que vous ne soyez pas surpris si vous 'printer' un itérable:"
   ]
  },
  {
   "cell_type": "code",
   "execution_count": 16,
   "metadata": {},
   "outputs": [
    {
     "name": "stdout",
     "output_type": "stream",
     "text": [
      "range(0, 10)\n",
      "[0, 1, 2, 3, 4, 5, 6, 7, 8, 9]\n",
      "(0, 1, 2, 3, 4, 5, 6, 7, 8, 9)\n"
     ]
    }
   ],
   "source": [
    "print(range(10)) # rien d'intéressant\n",
    "print(list(range(10))) #on convertit l'iterable en liste \n",
    "print(tuple(range(10)))# ou bien en tuple"
   ]
  },
  {
   "cell_type": "markdown",
   "metadata": {},
   "source": [
    "### Point commun\n",
    "\n",
    "Les listes, les tuples, les chaines de caractère, les itérables (et les vecteurs numpy, cf plus loin) ont tous en commun de pouvoir être parcouru (=itérés). De nombreuses fonctions toute faites acceptent n'importe lesquels de ces types. Cette souplesse fait parti de la philosophie de python. \n",
    "\n",
    "Pour illustrer cela, écrivons nous-même une fonction qui accepte plein d'arguments différents:"
   ]
  },
  {
   "cell_type": "code",
   "execution_count": 38,
   "metadata": {},
   "outputs": [
    {
     "name": "stdout",
     "output_type": "stream",
     "text": [
      "liste\n",
      "l'élément: 0  est  1\n",
      "l'élément: 1  est  2\n",
      "tuple\n",
      "l'élément: 0  est  3\n",
      "l'élément: 1  est  4\n",
      "string\n",
      "l'élément: 0  est  t\n",
      "l'élément: 1  est  o\n",
      "l'élément: 2  est  t\n",
      "l'élément: 3  est  o\n",
      "iterable\n",
      "l'élément: 0  est  0\n",
      "l'élément: 1  est  1\n",
      "l'élément: 2  est  2\n",
      "tableau numpy\n",
      "l'élément: 0  est  0.0\n",
      "l'élément: 1  est  0.25\n",
      "l'élément: 2  est  0.5\n",
      "l'élément: 3  est  0.75\n",
      "l'élément: 4  est  1.0\n"
     ]
    }
   ],
   "source": [
    "def parcour(sequence):\n",
    "    for i in range(len(sequence)):\n",
    "        print(\"l'élément:\",i,\" est \",sequence[i])\n",
    "\n",
    "print(\"liste\")\n",
    "parcour([1,2])\n",
    "print(\"tuple\")\n",
    "parcour((3,4))\n",
    "print(\"string\")\n",
    "parcour(\"toto\")\n",
    "print(\"iterable\")\n",
    "parcour(range(3))\n",
    "print(\"tableau numpy\")\n",
    "parcour(np.linspace(0,1,5))\n"
   ]
  },
  {
   "cell_type": "markdown",
   "metadata": {},
   "source": [
    "### Slicing\n",
    "\n",
    "Cela permet de sélectionner des bouts de liste/string/tuple"
   ]
  },
  {
   "cell_type": "code",
   "execution_count": 19,
   "metadata": {},
   "outputs": [
    {
     "name": "stdout",
     "output_type": "stream",
     "text": [
      "[0, 1, 2]\n",
      "[3, 4, 5, 6]\n",
      "5\n"
     ]
    }
   ],
   "source": [
    "liste=[0,1,2,3,4,5,6]\n",
    "print(liste[:3])\n",
    "print(liste[3:])\n",
    "print(liste[-2])"
   ]
  },
  {
   "cell_type": "markdown",
   "metadata": {},
   "source": [
    "***A vous:*** Refaites ceci avec le mot: \"abcdef\". "
   ]
  },
  {
   "cell_type": "markdown",
   "metadata": {},
   "source": [
    "### Multiplier, additionner = concatenner"
   ]
  },
  {
   "cell_type": "code",
   "execution_count": 20,
   "metadata": {},
   "outputs": [
    {
     "name": "stdout",
     "output_type": "stream",
     "text": [
      "[1, 2, 1, 2, 1, 2]\n",
      "(1, 2, 3, 4)\n",
      "totooooo\n"
     ]
    }
   ],
   "source": [
    "print([1,2]*3)\n",
    "print((1,2)+(3,4))\n",
    "print(\"tot\"+\"o\"*5)"
   ]
  },
  {
   "cell_type": "markdown",
   "metadata": {},
   "source": [
    "***A vous:*** Définissez $(1\\heartsuit)$ la chaine de caracère: `l'homme dit: \"envole toi!\"`"
   ]
  },
  {
   "cell_type": "markdown",
   "metadata": {},
   "source": [
    "### Trier\n",
    "\n",
    "C'est une opération qu'on utilise très souvent. Apprenez la syntaxe une bonne une bonne fois pour toute. "
   ]
  },
  {
   "cell_type": "code",
   "execution_count": 21,
   "metadata": {},
   "outputs": [
    {
     "name": "stdout",
     "output_type": "stream",
     "text": [
      "[5, 2, 6, 8]\n",
      "[2, 5, 6, 8]\n"
     ]
    }
   ],
   "source": [
    "a=[5,2,6,8]\n",
    "b=sorted(a)\n",
    "print(a)\n",
    "print(b)"
   ]
  },
  {
   "cell_type": "code",
   "execution_count": 22,
   "metadata": {},
   "outputs": [
    {
     "data": {
      "text/plain": [
       "[2, 5, 6, 8]"
      ]
     },
     "execution_count": 22,
     "metadata": {},
     "output_type": "execute_result"
    }
   ],
   "source": [
    "\"variante 'inplace', a utiliser uniquement quand les tableau sont très gros.\"\n",
    "a=[5,2,6,8]\n",
    "a.sort()\n",
    "a"
   ]
  },
  {
   "cell_type": "code",
   "execution_count": 23,
   "metadata": {},
   "outputs": [
    {
     "name": "stdout",
     "output_type": "stream",
     "text": [
      "défaut:\n",
      " [('a', 2, 100), ('b', 0, 1000), ('c', 10, -20)]\n",
      "selon index 1:\n",
      " [('b', 0, 1000), ('a', 2, 100), ('c', 10, -20)]\n",
      "selon l'opposé de l'index 1:\n",
      " [('c', 10, -20), ('a', 2, 100), ('b', 0, 1000)]\n",
      "selon une fonction des index 1 et 2:\n",
      " [('c', 10, -20), ('a', 2, 100), ('b', 0, 1000)]\n"
     ]
    }
   ],
   "source": [
    "a=[('a',2,100),('c',10,-20),('b',0,1000)]\n",
    "print(\"défaut:\\n\",sorted(a))\n",
    "print(\"selon index 1:\\n\",sorted(a,key=lambda pair:pair[1] ))\n",
    "print(\"selon l'opposé de l'index 1:\\n\",sorted(a,key=lambda pair:-pair[1] ))\n",
    "print(\"selon une fonction des index 1 et 2:\\n\",sorted(a,key=lambda pair:pair[1]+pair[2] ))"
   ]
  },
  {
   "cell_type": "markdown",
   "metadata": {},
   "source": [
    "***A vous:*** Voici une liste de mot: `[\"bonjour\",\"les\",\"gars\",\"comment\",\"vous\",\"allez\"]`.\n",
    " Triez $(2\\heartsuit)$ ces mot dans l'ordre alphabétique de leur dernière lettre. "
   ]
  },
  {
   "cell_type": "markdown",
   "metadata": {},
   "source": [
    "## Graphiques\n",
    "\n",
    "On y reviendra beaucoup plus en détail par la suite. "
   ]
  },
  {
   "cell_type": "code",
   "execution_count": 39,
   "metadata": {},
   "outputs": [],
   "source": [
    "\"\"\"voici un import à connaître par coeur, il permet de faire des graphiques. \"\"\"\n",
    "import matplotlib.pyplot as plt  "
   ]
  },
  {
   "cell_type": "markdown",
   "metadata": {},
   "source": [
    "### Relier des points"
   ]
  },
  {
   "cell_type": "code",
   "execution_count": 40,
   "metadata": {},
   "outputs": [
    {
     "data": {
      "image/png": "[encoded data removed]",
      "text/plain": [
       "<Figure size 864x216 with 3 Axes>"
      ]
     },
     "metadata": {},
     "output_type": "display_data"
    }
   ],
   "source": [
    "\"\"\"liste d'abscisses et liste d'ordonnées\"\"\"\n",
    "x= [1,1.5,2,2.5,3]\n",
    "y= [1,4,3,4,1]\n",
    "\"\"\" La figure, et les axes \"\"\"\n",
    "fig,ax=plt.subplots(1,3)\n",
    "\"\"\" on règle la taille de la figure \"\"\"\n",
    "fig.set_size_inches(12,3)\n",
    "\"\"\" on divise la figure en 1-ligne, 3-colonnes, et on affiche le premier graphique \"\"\"\n",
    "ax[0].plot(x,y)\n",
    "\"\"\"puis le second graphique\"\"\"\n",
    "ax[1].plot(x,y,'o') #essayez aussi avec '.' ou '*' \n",
    "\"\"\"puis le troisième\"\"\"\n",
    "ax[2].plot(x,y,'o-');"
   ]
  },
  {
   "cell_type": "markdown",
   "metadata": {},
   "source": [
    "###  Graphe de fonction\n",
    "\n",
    "En reliant finement des points, on peut tracer le graphe de fonctions lisses, avec un graphe... lisse! "
   ]
  },
  {
   "cell_type": "code",
   "execution_count": 26,
   "metadata": {},
   "outputs": [
    {
     "data": {
      "image/png": "[encoded data removed]",
      "text/plain": [
       "<Figure size 432x288 with 1 Axes>"
      ]
     },
     "metadata": {},
     "output_type": "display_data"
    }
   ],
   "source": [
    "\"\"\" on anticipe sur les prochains TP. On va utiliser numpy, \n",
    "qui est une bibliothèque pour gérer les tableaux de nombres.\"\"\"\n",
    "import numpy as np\n",
    "\n",
    "x=np.linspace(0,5,100) # 100 points répartis entre 0 et 5\n",
    "fig,ax=plt.subplots()\n",
    "\n",
    "\"\"\"attention 'lambda' est un mot clef réservé de python. du coup j'utilise 'lamb' \"\"\"\n",
    "for lamb in [0.1,0.3,1,2]:\n",
    "    y=np.exp(lamb*x)\n",
    "    ax.plot(x,y,label=\"$lamb:$\"+str(lamb))\n",
    "\n",
    "\"\"\"on limite les ordonnées. Pourquoi est-ce important dans ce graphique ?\"\"\"\n",
    "ax.set_ylim([0,5])\n",
    "ax.legend();"
   ]
  },
  {
   "cell_type": "markdown",
   "metadata": {},
   "source": [
    "## Instructions conditionnelles\n",
    "\n",
    "### instructions `if`, `elif`, `else`"
   ]
  },
  {
   "cell_type": "code",
   "execution_count": 27,
   "metadata": {},
   "outputs": [
    {
     "name": "stdout",
     "output_type": "stream",
     "text": [
      "a est dans l'intervalle: ]4,7]\n"
     ]
    }
   ],
   "source": [
    "a=6\n",
    "if 4<a<=7:\n",
    "    print(\"a est dans l'intervalle: ]4,7]\")\n",
    "elif 7<a<=10:\n",
    "    print(\"a est dans l'intervalle: ]7,10]\")\n",
    "else :\n",
    "    print(\"a est dans le complémentaire\")"
   ]
  },
  {
   "cell_type": "markdown",
   "metadata": {},
   "source": [
    "### boucle while"
   ]
  },
  {
   "cell_type": "code",
   "execution_count": 28,
   "metadata": {},
   "outputs": [
    {
     "name": "stdout",
     "output_type": "stream",
     "text": [
      "12368\n"
     ]
    }
   ],
   "source": [
    "def algo(x):\n",
    "    somme=0\n",
    "    n=1\n",
    "    while somme<x:\n",
    "        somme+=1/n #c'est comme: sum=sum+ 1/n\n",
    "        n+=1       #c'est comme: n=n+1\n",
    "    return n\n",
    "\n",
    "\"\"\"ne prenez pas ce paramètre 'x' trop grand -> cela devient très long. \n",
    "Au pire on peut toujours stopper un programme, avec le bouton carré stop\"\"\"\n",
    "print(algo(10))"
   ]
  },
  {
   "cell_type": "markdown",
   "metadata": {},
   "source": [
    "***Exo:*** $(8\\diamondsuit)$  Voici enfin un problème où vous allez devoir sortir votre cerveau de mathématicien: trouvez un encadrement (majorant, minorant) pour l'entier `algo(x)`. Ces (majorant, minorant) doivent s'exprimer avec des fonctions usuelles. Vérifiez votre encadrement avec un petit programme graphique. \n",
    "\n",
    "Aide: pour coder les fonctions usuelles:"
   ]
  },
  {
   "cell_type": "code",
   "execution_count": 30,
   "metadata": {},
   "outputs": [
    {
     "name": "stdout",
     "output_type": "stream",
     "text": [
      "0.1411200080598672\n",
      "1.6094379124341003\n",
      "148.4131591025766\n",
      "25\n"
     ]
    }
   ],
   "source": [
    "import math\n",
    "\n",
    "print(math.sin(3))\n",
    "print(math.log(5))\n",
    "print(math.exp(5))\n",
    "print(5**2)"
   ]
  },
  {
   "cell_type": "markdown",
   "metadata": {},
   "source": [
    "### l'instruction break\n",
    "\n",
    "Elle permet de sortir d'une boucle. Très pratique, même si les puriste de la programmation la rejette. "
   ]
  },
  {
   "cell_type": "code",
   "execution_count": 33,
   "metadata": {},
   "outputs": [
    {
     "name": "stdout",
     "output_type": "stream",
     "text": [
      "U: [0] V: [9.29209989]\n"
     ]
    }
   ],
   "source": [
    "import numpy as np\n",
    "while True:\n",
    "    U=np.random.randint(0,7,size=1) #-> 0,1,2,3,4,5,6 with equal proba\n",
    "    V=np.random.uniform(4,10,size=1)#-> [4,10] uniformly\n",
    "    if U<V: break\n",
    "    \n",
    "print(\"U:\",U,\"V:\",V)"
   ]
  },
  {
   "cell_type": "markdown",
   "metadata": {},
   "source": [
    "***A vous:*** Réécrivez $(3\\heartsuit)$ ce programme sans le `break`. En moyenne, combien  d'itération met ce programme pour s'arréter? Calculez-le théoriquement $(2\\heartsuit)$ puis vérifiez-le $(2\\heartsuit)$ informatiquement. "
   ]
  },
  {
   "cell_type": "markdown",
   "metadata": {},
   "source": [
    "Remarquez que le programme avec break à deux avantages par rapport à celui sans break:\n",
    "\n",
    "* la condition d'arrête est plus naturelle que sa négation (la fonction dans le while).\n",
    "* Il n'est pas nécessaire d'initiliser `U` et `V`"
   ]
  },
  {
   "cell_type": "markdown",
   "metadata": {},
   "source": [
    "## Dictionnaires\n",
    "\n",
    "Les dictionnaires (= tables de hashage) sont des outils indispensables pour programmer.\n",
    "Un dictionnaire est une collection contenant des VALEURS (=VALUES) qui sont indicées par des CLEFS (KEYS) uniques. Souvent les clefs sont des chaines de caractères.\n",
    "\n",
    "Les dictionnaires sont très efficaces car le temps d'accès aux valeurs (via une clef) ne dépend pas de la taille du dictionnaire. Imaginez que chaque clef est transformée, via un hashage, en adresse mémoire qui pointe vers une valeur.\n",
    "\n",
    "Il y a des dictionnaires partout :\n",
    "\n",
    "*  votre système d'exploitation crée des dictionnaires avec comme clef tous les mots présents dans tous les documents de votre ordinateur, et comme valeur l'adresse des documents en questions. \n",
    "*  les moteurs de recherche créent des dictionnaires pour indexer tous les mots clefs dans toutes les langues.\n",
    "*  les bases de données créent des indexes pour accéder plus rapidement aux données."
   ]
  },
  {
   "cell_type": "code",
   "execution_count": 61,
   "metadata": {},
   "outputs": [
    {
     "data": {
      "text/plain": [
       "{'unEntier': 3,\n",
       " 'unStr': 'aba',\n",
       " 'unDico': {'unEntier': 3, 'unStr': 'aba'},\n",
       " 'uneListe': [1, 2, 3, 4, 5]}"
      ]
     },
     "execution_count": 61,
     "metadata": {},
     "output_type": "execute_result"
    }
   ],
   "source": [
    "\"\"\" création d'un dico par la notation 'JSON' (utilisées par de nombreux langages)\"\"\"\n",
    "dictionnaire = {'unEntier': 3, 'unStr': 'aba'}\n",
    "\"\"\"création d'un liste par la notation JSON\"\"\"\n",
    "maListe = [1, 2, 3, 4, 5]\n",
    "\n",
    "\"\"\"création d'un dico élément par élément \"\"\"\n",
    "dico = {}\n",
    "dico['unEntier'] = 3\n",
    "dico['unStr'] = 'aba'\n",
    "dico['unDico'] = dictionnaire\n",
    "dico['uneListe'] = maListe\n",
    "\n",
    "dico"
   ]
  },
  {
   "cell_type": "code",
   "execution_count": 62,
   "metadata": {},
   "outputs": [
    {
     "name": "stdout",
     "output_type": "stream",
     "text": [
      "3\n",
      "None\n"
     ]
    }
   ],
   "source": [
    "\"\"\" il y a deux façons d'accéder aux valeurs : \"\"\"\n",
    "print(dico['unEntier'])  # quand on est sûr que la clef est présente. \n",
    "print(dico.get('toto'))  # quand on n'est pas sûr. Cela renvoie None quand la clef n'est pas présente"
   ]
  },
  {
   "cell_type": "code",
   "execution_count": 56,
   "metadata": {},
   "outputs": [
    {
     "name": "stdout",
     "output_type": "stream",
     "text": [
      "{1: True, 2: True, 4: True}\n",
      "0 est dans notre ensemble ?: None\n"
     ]
    }
   ],
   "source": [
    "\"\"\"  Chaque clef dans un dictionnaire est unique.\n",
    "Les dictionnaires peuvent être utilisés pour représenter des listes sans répétition:\"\"\"\n",
    "\n",
    "uneListe = [1, 2, 1, 4, 1, 4, 1, 1, 1, 1]\n",
    "laListeSansRepetition = {}\n",
    "for i in uneListe:\n",
    "    laListeSansRepetition[i] = True\n",
    "print(laListeSansRepetition)\n",
    "print(\"0 est dans notre ensemble ?:\", laListeSansRepetition.get(0))"
   ]
  },
  {
   "cell_type": "code",
   "execution_count": 29,
   "metadata": {},
   "outputs": [
    {
     "name": "stdout",
     "output_type": "stream",
     "text": [
      "{1, 2, 4}\n",
      "{1, 2, 3, 4}\n"
     ]
    }
   ],
   "source": [
    "\"\"\" En fait, un dico avec que des \"True\" comme valeur est l'équivalent d'un ensemble (=set).  \"\"\"\n",
    "ensemble={1, 2, 1, 4, 1, 4, 1, 1, 1, 1} \n",
    "# c'est comme {1:True, 2:True, 1:True, 4:True, 1:True, 4:True, 1:True, 1:True, 1:True, 1:True}\n",
    "\n",
    "print(ensemble)\n",
    "ensemble.add(3)\n",
    "ensemble.add(1)\n",
    "print(ensemble)"
   ]
  },
  {
   "cell_type": "code",
   "execution_count": 58,
   "metadata": {},
   "outputs": [
    {
     "name": "stdout",
     "output_type": "stream",
     "text": [
      "['bonjour', 'bonjour', 'toi', 'toi', 'toi', 'comment', 'va', 'va']\n"
     ]
    },
    {
     "data": {
      "text/plain": [
       "{'bonjour': 2, 'toi': 3, 'comment': 1, 'va': 2}"
      ]
     },
     "execution_count": 58,
     "metadata": {},
     "output_type": "execute_result"
    }
   ],
   "source": [
    "\"\"\"les dictionnaires sont souvent utilisés pour compter des occurences\"\"\"\n",
    "unePhrase = \"bonjour bonjour toi toi toi comment va va\"\n",
    "lesMots = unePhrase.split(sep=\" \")\n",
    "print(lesMots)\n",
    "dico = {}\n",
    "for mot in lesMots:\n",
    "    if dico.get(mot) is None:\n",
    "        dico[mot] = 1\n",
    "    else:\n",
    "        dico[mot] += 1\n",
    "        \n",
    "dico"
   ]
  },
  {
   "cell_type": "code",
   "execution_count": 60,
   "metadata": {},
   "outputs": [
    {
     "data": {
      "text/plain": [
       "{'bonjour': 5, 'toi': 7, 'comment': 3, 'va': 5}"
      ]
     },
     "execution_count": 60,
     "metadata": {},
     "output_type": "execute_result"
    }
   ],
   "source": [
    "\"\"\"une astuce pour aller plus vite (éventuellement vous pouvez l'ignorer)\"\"\"\n",
    "dico2 = {}\n",
    "for mot in lesMots:\n",
    "    \"\"\"dico.get(key,0) renvoît 0 (au lieu de None) quand la clef n'est pas présente\"\"\"\n",
    "    dico2[mot]=dico.get(mot,0)+1\n",
    "dico2"
   ]
  },
  {
   "cell_type": "code",
   "execution_count": 32,
   "metadata": {},
   "outputs": [
    {
     "name": "stdout",
     "output_type": "stream",
     "text": [
      "{7: (5, 5), 'toto': 7, 5: 'bou', (9, 8): 7}\n",
      "[7, 'toto', 5, (9, 8)]\n",
      "[(5, 5), 7, 'bou', 7]\n",
      "7 (5, 5)\n",
      "toto 7\n",
      "5 bou\n",
      "(9, 8) 7\n",
      "{(5, 5): 7, 7: (9, 8), 'bou': 5}\n",
      "{(5, 5): 7, 7: (9, 8), 'bou': 5}\n"
     ]
    }
   ],
   "source": [
    "\"\"\"on voit que l'on peut indicer les dicos avec n'importe quoi comme clefs,\n",
    "     et l'on voit comment on inverse les clefs et valeurs dans un dico\"\"\"\n",
    "a=7\n",
    "b=(9,8)\n",
    "dico={a:5,\"toto\":7,5:\"bou\",b:7,7:(5,5)}\n",
    "print(dico)\n",
    "print(list(dico.keys()))\n",
    "print(list(dico.values()))\n",
    "\n",
    "\"inversons un dico\"\n",
    "dicoInv={}\n",
    "for key,val in dico.items():\n",
    "    print(key,val)\n",
    "    dicoInv[val]=key\n",
    "\n",
    "print(dicoInv)\n",
    "\n",
    "\"la même chose en une ligne\"\n",
    "dicoInv2={ val:key for key,val in dico.items() }\n",
    "print(dicoInv2)"
   ]
  },
  {
   "cell_type": "markdown",
   "metadata": {},
   "source": [
    "Mais peut-on vraiment utiliser n'importe quoi comme clef  ? Dans le programme ci-dessus, essayer de remplacer `b=(9,8)` par  `b=[9,8]` pour voir. "
   ]
  },
  {
   "cell_type": "markdown",
   "metadata": {},
   "source": [
    "***Exo:*** $(4\\heartsuit)$ Le but est de créer une fonction qui calcule *rapidement* les éléments communs à deux listes. Par exemple avec comme entrée:\n",
    "    \n",
    "        liste1=[1,3,5,7]\n",
    "        liste2=[8,6,5,3,2]\n",
    "        \n",
    "cette fonction renverra `[3,5]` ou `[5,3]`.  \n",
    "\n",
    "Naivement, on effectuerait une double boucle:\n",
    "```\n",
    "inter=[]\n",
    "for i in liste1:\n",
    "    for j in liste2:\n",
    "        if i==j: inter.append(j)\n",
    "```\n",
    "\n",
    "Mais la bonne technique  est de transformer la première listes en dico/ensemble puis de boucler sur la seconde liste. Cela va beaucoup plus vite.  \n",
    "\n",
    "Remarque: il existe une procédure toute faite (ci-dessous), ne l'utilisez pas! "
   ]
  },
  {
   "cell_type": "code",
   "execution_count": 34,
   "metadata": {},
   "outputs": [
    {
     "data": {
      "text/plain": [
       "{3, 5}"
      ]
     },
     "execution_count": 34,
     "metadata": {},
     "output_type": "execute_result"
    }
   ],
   "source": [
    "liste1=[1,3,5,7]\n",
    "liste2=[8,6,5,3,2]\n",
    "\n",
    "ensemble1=set(liste1)\n",
    "ensemble2=set(liste2)\n",
    "inter=ensemble1.intersection(ensemble2)\n",
    "inter"
   ]
  },
  {
   "cell_type": "code",
   "execution_count": null,
   "metadata": {},
   "outputs": [],
   "source": []
  }
 ],
 "metadata": {
  "kernelspec": {
   "display_name": "Python 3",
   "language": "python",
   "name": "python3"
  },
  "language_info": {
   "codemirror_mode": {
    "name": "ipython",
    "version": 3
   },
   "file_extension": ".py",
   "mimetype": "text/x-python",
   "name": "python",
   "nbconvert_exporter": "python",
   "pygments_lexer": "ipython3",
   "version": "3.6.5"
  }
 },
 "nbformat": 4,
 "nbformat_minor": 2
}
