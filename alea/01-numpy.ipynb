{
 "cells": [
  {
   "cell_type": "markdown",
   "metadata": {},
   "source": [
    "# <center> les tenseurs numpy </center>"
   ]
  },
  {
   "cell_type": "markdown",
   "metadata": {},
   "source": [
    "Rappelons que les liste sont des tableaux extensibles à volonté et qui peuvent contenir n'importe quoi. On les créer avec:\n",
    "\n",
    "            unListe=[]\n",
    "\n",
    " Dans un cadre scientifique, on travaille essentiellement avec numpy qui créer des tenseurs (=tableau multi-dimensionnel):\n",
    "* tenseur d'ordre 1 = vecteur, ex: pour stocker du son\n",
    "* tenseur d'ordre 2 = matrice, ex: pour stocker une image\n",
    "* tenseur d'ordre 3 = volume, ex: pour stocker une vidéo\n",
    "* tenseur d'ordre 4 = très utile quand on fait du deep-learning\n",
    "\n",
    "Ces tableau numpy ont une taille fixée à l'avance, et ne peuvent contenir qu'un seul type d'objet : int ou float\n",
    "\n"
   ]
  },
  {
   "cell_type": "code",
   "execution_count": 20,
   "metadata": {},
   "outputs": [],
   "source": [
    "import numpy as np"
   ]
  },
  {
   "cell_type": "markdown",
   "metadata": {},
   "source": [
    "On précise l'affichage des tableau numpy :\n",
    "* 3 décimales après la virgule *\n",
    "* on supprime la notation scientifique des nombres\n",
    "* on veut de grandes lignes\n"
   ]
  },
  {
   "cell_type": "code",
   "execution_count": 30,
   "metadata": {},
   "outputs": [],
   "source": [
    "np.set_printoptions(precision=3,suppress=True,linewidth=5000)\n"
   ]
  },
  {
   "cell_type": "markdown",
   "metadata": {},
   "source": [
    "# type des données\n",
    "\n",
    "Nous utiliserons essentiellement des tableaux contenant des flottant (64 bit) ou des d'entier (64 bit). \n"
   ]
  },
  {
   "cell_type": "markdown",
   "metadata": {},
   "source": [
    "### Tableau de flotant"
   ]
  },
  {
   "cell_type": "code",
   "execution_count": 13,
   "metadata": {},
   "outputs": [
    {
     "name": "stdout",
     "output_type": "stream",
     "text": [
      "vec\n",
      " [ 1.  2.  3.  4.]\n",
      "mat\n",
      " [[ 1.  2.  0.]\n",
      " [ 3.  4.  0.]]\n",
      "vec: float64 (4,)\n",
      "mat: float64 (2, 3)\n"
     ]
    }
   ],
   "source": [
    "\"\"\"un vecteur initialisé par une liste de valeurs. \"\"\"\n",
    "vec=np.array([1.,2,3,4])\n",
    "\"\"\"une matrice\"\"\"\n",
    "mat=np.array([ [1.,2,0],[3,4,0]])\n",
    "\"notez qu'on a mis au moins un coefficient flottant (avec un point)\"\n",
    "\n",
    "print(\"vec\\n\",vec)\n",
    "print(\"mat\\n\",mat)\n",
    "\n",
    "\"\"\" Les principales caractéristiques d'un tableau sont:\"\"\"\n",
    "print(\"vec:\",vec.dtype,vec.shape)\n",
    "print(\"mat:\",mat.dtype,mat.shape)\n",
    "\n"
   ]
  },
  {
   "cell_type": "code",
   "execution_count": 14,
   "metadata": {},
   "outputs": [
    {
     "name": "stdout",
     "output_type": "stream",
     "text": [
      "\n",
      " vec_zero\n",
      " [ 0.  0.  0.  0.  0.]\n",
      "\n",
      " mat_un \n",
      " [[ 1.  1.  1.  1.]\n",
      " [ 1.  1.  1.  1.]\n",
      " [ 1.  1.  1.  1.]\n",
      " [ 1.  1.  1.  1.]\n",
      " [ 1.  1.  1.  1.]]\n"
     ]
    }
   ],
   "source": [
    "#vecteur de flotant initialisé à 0, matrice de flottant initialisé à 1\n",
    "vec_zero=np.zeros(shape=[5])\n",
    "mat_un=np.ones(shape=[5,4])\n",
    "print(\"\\n vec_zero\\n\",vec_zero)\n",
    "print(\"\\n mat_un \\n\",mat_un)"
   ]
  },
  {
   "cell_type": "markdown",
   "metadata": {},
   "source": [
    "### Tableau d'entier\n",
    "\n",
    "Dès qu'un tableau à vocation à stocer des indices il faut nécessairement que se soit un tableau d'entier. Dans le cas contraire, je vous conseille de toujours favoriser les tableau de flotant. \n"
   ]
  },
  {
   "cell_type": "code",
   "execution_count": 15,
   "metadata": {},
   "outputs": [
    {
     "name": "stdout",
     "output_type": "stream",
     "text": [
      "[0 3 1]\n",
      "int64\n",
      "[ 0.  6.  2.]\n"
     ]
    }
   ],
   "source": [
    "indices=np.array([0,3,1])\n",
    "vec = np.array([0.,2,4,6,8,10])\n",
    "print(indices)\n",
    "print(indices.dtype)\n",
    "print(vec[indices])"
   ]
  },
  {
   "cell_type": "code",
   "execution_count": 16,
   "metadata": {},
   "outputs": [
    {
     "name": "stdout",
     "output_type": "stream",
     "text": [
      "[ 1.5  2.5  3.5  4.5]  dtype: float64\n",
      "[1 2 3 4]  dtype: int64\n",
      "[ 1.  2.  3.  4.]  dtype: float64\n"
     ]
    }
   ],
   "source": [
    "#convertissons\n",
    "vec=np.array([1.5,2.5,3.5,4.5])\n",
    "print(vec,\" dtype:\",vec.dtype)\n",
    "vec=vec.astype(np.int64)\n",
    "print(vec,\" dtype:\",vec.dtype)\n",
    "vec=vec.astype(np.float64)\n",
    "print(vec,\" dtype:\",vec.dtype)\n"
   ]
  },
  {
   "cell_type": "markdown",
   "metadata": {},
   "source": [
    "***Exo :*** changez `indices` pour qu'il contienne des flottant et lisez le message d'erreur qui en découle.  "
   ]
  },
  {
   "cell_type": "markdown",
   "metadata": {},
   "source": [
    "# Opérations élément par élément"
   ]
  },
  {
   "cell_type": "code",
   "execution_count": 18,
   "metadata": {},
   "outputs": [
    {
     "name": "stdout",
     "output_type": "stream",
     "text": [
      "vec [ 1.  2.  3.  4.]\n",
      "vec_carre [  1.   4.   9.  16.]\n",
      "vec2 [  2.   6.  12.  20.]\n",
      "vec3 [  7.  14.  21.  28.]\n",
      "vec4 [ 0.84147098  0.90929743  0.14112001 -0.7568025 ]\n",
      "vec5 [  14.   84.  252.  560.]\n"
     ]
    }
   ],
   "source": [
    "\"\"\"toutes ces opérations sur les tenseurs sont faites terme à terme.\"\"\"\n",
    "\n",
    "vec = np.array([1., 2, 3, 4])\n",
    "vec_carre = vec**2\n",
    "vec2= vec+vec_carre\n",
    "vec3=7*vec\n",
    "vec4=np.sin(vec)\n",
    "vec5=vec2*vec3\n",
    "\n",
    "\n",
    "print(\"vec\",vec)\n",
    "print(\"vec_carre\",vec_carre)\n",
    "print(\"vec2\",vec2)\n",
    "print(\"vec3\",vec3)\n",
    "print(\"vec4\",vec4)\n",
    "print(\"vec5\",vec5)"
   ]
  },
  {
   "cell_type": "markdown",
   "metadata": {},
   "source": [
    "Toutes ces fonctions numpy ne modifient par l'argument de départ (une 'copie' est faite). "
   ]
  },
  {
   "cell_type": "code",
   "execution_count": 21,
   "metadata": {},
   "outputs": [
    {
     "name": "stdout",
     "output_type": "stream",
     "text": [
      "[ 1.  2.  3.  4.]\n",
      "[  1.   4.   9.  16.]\n",
      "[ 0.841  0.909  0.141 -0.757]\n",
      "vec [ 1.  2.  3.  4.]\n"
     ]
    }
   ],
   "source": [
    "vec = np.array([1., 2, 3, 4])\n",
    "vec1=vec**2\n",
    "vec2=np.sin(vec)\n",
    "\n",
    "print(vec.round())\n",
    "print(vec1)\n",
    "print(vec2)\n",
    "\n",
    "\"\"\"vec n'a pas changer\"\"\"\n",
    "print(\"vec\",vec)"
   ]
  },
  {
   "cell_type": "markdown",
   "metadata": {},
   "source": [
    "De nombreuses fonctions numpy peuvent s'utiliser avec deux syntaxes différentes : \n",
    "        \n",
    "1. `np.fonction(tenseur)`\n",
    "        \n",
    "2. `tenseur.fonction()`\n",
    "\n",
    "Et même dans le second cas, une copie du tenseur est faites ; c'est un peu trompeur car la syntaxe objet `tenseur.fonction()` suggère en générale une opération modifiant l'objet (opération \"inPlace\")"
   ]
  },
  {
   "cell_type": "code",
   "execution_count": 22,
   "metadata": {},
   "outputs": [
    {
     "name": "stdout",
     "output_type": "stream",
     "text": [
      "vec1 [ 1.1  2.1  3.1  4.1]\n",
      "vec2 [ 1.1  2.1  3.1  4.1]\n",
      "vec [ 1.123  2.123  3.123  4.123]\n"
     ]
    }
   ],
   "source": [
    "vec = np.array([1.1234, 2.1234, 3.1234, 4.1234])\n",
    "\n",
    "\"\"\"arrondir\"\"\"\n",
    "vec1= np.round(vec,1)\n",
    "\"\"\"idem avec syntaxe différente\"\"\"\n",
    "vec2= vec.round(1)\n",
    "\n",
    "print(\"vec1\", vec1)\n",
    "print(\"vec2\", vec2)\n",
    "\n",
    "\n",
    "\"\"\"vec n'a pas changer (cependant il ne s'affiche qu'avec 3 décimales à cause de notre entête)\"\"\"\n",
    "print(\"vec\", vec)"
   ]
  },
  {
   "cell_type": "markdown",
   "metadata": {},
   "source": [
    "# Modifier un tenseur"
   ]
  },
  {
   "cell_type": "code",
   "execution_count": 23,
   "metadata": {},
   "outputs": [
    {
     "name": "stdout",
     "output_type": "stream",
     "text": [
      "vec et mat après modification\n",
      "[ 10.   2.   3.   4.]\n",
      "[[  1.   2.]\n",
      " [  3.  10.]]\n",
      "\n",
      "vec_zero\n",
      " [ 5.  5.  5.  0.  0.]\n",
      "\n",
      "mat_un\n",
      " [[ 7.  7.  7.  1.]\n",
      " [ 7.  7.  7.  1.]\n",
      " [ 1.  1.  1.  1.]\n",
      " [ 1.  1.  1.  1.]\n",
      " [ 1.  1.  1.  1.]]\n"
     ]
    }
   ],
   "source": [
    "vec = np.array([1., 2, 3, 4])\n",
    "mat = np.array([[1., 2], [3, 4]])\n",
    "\n",
    "\"\"\"modifier un élément\"\"\"\n",
    "vec[0] = 10.  # la numérotation commence à zéro\n",
    "mat[1, 1] = 10.\n",
    "\n",
    "\"\"\" attention, on a ainsi modifier les objets initiaux\"\"\"\n",
    "print(\"vec et mat après modification\")\n",
    "print(vec)\n",
    "print(mat)\n",
    "\n",
    "\"\"\"modifier un bloc d'élément\"\"\"\n",
    "vec_zero = np.zeros(shape=[5])\n",
    "vec_zero[0:3]=5 # [0:3] indique les indices dans l'intervalle [0,3[\n",
    "\n",
    "mat_un = np.ones(shape=[5, 4])\n",
    "mat_un[0:2,0:3]=7\n",
    "\n",
    "print(\"\\nvec_zero\\n\", vec_zero)\n",
    "print(\"\\nmat_un\\n\", mat_un)"
   ]
  },
  {
   "cell_type": "markdown",
   "metadata": {},
   "source": [
    "Extraire une partie d'un tenseur puis la modifier."
   ]
  },
  {
   "cell_type": "code",
   "execution_count": 26,
   "metadata": {},
   "outputs": [
    {
     "name": "stdout",
     "output_type": "stream",
     "text": [
      "\n",
      " mat_un\n",
      " [[ 7.  7.  7.  1.]\n",
      " [ 7.  7.  7.  1.]\n",
      " [ 1.  1.  1.  1.]\n",
      " [ 1.  1.  1.  1.]\n",
      " [ 1.  1.  1.  1.]]\n",
      "\n",
      " part\n",
      " [[ 7.  7.  7.]\n",
      " [ 7.  7.  7.]]\n"
     ]
    }
   ],
   "source": [
    "mat_un = np.ones(shape=[5, 4])\n",
    "\n",
    "part=mat_un[0:2, 0:3]\n",
    "\"\"\"toute la partie est mise à 7\"\"\"\n",
    "part[:,:]=7\n",
    "\n",
    "\"\"\"et là, observez : c'est à la fois logique et surprenant:\"\"\"\n",
    "print(\"\\n mat_un\\n\", mat_un)\n",
    "print(\"\\n part\\n\", part)"
   ]
  },
  {
   "cell_type": "markdown",
   "metadata": {},
   "source": [
    "Comment ça marche :\n",
    "\n",
    "        mat_un = np.ones(shape=[5, 4])\n",
    "        \n",
    "L'ordi crée un tableau dans la mémoire de l'ordinateur. la variable 'mat_un' est une vue (=référence) sur ce tableau.\n",
    "        \n",
    "        part=mat_un[0:2, 0:3]\n",
    "        \n",
    "la variable 'part' est une vue sur une partie de ce tableau en mémoire. en effectuant :\n",
    "        \n",
    "        part[:,:]=7\n",
    "        \n",
    "on modifie une partie du tableau en mémoire. \n",
    "\n",
    "Par contre quand on fait :\n",
    "        \n",
    "        a=mat_un[0,0]\n",
    "        \n",
    "la variable `a` contient une copie du coefficient `mat_un[0,0]`. Modifier `a` ne modifie pas le tableau en mémoire. La preuve :"
   ]
  },
  {
   "cell_type": "code",
   "execution_count": 28,
   "metadata": {},
   "outputs": [
    {
     "name": "stdout",
     "output_type": "stream",
     "text": [
      "a= 7\n",
      "\n",
      " mat_un\n",
      " [[ 1.  1.  1.  1.]\n",
      " [ 1.  1.  1.  1.]\n",
      " [ 1.  1.  1.  1.]\n",
      " [ 1.  1.  1.  1.]\n",
      " [ 1.  1.  1.  1.]]\n"
     ]
    }
   ],
   "source": [
    "mat_un = np.ones(shape=[5, 4])\n",
    "a=mat_un[0,0]\n",
    "a=7\n",
    "print('a=',a)\n",
    "print(\"\\n mat_un\\n\", mat_un)"
   ]
  },
  {
   "cell_type": "markdown",
   "metadata": {},
   "source": [
    "***Exo :*** Que sont les tenseurs a,b,c,.... ci-dessous ?\n",
    "Mettez la réponse sur du papier, faites bien la différence entre les vecteurs et les matrices\n",
    "puis vérifiez avec un `print`\n",
    "Indiquez pour chaque cas, s'il s'agit d'un nombre, d'un vecteur ou d'une matrice."
   ]
  },
  {
   "cell_type": "code",
   "execution_count": 33,
   "metadata": {},
   "outputs": [
    {
     "name": "stdout",
     "output_type": "stream",
     "text": [
      "\n",
      "mat \n",
      " [[ 0.  1.  2.  3.]\n",
      " [ 1.  2.  3.  4.]\n",
      " [ 2.  3.  4.  5.]]\n"
     ]
    }
   ],
   "source": [
    "\"\"\"remplissons une matrice par une double boucle\"\"\"\n",
    "nbLigne = 3\n",
    "nbColonne = 4\n",
    "mat = np.zeros([nbLigne, nbColonne])\n",
    "for i in range(nbLigne):\n",
    "    for j in range(nbColonne):\n",
    "        mat[i, j] = i + j\n",
    "\n",
    "print(\"\\nmat \\n\",mat)\n",
    "\n",
    "a = mat[0, :]\n",
    "aBis = mat[0:1, :]\n",
    "b = mat[:,0]\n",
    "c = mat[:, nbColonne - 1]\n",
    "d = mat[:,  - 1]  # ça: c'est idem que la ligne précédente\n",
    "e = mat[-1,-1]\n",
    "f = mat[0:2,:]\n",
    "g = mat[0:2, 0:1]"
   ]
  },
  {
   "cell_type": "markdown",
   "metadata": {},
   "source": [
    "# Sélection par valeurs et par indices"
   ]
  },
  {
   "cell_type": "markdown",
   "metadata": {},
   "source": [
    "# Application :  loi forte des grands nombres\n",
    "\n",
    "Illustrons graphiquement la loi forte des grands nombres.\n",
    "On montre que : plus on moyenne de va, et plus on se rapproche de l'espérance. \n",
    "\n",
    "Mathématiquement : \n",
    "Soit (X_n) une suite de v.a, qui admet une espérance : \n",
    "\n",
    "\tlim_n 1/n (X_1+....+X_n) =  E[X_1]\n",
    "\n",
    "Remarque : pour illustrer ce théorème, on va traver la courbe \n",
    "\n",
    "\tn -> 1/n (X_1+....+X_n)\n",
    "\n",
    "mais on n'est pas obligé de l'évaluer pour tous les n (on peut aller par exemple par pas de 40)\n",
    "\n"
   ]
  },
  {
   "cell_type": "code",
   "execution_count": 11,
   "metadata": {},
   "outputs": [
    {
     "data": {
      "image/png": "[encoded data removed]",
      "text/plain": [
       "<matplotlib.figure.Figure at 0x107713be0>"
      ]
     },
     "metadata": {},
     "output_type": "display_data"
    }
   ],
   "source": [
    "import matplotlib.pyplot as plt\n",
    "% matplotlib inline\n",
    "\n",
    "\"\"\" np.arange c'est comme range() sauf que cela donne un tableau numpy\"\"\"\n",
    "n_max=10000\n",
    "ns=np.arange(10,n_max,40)\n",
    "means=[]\n",
    "for n in ns:\n",
    "    simus=np.random.uniform(0,10,size=n)\n",
    "    means.append(np.mean(simus))\n",
    "\n",
    "plt.plot(ns,means)\n",
    "plt.plot([0,n_max],[5,5])\n",
    "plt.show()"
   ]
  },
  {
   "cell_type": "markdown",
   "metadata": {},
   "source": [
    "Mais j'ai volontairement fait une erreur dans le programme précédent, une erreur que font beaucoup d'étudiant chaque année : \n",
    "Écrivez précisément la loi des grands nombre, comparez cet énoncé avec le programme ci-dessus.\n",
    "Trouvez le bug mathématique."
   ]
  },
  {
   "cell_type": "markdown",
   "metadata": {},
   "source": [
    "# Application : moyenne et écart-type"
   ]
  },
  {
   "cell_type": "code",
   "execution_count": 34,
   "metadata": {},
   "outputs": [
    {
     "name": "stdout",
     "output_type": "stream",
     "text": [
      "loi uniforme sur [0,1]\n",
      "mu_hat 0.443704816306\n",
      "si_hat 0.272584497045\n",
      "loi normale\n",
      "mu_hat 0.0680259714359\n",
      "si_hat 1.20482403032\n"
     ]
    }
   ],
   "source": [
    "nbData=10\n",
    "X1=np.random.random(size=nbData)\n",
    "X2=np.random.normal(size=nbData)\n",
    "\n",
    "\"\"\"calculons leur moyenne, qu'on peut  appeler : mu_hat (mu pour espérance, et hat pour estimation)\n",
    "calculons leur écart type empirique : si_hat (si pour écart type, et hat pour estimation)\n",
    "La formule écart type empirique  est ...  \"\"\"\n",
    "\n",
    "print(\"loi uniforme sur [0,1]\")\n",
    "print(\"mu_hat\",X1.mean())\n",
    "print(\"si_hat\",X1.std())\n",
    "\n",
    "print(\"loi normale\")\n",
    "print(\"mu_hat\", X2.mean())\n",
    "print(\"si_hat\", X2.std())"
   ]
  },
  {
   "cell_type": "markdown",
   "metadata": {},
   "source": [
    "Vérifiez expérimentallement les résultats suivants:\n",
    "* l'espérance de la somme de deux variables aléatoires est  ...\n",
    "* la variance de la somme de deux variables aléatoires indépendantes est ...\n",
    " \n",
    "* soientt X une va, a et b des constantes. \n",
    "$$\n",
    "\\mathbf E[aX+b]= ...\n",
    "$$\n",
    "$$\n",
    "\\mathbf V[aX+b]= ...\n",
    "$$"
   ]
  },
  {
   "cell_type": "code",
   "execution_count": null,
   "metadata": {},
   "outputs": [],
   "source": []
  }
 ],
 "metadata": {
  "kernelspec": {
   "display_name": "Python 3",
   "language": "python",
   "name": "python3"
  },
  "language_info": {
   "codemirror_mode": {
    "name": "ipython",
    "version": 3
   },
   "file_extension": ".py",
   "mimetype": "text/x-python",
   "name": "python",
   "nbconvert_exporter": "python",
   "pygments_lexer": "ipython3",
   "version": "3.5.0"
  }
 },
 "nbformat": 4,
 "nbformat_minor": 2
}
