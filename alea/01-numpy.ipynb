{
 "cells": [
  {
   "cell_type": "markdown",
   "metadata": {},
   "source": [
    "# Numpy\n",
    "\n",
    "## Qu'est-ce?"
   ]
  },
  {
   "cell_type": "markdown",
   "metadata": {},
   "source": [
    "Les listes python sont extensibles à volonté et peuvent contenir n'importe quoi. On les créer avec les crochets:`uneListe=[]`. Dans un cadre scientifique, pour des questions de performances, on travaille essentiellement avec `numpy` qui crée des tenseurs, c.à.d:\n",
    "\n",
    "* des tableaux multi-dimensionnel \n",
    "* de taille fixée\n",
    "* qui ne peuvent contenir qu'un seul type d'objet : `int` ou `float` (numpy gère d'autre types, mais on ne les utisera pas)\n",
    "* rapidement manipulable dans leur ensemble\n",
    "\n",
    "L'ordre d'un tenseur, c'est son nombre d'indices:\n",
    "\n",
    "* tenseur d'ordre 1 = vecteur, ex: pour stocker du son\n",
    "* tenseur d'ordre 2 = matrice, ex: pour stocker une image\n",
    "* tenseur d'ordre 3 = volume, ex: pour stocker une vidéo\n",
    "* tenseur d'ordre 4 = très utile quand on fait du deep-learning\n"
   ]
  },
  {
   "cell_type": "code",
   "execution_count": 32,
   "metadata": {},
   "outputs": [],
   "source": [
    "import numpy as np"
   ]
  },
  {
   "cell_type": "markdown",
   "metadata": {},
   "source": [
    "On précise l'affichage des tableau numpy :\n",
    "\n",
    "* 3 décimales après la virgule\n",
    "* on supprime la notation scientifique des nombres\n",
    "* on veut de grandes lignes\n"
   ]
  },
  {
   "cell_type": "code",
   "execution_count": 33,
   "metadata": {
    "slideshow": {
     "slide_type": "slide"
    }
   },
   "outputs": [],
   "source": [
    "np.set_printoptions(precision=3,suppress=True,linewidth=5000)"
   ]
  },
  {
   "cell_type": "markdown",
   "metadata": {},
   "source": [
    "## Type des données\n",
    "\n",
    "Pour les proba-stats, nous utiliserons essentiellement des tableaux contenant des flottant de 64 bit ou des d'entier de 64 bits. Mais par exemple, quand on manipule des images, les pixels sont des entiers de 8 bits. "
   ]
  },
  {
   "cell_type": "markdown",
   "metadata": {},
   "source": [
    "### Tableau de flotant"
   ]
  },
  {
   "cell_type": "code",
   "execution_count": 34,
   "metadata": {},
   "outputs": [
    {
     "name": "stdout",
     "output_type": "stream",
     "text": [
      "vec\n",
      " [1. 2. 3. 4.]\n",
      "mat\n",
      " [[1. 2. 0.]\n",
      " [3. 4. 0.]]\n"
     ]
    }
   ],
   "source": [
    "\"\"\"un vecteur initialisé par une liste de valeurs. \"\"\"\n",
    "vec=np.array([1.,2,3,4])\n",
    "\"\"\"une matrice\"\"\"\n",
    "mat=np.array([ [1.,2,0],[3,4,0]])\n",
    "\"notez qu'on a mis au moins un coefficient flottant (avec un point)\"\n",
    "\n",
    "print(\"vec\\n\",vec)\n",
    "print(\"mat\\n\",mat)"
   ]
  },
  {
   "cell_type": "markdown",
   "metadata": {},
   "source": [
    "Les principales caractéristiques d'un tableau sont:\n",
    "\n",
    "* `dtype` = data-type\n",
    "* `shape` = sa forme"
   ]
  },
  {
   "cell_type": "code",
   "execution_count": 35,
   "metadata": {},
   "outputs": [
    {
     "name": "stdout",
     "output_type": "stream",
     "text": [
      "vec: float64 (4,)\n",
      "mat: float64 (2, 3)\n"
     ]
    }
   ],
   "source": [
    "print(\"vec:\",vec.dtype,vec.shape)\n",
    "print(\"mat:\",mat.dtype,mat.shape)"
   ]
  },
  {
   "cell_type": "code",
   "execution_count": 36,
   "metadata": {
    "slideshow": {
     "slide_type": "slide"
    }
   },
   "outputs": [
    {
     "name": "stdout",
     "output_type": "stream",
     "text": [
      "\n",
      " vec_zero\n",
      " [0. 0. 0. 0. 0.]\n",
      "\n",
      " mat_un \n",
      " [[1. 1. 1. 1.]\n",
      " [1. 1. 1. 1.]\n",
      " [1. 1. 1. 1.]\n",
      " [1. 1. 1. 1.]\n",
      " [1. 1. 1. 1.]]\n"
     ]
    }
   ],
   "source": [
    "\"\"\"vecteur de flotant initialisé à 0, matrice de flottant initialisé à 1\"\"\"\n",
    "vec_zero=np.zeros(shape=[5])\n",
    "mat_un=np.ones(shape=[5,4])\n",
    "print(\"\\n vec_zero\\n\",vec_zero)\n",
    "print(\"\\n mat_un \\n\",mat_un)"
   ]
  },
  {
   "cell_type": "markdown",
   "metadata": {},
   "source": [
    "### Tableau d'entier\n",
    "\n",
    "Attention, depuis python 3, les indices de tableau doivent nécessairement être des entier. Par exemple `a[3.0]` renvoie une erreur.  \n",
    "\n",
    "Du coup, si l'on veut faire un tableau qui contiens plusieurs indices, il faut créer un tableau d'entier. C'est d'ailleurs le seul cas où l'on va utiliser de tels tableaux."
   ]
  },
  {
   "cell_type": "code",
   "execution_count": 37,
   "metadata": {},
   "outputs": [
    {
     "name": "stdout",
     "output_type": "stream",
     "text": [
      "[0 3 1]\n",
      "int64\n",
      "[0. 6. 2.]\n"
     ]
    }
   ],
   "source": [
    "indices=np.array([0,3,1])\n",
    "vec = np.array([0.,2,4,6,8,10])\n",
    "print(indices)\n",
    "print(indices.dtype)\n",
    "print(vec[indices])"
   ]
  },
  {
   "cell_type": "code",
   "execution_count": 38,
   "metadata": {},
   "outputs": [
    {
     "name": "stdout",
     "output_type": "stream",
     "text": [
      "[1.5 2.5 3.5 4.5]  dtype: float64\n",
      "[1 2 3 4]  dtype: int64\n",
      "[1. 2. 3. 4.]  dtype: float64\n"
     ]
    }
   ],
   "source": [
    "\"\"\"convertissons\"\"\"\n",
    "vec=np.array([1.5,2.5,3.5,4.5])\n",
    "print(vec,\" dtype:\",vec.dtype)\n",
    "vec=vec.astype(np.int64)\n",
    "print(vec,\" dtype:\",vec.dtype)\n",
    "vec=vec.astype(np.float64)\n",
    "print(vec,\" dtype:\",vec.dtype)\n"
   ]
  },
  {
   "cell_type": "markdown",
   "metadata": {
    "slideshow": {
     "slide_type": "slide"
    }
   },
   "source": [
    "***Exo :*** modifiez $(1\\heartsuit)$ le vecteur `indices` ci-dessus, pour qu'il contienne des flottant. Indiquez le message d'erreur qui en découle.  "
   ]
  },
  {
   "cell_type": "markdown",
   "metadata": {},
   "source": [
    "## Opérations élément par élément"
   ]
  },
  {
   "cell_type": "code",
   "execution_count": 39,
   "metadata": {
    "slideshow": {
     "slide_type": "slide"
    }
   },
   "outputs": [
    {
     "name": "stdout",
     "output_type": "stream",
     "text": [
      "vec [1. 2. 3. 4.]\n",
      "vec_carre [ 1.  4.  9. 16.]\n",
      "vec2 [ 2.  6. 12. 20.]\n",
      "vec3 [ 7. 14. 21. 28.]\n",
      "vec4 [ 0.841  0.909  0.141 -0.757]\n",
      "vec5 [ 14.  84. 252. 560.]\n"
     ]
    }
   ],
   "source": [
    "\"\"\"toutes ces opérations sur les tenseurs sont faites terme à terme.\"\"\"\n",
    "\n",
    "vec = np.array([1., 2, 3, 4])\n",
    "vec_carre = vec**2\n",
    "vec2= vec+vec_carre\n",
    "vec3=7*vec\n",
    "vec4=np.sin(vec)\n",
    "vec5=vec2*vec3\n",
    "\n",
    "\n",
    "print(\"vec\",vec)\n",
    "print(\"vec_carre\",vec_carre)\n",
    "print(\"vec2\",vec2)\n",
    "print(\"vec3\",vec3)\n",
    "print(\"vec4\",vec4)\n",
    "print(\"vec5\",vec5)"
   ]
  },
  {
   "cell_type": "markdown",
   "metadata": {},
   "source": [
    "Toutes ces fonctions numpy ne modifient pas l'argument de départ (une 'copie' est faite). "
   ]
  },
  {
   "cell_type": "code",
   "execution_count": 40,
   "metadata": {},
   "outputs": [
    {
     "name": "stdout",
     "output_type": "stream",
     "text": [
      "[1. 2. 3. 4.]\n",
      "[ 1.  4.  9. 16.]\n",
      "[ 0.841  0.909  0.141 -0.757]\n",
      "vec [1. 2. 3. 4.]\n"
     ]
    }
   ],
   "source": [
    "vec = np.array([1., 2, 3, 4])\n",
    "vec1=vec**2\n",
    "vec2=np.sin(vec)\n",
    "\n",
    "print(vec.round())\n",
    "print(vec1)\n",
    "print(vec2)\n",
    "\n",
    "\"\"\"vec n'a pas changer\"\"\"\n",
    "print(\"vec\",vec)"
   ]
  },
  {
   "cell_type": "markdown",
   "metadata": {},
   "source": [
    "De nombreuses fonctions numpy peuvent s'utiliser avec deux syntaxes différentes : \n",
    "        \n",
    "1. `np.fonction(tenseur)`\n",
    "        \n",
    "2. `tenseur.fonction()`\n",
    "\n",
    "Et même dans le second cas, une copie du tenseur est faites ; c'est un peu trompeur car la syntaxe objet `tenseur.fonction()` suggère en générale une opération modifiant l'objet (opération \"inPlace\")"
   ]
  },
  {
   "cell_type": "code",
   "execution_count": 10,
   "metadata": {},
   "outputs": [
    {
     "name": "stdout",
     "output_type": "stream",
     "text": [
      "vec1 [1.1 2.1 3.1 4.1]\n",
      "vec2 [1.1 2.1 3.1 4.1]\n",
      "vec [1.123 2.123 3.123 4.123]\n"
     ]
    }
   ],
   "source": [
    "vec = np.array([1.1234, 2.1234, 3.1234, 4.1234])\n",
    "\n",
    "\"\"\"arrondir\"\"\"\n",
    "vec1= np.round(vec,1)\n",
    "\"\"\"idem avec syntaxe différente\"\"\"\n",
    "vec2= vec.round(1)\n",
    "\n",
    "print(\"vec1\", vec1)\n",
    "print(\"vec2\", vec2)\n",
    "\n",
    "\n",
    "\"\"\"vec n'a pas changer (cependant il ne s'affiche qu'avec 3 décimales à cause de notre entête)\"\"\"\n",
    "print(\"vec\", vec)"
   ]
  },
  {
   "cell_type": "markdown",
   "metadata": {},
   "source": [
    "## Changer des éléments dans un tenseur\n",
    "\n",
    "### Directement"
   ]
  },
  {
   "cell_type": "code",
   "execution_count": 11,
   "metadata": {},
   "outputs": [
    {
     "name": "stdout",
     "output_type": "stream",
     "text": [
      "vec et mat après modification\n",
      "[10.  2.  3.  4.]\n",
      "[[ 1.  2.]\n",
      " [ 3. 10.]]\n",
      "\n",
      "vec_zero\n",
      " [5. 5. 5. 0. 0.]\n",
      "\n",
      "mat_un\n",
      " [[7. 7. 7. 1.]\n",
      " [7. 7. 7. 1.]\n",
      " [1. 1. 1. 1.]\n",
      " [1. 1. 1. 1.]\n",
      " [1. 1. 1. 1.]]\n"
     ]
    }
   ],
   "source": [
    "vec = np.array([1., 2, 3, 4])\n",
    "mat = np.array([[1., 2], [3, 4]])\n",
    "\n",
    "\"\"\"modifier un élément\"\"\"\n",
    "vec[0] = 10.  # la numérotation commence à zéro\n",
    "mat[1, 1] = 10.\n",
    "\n",
    "\"\"\" attention, on a ainsi modifier les objets initiaux\"\"\"\n",
    "print(\"vec et mat après modification\")\n",
    "print(vec)\n",
    "print(mat)\n",
    "\n",
    "\"\"\"modifier un bloc d'élément\"\"\"\n",
    "vec_zero = np.zeros(shape=[5])\n",
    "vec_zero[0:3]=5 # [0:3] indique les indices dans l'intervalle [0,3[\n",
    "\n",
    "mat_un = np.ones(shape=[5, 4])\n",
    "mat_un[0:2,0:3]=7\n",
    "\n",
    "print(\"\\nvec_zero\\n\", vec_zero)\n",
    "print(\"\\nmat_un\\n\", mat_un)"
   ]
  },
  {
   "cell_type": "markdown",
   "metadata": {},
   "source": [
    "### Via une 'vue' sur les données\n",
    "\n",
    "Attention, on touche ici à une des grandes difficultés de `numpy`; difficulté qu'on retrouve partout en informatique: le passage de données par copie ou par référence.  "
   ]
  },
  {
   "cell_type": "code",
   "execution_count": 42,
   "metadata": {},
   "outputs": [
    {
     "name": "stdout",
     "output_type": "stream",
     "text": [
      "\n",
      " mat_un\n",
      " [[7. 7. 7. 1.]\n",
      " [7. 7. 7. 1.]\n",
      " [1. 1. 1. 1.]\n",
      " [1. 1. 1. 1.]\n",
      " [1. 1. 1. 1.]]\n",
      "\n",
      " part\n",
      " [[7. 7. 7.]\n",
      " [7. 7. 7.]]\n"
     ]
    }
   ],
   "source": [
    "mat_un = np.ones(shape=[5, 4])\n",
    "\n",
    "part=mat_un[0:2, 0:3]\n",
    "\"\"\"toute la partie est mise à 7\"\"\"\n",
    "part[:,:]=7\n",
    "\n",
    "\"\"\"et là, observez : c'est à la fois logique et surprenant:\"\"\"\n",
    "print(\"\\n mat_un\\n\", mat_un)\n",
    "print(\"\\n part\\n\", part)"
   ]
  },
  {
   "cell_type": "markdown",
   "metadata": {},
   "source": [
    "Comment ça marche :\n",
    "\n",
    "        mat_un = np.ones(shape=[5, 4])\n",
    "        \n",
    "L'ordi crée un tableau dans la mémoire de l'ordinateur. la variable 'mat_un' est une vue (=référence) sur ce tableau.\n",
    "        \n",
    "        part=mat_un[0:2, 0:3]\n",
    "        \n",
    "la variable 'part' est une vue sur une partie de ce tableau en mémoire. en effectuant :\n",
    "        \n",
    "        part[:,:]=7\n",
    "        \n",
    "on modifie une partie du tableau en mémoire. \n",
    "\n",
    "Par contre quand on fait :\n",
    "        \n",
    "        a=mat_un[0,0]\n",
    "        \n",
    "la variable `a` contient une copie du coefficient `mat_un[0,0]`. Modifier `a` ne modifie pas le tableau en mémoire. La preuve :"
   ]
  },
  {
   "cell_type": "code",
   "execution_count": 13,
   "metadata": {},
   "outputs": [
    {
     "name": "stdout",
     "output_type": "stream",
     "text": [
      "a= 7\n",
      "\n",
      " mat_un\n",
      " [[1. 1. 1. 1.]\n",
      " [1. 1. 1. 1.]\n",
      " [1. 1. 1. 1.]\n",
      " [1. 1. 1. 1.]\n",
      " [1. 1. 1. 1.]]\n"
     ]
    }
   ],
   "source": [
    "mat_un = np.ones(shape=[5, 4])\n",
    "a=mat_un[0,0]\n",
    "a=7\n",
    "print('a=',a)\n",
    "print(\"\\n mat_un\\n\", mat_un)"
   ]
  },
  {
   "cell_type": "markdown",
   "metadata": {},
   "source": [
    "***Exo :*** Que sont les tenseurs a,b,c,.... ci-dessous $(4\\diamondsuit)$?\n",
    "Mettez la réponse sur du papier, faites bien la différence entre les vecteurs et les matrices\n",
    "puis vérifiez avec un `print`\n",
    "Indiquez pour chaque cas, s'il s'agit d'un nombre, d'un vecteur ou d'une matrice."
   ]
  },
  {
   "cell_type": "code",
   "execution_count": 44,
   "metadata": {},
   "outputs": [
    {
     "name": "stdout",
     "output_type": "stream",
     "text": [
      "\n",
      "mat \n",
      " [[0. 1. 2. 3.]\n",
      " [1. 2. 3. 4.]\n",
      " [2. 3. 4. 5.]]\n"
     ]
    }
   ],
   "source": [
    "\"\"\"remplissons une matrice par une double boucle\"\"\"\n",
    "nbLigne = 3\n",
    "nbColonne = 4\n",
    "mat = np.zeros([nbLigne, nbColonne])\n",
    "for i in range(nbLigne):\n",
    "    for j in range(nbColonne):\n",
    "        mat[i, j] = i + j\n",
    "\n",
    "print(\"\\nmat \\n\",mat)\n",
    "\n",
    "a = mat[0, :]\n",
    "aBis = mat[0:1, :]\n",
    "b = mat[:,0]\n",
    "c = mat[:, nbColonne - 1]\n",
    "d = mat[:,  - 1]  # ça: c'est idem que la ligne précédente\n",
    "e = mat[-1,-1]\n",
    "f = mat[0:2,:]\n",
    "g = mat[0:2, 0:1]"
   ]
  },
  {
   "cell_type": "markdown",
   "metadata": {},
   "source": [
    "## Sélection par valeurs\n",
    "\n",
    "### Via les tableaux de booléens"
   ]
  },
  {
   "cell_type": "code",
   "execution_count": 45,
   "metadata": {},
   "outputs": [
    {
     "name": "stdout",
     "output_type": "stream",
     "text": [
      "[ 0.  1.  2.  3.  4. -1.]\n",
      "[False False False False False  True]\n",
      "[ True  True  True  True  True False]\n",
      "[-1.]\n",
      "[0. 1. 2. 3. 4.]\n",
      "[0.]\n",
      "[1. 2. 3.]\n",
      "[ 0.  1.  2.  3.  4. -1.]\n"
     ]
    }
   ],
   "source": [
    "a=np.array([0.,1.,2,3,4,-1])\n",
    "print(a)\n",
    "print(a<0)\n",
    "print(a>=0)\n",
    "print(a[a<0])\n",
    "print(a[a>=0])\n",
    "print(a[a==0])\n",
    "\"\"\" le 'and' et 'or' dans les indices n'est pas le même que les 'and' et 'or' classiques\"\"\"\n",
    "print(a[(a>0)&(a<4)])\n",
    "print(a[(a>0)|(a<4)])"
   ]
  },
  {
   "cell_type": "markdown",
   "metadata": {},
   "source": [
    "Contrairement à la selection par indice (ex : `a[:,2]`), la selection par valeur créer une \"copie\", donc préserve l'originale."
   ]
  },
  {
   "cell_type": "code",
   "execution_count": 16,
   "metadata": {},
   "outputs": [
    {
     "name": "stdout",
     "output_type": "stream",
     "text": [
      "b [10. 10. 10. 10. 10.]\n",
      "a [ 0.  1.  2.  3.  4. -1.]\n"
     ]
    }
   ],
   "source": [
    "a=np.array([0.,1.,2,3,4,-1])\n",
    "b = a[a >= 0]\n",
    "b[:] = 10\n",
    "print('b',b)\n",
    "\"\"\" 'a'  n'a pas changé, ouf. \"\"\"\n",
    "print('a',a)"
   ]
  },
  {
   "cell_type": "markdown",
   "metadata": {},
   "source": [
    "***Important:*** Quand on a un doute sur 'copie' ou 'référence', on teste, comme ci-dessus."
   ]
  },
  {
   "cell_type": "markdown",
   "metadata": {},
   "source": [
    "### Via des conditions\n",
    "\n",
    "Pour sélectionner des éléments dans un tableau selon un critère complexe,\n",
    "il faut faire une boucle, et utiliser une liste car on ne sait jamais combien d'élément on va sélectionner à l'avance. "
   ]
  },
  {
   "cell_type": "code",
   "execution_count": 17,
   "metadata": {},
   "outputs": [
    {
     "name": "stdout",
     "output_type": "stream",
     "text": [
      "[21  0 42 84  0  0 42 63 21 84 42 84 84 42 42 21  0 84  0 21 63  0 63 63 63 84 63 42 21 84 42  0  0 84 42 21 84 63 63 21 42]\n"
     ]
    }
   ],
   "source": [
    "nbSimu=1000\n",
    "a=np.random.randint(0,100,nbSimu)\n",
    "res=[]\n",
    "for i in range(nbSimu):\n",
    "    if a[i]%3==0 and a[i]%7==0: res.append(a[i])\n",
    "\"\"\"à la fin, on repasse le résultat en tableau numpy\"\"\"\n",
    "res=np.array(res)\n",
    "print(res)"
   ]
  },
  {
   "cell_type": "markdown",
   "metadata": {},
   "source": [
    "## Algèbre linéaire\n",
    "\n",
    "Attention, en numpy les vecteurs, les matrices lignes et les matrices colonnes sont des objets différents:\n",
    "\n",
    "* vecteur.shape = (?)\n",
    "* matrice_ligne.shape = (1,?)\n",
    "* matrice_colonne.shape = (?,1)\n",
    "* matrice_quelconque.shape = (?,?)\n",
    "\n",
    "Observez bien les sorties consoles: les vecteurs s'écrivent avec 1 crochet, les matrices avec 2 crochets."
   ]
  },
  {
   "cell_type": "markdown",
   "metadata": {},
   "source": [
    "### Multiplication matricielle\n",
    "\n",
    "`np.matmul()` s'applique uniquement entre matrices."
   ]
  },
  {
   "cell_type": "code",
   "execution_count": 18,
   "metadata": {},
   "outputs": [
    {
     "name": "stdout",
     "output_type": "stream",
     "text": [
      "mat_col\n",
      " [[1.]\n",
      " [1.]\n",
      " [1.]]\n",
      "mat_lin\n",
      " [[1. 1. 1.]]\n",
      "mat_square\n",
      " [[1. 1. 1.]\n",
      " [1. 1. 1.]\n",
      " [1. 1. 1.]]\n",
      "mat_square × mat_col\n",
      " [[3.]\n",
      " [3.]\n",
      " [3.]]\n",
      "mat_lin × mat_square\n",
      " [[3. 3. 3.]]\n",
      "mat_lin × mat_square × mat_col\n",
      " [[9.]]\n"
     ]
    }
   ],
   "source": [
    "size=3\n",
    "mat_col=np.ones(shape=[size,1])\n",
    "mat_lin=np.ones(shape=[1,size])\n",
    "mat_square=np.ones(shape=[size,size])\n",
    "\n",
    "print(\"mat_col\\n\",mat_col)\n",
    "print(\"mat_lin\\n\",mat_lin)\n",
    "print(\"mat_square\\n\",mat_square)\n",
    "\n",
    "print(\"mat_square × mat_col\\n\",np.matmul(mat_square,mat_col) )\n",
    "print(\"mat_lin × mat_square\\n\",np.matmul(mat_lin,mat_square))\n",
    "print(\"mat_lin × mat_square × mat_col\\n\", np.matmul(np.matmul(mat_lin,mat_square),mat_col))\n"
   ]
  },
  {
   "cell_type": "markdown",
   "metadata": {},
   "source": [
    "sinon on peut utiliser `np.dot()` qui permet les multiplications matrice $\\times$ vecteur, matrice $\\times$ matrice, vecteur $\\times$  vecteur (=produit scalaire)"
   ]
  },
  {
   "cell_type": "code",
   "execution_count": 47,
   "metadata": {},
   "outputs": [
    {
     "name": "stdout",
     "output_type": "stream",
     "text": [
      "vec0 * vec1\n",
      " 6.0\n",
      "vec0 * mat_square\n",
      " [3. 3. 3.]\n",
      "mat_square * vec0\n",
      " [3. 3. 3.]\n",
      "mat_square * mat_square\n",
      " [[3. 3. 3.]\n",
      " [3. 3. 3.]\n",
      " [3. 3. 3.]]\n"
     ]
    }
   ],
   "source": [
    "size=3\n",
    "vec0=np.ones(shape=[size])\n",
    "vec1=2*np.ones(shape=[size])\n",
    "mat_square=np.ones(shape=[size,size])\n",
    "\n",
    "print(\"vec0 * vec1\\n\",np.dot(vec0,vec1))\n",
    "print(\"vec0 * mat_square\\n\",np.dot(vec0,mat_square))\n",
    "print(\"mat_square * vec0\\n\",np.dot(mat_square,vec0))\n",
    "print(\"mat_square * mat_square\\n\",np.dot(mat_square,mat_square))"
   ]
  },
  {
   "cell_type": "markdown",
   "metadata": {},
   "source": [
    "et si vous avez python 3.5+, vous pouver utilisez l'opérateur @ qui rend les codes plus lisibles"
   ]
  },
  {
   "cell_type": "code",
   "execution_count": 20,
   "metadata": {},
   "outputs": [
    {
     "name": "stdout",
     "output_type": "stream",
     "text": [
      "vec0 × vec1\n",
      " 6.0\n",
      "vec0 × mat_square\n",
      " [3. 3. 3.]\n",
      "mat_square × vec0\n",
      " [3. 3. 3.]\n",
      "mat_square × mat_square\n",
      " [[3. 3. 3.]\n",
      " [3. 3. 3.]\n",
      " [3. 3. 3.]]\n"
     ]
    }
   ],
   "source": [
    "print(\"vec0 * vec1\\n\",vec0 @ vec1)\n",
    "print(\"vec0 * mat_square\\n\",vec0 @ mat_square)\n",
    "print(\"mat_square * vec0\\n\",mat_square @ vec0)\n",
    "print(\"mat_square * mat_square\\n\",mat_square @  mat_square)"
   ]
  },
  {
   "cell_type": "markdown",
   "metadata": {},
   "source": [
    "***Exo:*** Multipliez $(2\\heartsuit)$ matriciellement des matrices de taille non-compatible.\n",
    "Extrayez la partie intéressante du message d'erreur."
   ]
  },
  {
   "cell_type": "markdown",
   "metadata": {},
   "source": [
    "### inverse et transposée \n",
    "\n",
    "Notez que le pseudo-inverse permet d'inverser les matrices non-inversibles (testez). "
   ]
  },
  {
   "cell_type": "code",
   "execution_count": 21,
   "metadata": {},
   "outputs": [
    {
     "name": "stdout",
     "output_type": "stream",
     "text": [
      "mat\n",
      " [[1. 0. 2.]\n",
      " [0. 1. 0.]\n",
      " [0. 0. 1.]]\n",
      "mat^T\n",
      " [[1. 0. 0.]\n",
      " [0. 1. 0.]\n",
      " [2. 0. 1.]]\n",
      "mat^(-1)\n",
      " [[ 1.  0. -2.]\n",
      " [ 0.  1.  0.]\n",
      " [ 0.  0.  1.]]\n",
      "mat^(-1)-pseudo-inverse\n",
      " [[ 1.  0. -2.]\n",
      " [ 0.  1.  0.]\n",
      " [ 0.  0.  1.]]\n"
     ]
    }
   ],
   "source": [
    "size=3\n",
    "mat=np.zeros(shape=[size,size])\n",
    "for i in range(size):\n",
    "    mat[i,i]=1\n",
    "mat[0,size-1]=2\n",
    "\n",
    "\n",
    "print(\"mat\\n\",mat )\n",
    "print(\"mat^T\\n\",mat.T)\n",
    "print(\"mat^(-1)\\n\",np.linalg.inv(mat))\n",
    "print(\"mat^(-1)-pseudo-inverse\\n\",np.linalg.pinv(mat))"
   ]
  },
  {
   "cell_type": "markdown",
   "metadata": {},
   "source": [
    "### Vecteur propre et valeur propre\n",
    "\n",
    "Souvenez-vous qu'en anglais valeur/vecteur 'propre' c'est 'eigen' value/vector"
   ]
  },
  {
   "cell_type": "code",
   "execution_count": 48,
   "metadata": {},
   "outputs": [
    {
     "name": "stdout",
     "output_type": "stream",
     "text": [
      "\n",
      "mat\n",
      " [[0.331 0.366 0.175 0.128]\n",
      " [0.308 0.003 0.303 0.386]\n",
      " [0.001 0.557 0.129 0.313]\n",
      " [0.316 0.221 0.025 0.438]]\n",
      "\n",
      "eigVal\n",
      " [ 1.     0.157  0.157 -0.413]\n",
      "\n",
      "eigVec\n",
      " [[ 0.5   -0.244 -0.244  0.174]\n",
      " [ 0.5    0.153  0.153 -0.712]\n",
      " [ 0.5    0.628  0.628  0.673]\n",
      " [ 0.5   -0.215 -0.215  0.101]]\n"
     ]
    }
   ],
   "source": [
    "size=4\n",
    "\"\"\"une matrice aléatoire auquel on fait subir une opération de normalisation (laquelle?)\"\"\"\n",
    "mat=np.random.uniform(low=0,high=10,size=[size,size])\n",
    "rowSum=np.sum(mat,axis=1)\n",
    "\"\"\" mat[i,j]=mat[i,j]/rowSum(i)  \"\"\"\n",
    "for i in range(size): mat[i,:]/=rowSum[i]\n",
    "\n",
    "eigVal,eigVec=np.linalg.eig(mat)\n",
    "print(\"\\nmat\\n\", mat )\n",
    "print(\"\\neigVal\\n\",np.real(eigVal))\n",
    "print(\"\\neigVec\\n\", np.real(eigVec))"
   ]
  },
  {
   "cell_type": "markdown",
   "metadata": {},
   "source": [
    "***A vous:*** \n",
    "\n",
    "* Pour la `mat` précédent: pourquoi 1 est-il valeur propre $(2\\heartsuit)$? Quel est le vecteur propre associé $(1\\heartsuit)$? \n",
    "\n",
    "* `np.linalg.eig` donne-t-il les vecteurs propres à droite ou à gauche $(1\\heartsuit)$? Sont-ils disposés en ligne ou bien en colonne $(1\\heartsuit)$?\n",
    "\n",
    "* De manière générale, toutes les matrices sont-elles diagonalisables $(1\\heartsuit)$?  A quoi servent les `np.real()` dans le programme précédent $(1\\heartsuit)$?  \n",
    "\n",
    "* laquelle de ces deux formules est la bonne $(1\\heartsuit)$?\n",
    "\n",
    "        Diag = P^-1 @ mat @ P   \n",
    "\n",
    "ou\n",
    "\n",
    "        Diag = P @ mat @ P^-1\n",
    "        \n",
    "Vérifiez avec python. Aide: Pour transformez un vecteur en matrice diagonale, utilisez `np.diag(vecteur)`"
   ]
  },
  {
   "cell_type": "markdown",
   "metadata": {},
   "source": [
    "## Application :   loi forte des grands nombres\n",
    "\n",
    "### Illustration graphique\n",
    "***Théorème:*** Soit $(X_n)$ une suite de v.a, qui admet une espérance, on a: \n",
    "$$\n",
    "\\lim_n \\frac 1 n  (X_0+....+X_{n-1}) =  \\mathbf E[X_0]\n",
    "$$\n",
    "\n",
    "Remarque : pour illustrer ce théorème, on va tracer la courbe \n",
    "$$\n",
    "   n \\to  \\frac 1 n  (X_0+....+X_{n-1})\n",
    "$$\n",
    "mais on n'est pas obligé de l'évaluer pour tous les $n$ (ex: on peut aller par pas de 40)"
   ]
  },
  {
   "cell_type": "code",
   "execution_count": 50,
   "metadata": {},
   "outputs": [
    {
     "data": {
      "image/png": "[encoded data removed]",
      "text/plain": [
       "<Figure size 432x288 with 1 Axes>"
      ]
     },
     "metadata": {},
     "output_type": "display_data"
    }
   ],
   "source": [
    "import matplotlib.pyplot as plt\n",
    "% matplotlib inline\n",
    "\n",
    "\"\"\" np.arange c'est comme range() sauf que cela donne un tableau numpy\"\"\"\n",
    "n_max=10000\n",
    "ns=np.arange(10,n_max,40)\n",
    "means=[]\n",
    "for n in ns:\n",
    "    simus=np.random.uniform(0,10,size=n)\n",
    "    means.append(np.mean(simus))\n",
    "\n",
    "fig,ax=plt.subplots()\n",
    "ax.plot(ns,means)\n",
    "ax.plot([0,n_max],[5,5]);"
   ]
  },
  {
   "cell_type": "markdown",
   "metadata": {},
   "source": [
    "***A vous:*** $(2\\heartsuit)$ J'ai volontairement fait une erreur dans le programme précédent, une erreur que font beaucoup d'étudiant chaque année. Relisez attentivement la loi des grands nombre, comparez cet énoncé avec le programme ci-dessus. Trouvez le bug."
   ]
  },
  {
   "cell_type": "markdown",
   "metadata": {},
   "source": [
    "### Illustration numérique"
   ]
  },
  {
   "cell_type": "code",
   "execution_count": 51,
   "metadata": {},
   "outputs": [
    {
     "name": "stdout",
     "output_type": "stream",
     "text": [
      "0.7005 valeur attendue: 0.7\n",
      "0.08349414764097192 valeur attendue: 0.08333333333333333\n",
      "0.5014 valeur attendue: 0.5\n"
     ]
    }
   ],
   "source": [
    "nbSimu = 10000\n",
    "\"\"\"un échantillon de va de loi uniforme sur [0,1]\"\"\"\n",
    "X1 = np.random.random(size=nbSimu)\n",
    "\"\"\" un échantillon de va de loi normale (=gaussienne), centrée réduite par défaut.   \"\"\"\n",
    "X2 = np.random.normal(size=nbSimu)\n",
    "\"\"\" un échantillon de va de loi de Poisson\"\"\"\n",
    "X3 = np.random.poisson(1, size=nbSimu)\n",
    "\n",
    "print(len(X1[X1<0.7])/nbSimu,\"valeur attendue:\",0.7)\n",
    "print(sum( (X1-0.5)**2)/nbSimu,\"valeur attendue:\",1/12)\n",
    "print(len(X2[X2<0.])/nbSimu,\"valeur attendue:\",0.5)\n",
    "\n"
   ]
  },
  {
   "cell_type": "markdown",
   "metadata": {},
   "source": [
    "Donnez ci-dessus les valeurs attendue, et révisez ainsi votre loi de Poisson $(3\\times 1\\heartsuit)$."
   ]
  },
  {
   "cell_type": "code",
   "execution_count": 52,
   "metadata": {},
   "outputs": [
    {
     "name": "stdout",
     "output_type": "stream",
     "text": [
      "0.9885952712068063 valeur attendue:\n",
      "0.0611 valeur attendue:\n",
      "0.6317 valeur attendue:\n"
     ]
    }
   ],
   "source": [
    "print(np.sum(X2**2)/nbSimu,\"valeur attendue:\")\n",
    "print(len(X3[X3==3])/nbSimu,\"valeur attendue:\")\n",
    "print(len(X3[X3!=0])/nbSimu,\"valeur attendue:\")"
   ]
  },
  {
   "cell_type": "markdown",
   "metadata": {},
   "source": [
    "### Monte carlo\n",
    "\n",
    "\n",
    "***A vous:*** $(3\\times 2\\heartsuit)$ à l'aide de variables uniformes, en utilisant la loi forte des grands nombres, estimez  \n",
    "$$\n",
    " \\int_0^1  x \\ dx  \\qquad \\text{et} \\qquad  \\int_0^{\\frac 12 }  \\frac x {\\ln(x)}\\  dx \\qquad \\text{et} \\qquad  \\int_0^1 \\frac  1 x\\  dx\n",
    "$$   \n",
    "Cette méthode pour calculer des intégrales est appelée : Méthode de Monte Carlo\n"
   ]
  },
  {
   "cell_type": "markdown",
   "metadata": {},
   "source": [
    "## Application : moyenne et écart-type\n",
    "\n",
    "Simulons des échantillons:"
   ]
  },
  {
   "cell_type": "code",
   "execution_count": 25,
   "metadata": {},
   "outputs": [],
   "source": [
    "nbData=100\n",
    "X1=np.random.random(size=nbData)\n",
    "X2=np.random.normal(size=nbData);"
   ]
  },
  {
   "cell_type": "markdown",
   "metadata": {},
   "source": [
    "* calculons leur moyenne, qu'on peut  appeler : mu_hat (mu pour espérance, et hat pour estimation)\n",
    "* calculons leur écart type empirique : sigma_hat (sigma pour écart type, et hat pour estimation)\n",
    "\n",
    "La formule écart type empirique  est ..."
   ]
  },
  {
   "cell_type": "code",
   "execution_count": 26,
   "metadata": {},
   "outputs": [
    {
     "name": "stdout",
     "output_type": "stream",
     "text": [
      "loi uniforme sur [0,1]\n",
      "* mu_hat 0.5012182491359483\n",
      "* sigma_hat 0.3025619268091313\n",
      "loi normale\n",
      "* mu_hat -0.13541845638430194\n",
      "* sigma_hat 1.0389979183900737\n"
     ]
    }
   ],
   "source": [
    "print(\"loi uniforme sur [0,1]\")\n",
    "print(\"* mu_hat\",X1.mean())\n",
    "print(\"* sigma_hat\",X1.std())\n",
    "\n",
    "print(\"loi normale\")\n",
    "print(\"* mu_hat\", X2.mean())\n",
    "print(\"* sigma_hat\", X2.std())"
   ]
  },
  {
   "cell_type": "markdown",
   "metadata": {},
   "source": [
    "A l'aide des estimateurs, vérifiez expérimentallement les résultats suivants $(4\\times 2\\heartsuit)$:\n",
    "\n",
    "* l'espérance de la somme de deux variables aléatoires c'est la somme des espérances.\n",
    "* la variance de la somme de deux variables aléatoires c'est ...\n",
    "* soient $X$ une v.a, $a$ et $b$ des constantes. On a: $\\mathbf E[aX+b]= ...$ et $\\mathbf V[aX+b]= ...$. \n",
    "* L'espérance du carré d'une v.a est toujours plus... que le carré de l'espérance. "
   ]
  },
  {
   "cell_type": "markdown",
   "metadata": {},
   "source": [
    "## Numpy or not numpy\n",
    "\n",
    "Quand on écrit un programme il faut toujours se demander si on va utiliser des tenseurs `numpy` ou pas. Par exemple, considérons la fonction suivante:"
   ]
  },
  {
   "cell_type": "code",
   "execution_count": 27,
   "metadata": {},
   "outputs": [],
   "source": [
    "def f(x):\n",
    "    return x**2*(1-x)**2+1   "
   ]
  },
  {
   "cell_type": "markdown",
   "metadata": {},
   "source": [
    "Cette fonction fonctionne (!)  pour `x` scalaire, mais aussi pour `x` tenseur: car les opérations puissance `**`, somme `+` et produit `*` sont bien définies sur les tenseurs. Ainsi on peut tracer le graphe de `f` de deux manières différentes:"
   ]
  },
  {
   "cell_type": "code",
   "execution_count": 28,
   "metadata": {},
   "outputs": [
    {
     "data": {
      "image/png": "[encoded data removed]",
      "text/plain": [
       "<Figure size 432x288 with 1 Axes>"
      ]
     },
     "metadata": {},
     "output_type": "display_data"
    }
   ],
   "source": [
    "\"\"\"première méthode\"\"\"\n",
    "xs=np.linspace(0,1,100)\n",
    "ys=[]\n",
    "for x in xs:\n",
    "    ys.append(f(x))\n",
    "plt.plot(xs,ys);"
   ]
  },
  {
   "cell_type": "code",
   "execution_count": 29,
   "metadata": {},
   "outputs": [
    {
     "data": {
      "image/png": "[encoded data removed]",
      "text/plain": [
       "<Figure size 432x288 with 1 Axes>"
      ]
     },
     "metadata": {},
     "output_type": "display_data"
    }
   ],
   "source": [
    "\"\"\" seconde méthode\"\"\"\n",
    "plt.plot(xs,f(xs));"
   ]
  },
  {
   "cell_type": "markdown",
   "metadata": {},
   "source": [
    "La seconde méthode est plus élégante mais aussi beaucoup plus rapide.\n",
    "\n",
    "Par contre, considérons la fonction:"
   ]
  },
  {
   "cell_type": "code",
   "execution_count": 31,
   "metadata": {},
   "outputs": [],
   "source": [
    "def g(x):\n",
    "    if 0<x<0.5: return x\n",
    "    elif 0.5<x<2: return 2*x\n",
    "    else : return 0"
   ]
  },
  {
   "cell_type": "markdown",
   "metadata": {},
   "source": [
    "Cette fonction `g` ne fonctionne pas quand `x` est un tenseur numpy (essayez $(1\\heartsuit)$, observez le message d'erreur, vous le rencontrerez sans doute plus tard). On peut transformer cette fonction pour quelle marche avec `numpy` mais c'est un peu technique. \n",
    "\n",
    "Le conseil: dans un premier temps, ne vous prenez pas trop la tête. Faites au plus simple même si ce n'est pas le plus performant. Vous apprendrez les astuces au fur et à mesure. "
   ]
  },
  {
   "cell_type": "markdown",
   "metadata": {},
   "source": [
    "## Sous le capot de numpy\n",
    "\n",
    "### Des données à plats. \n",
    "\n",
    "Peu importe la `shape` ou le `dtype` (=data_type): dans la mémoire, les tableaux `numpy` sont stockés sous la forme d'un tableau 1D, par paquets-de-8bits. Quand vous changer la `shape`, les données ne change pas du tout, c'est uniquement la façon de les parcourir qui change. "
   ]
  },
  {
   "cell_type": "code",
   "execution_count": 84,
   "metadata": {},
   "outputs": [
    {
     "name": "stdout",
     "output_type": "stream",
     "text": [
      "vec\n",
      " [0 1 2 3 4 5 6 7 8]\n",
      "mat_square\n",
      " [[0 1 2]\n",
      " [3 4 5]\n",
      " [6 7 8]]\n",
      "mat_col\n",
      " [[0]\n",
      " [1]\n",
      " [2]\n",
      " [3]\n",
      " [4]\n",
      " [5]\n",
      " [6]\n",
      " [7]\n",
      " [8]]\n",
      "mat_line\n",
      " [[0 1 2 3 4 5 6 7 8]]\n"
     ]
    }
   ],
   "source": [
    "\" ces 4 objets sont associées aux même données toutes plates.\"\n",
    "vec=np.arange(0,9,1)\n",
    "print(\"vec\\n\",vec)\n",
    "mat_square=vec.reshape([3,3])\n",
    "print(\"mat_square\\n\",mat_square)\n",
    "mat_col=mat_square.reshape([9,1])\n",
    "print(\"mat_col\\n\",mat_col)\n",
    "mat_line=mat_square.reshape([1,9])\n",
    "print(\"mat_line\\n\",mat_line)"
   ]
  },
  {
   "cell_type": "markdown",
   "metadata": {},
   "source": [
    "### l'attribut 'strides'\n",
    "\n",
    "Quand on change la `shape`, on chage aussi l'attribut `strides`: il indique comment on passe d'une case à l'autre.\n",
    "\n",
    "### ex:  vecteur \n",
    "\n",
    "Dans ce cas,  `strides` est un scalaire: il indique de combien de paquet-de-8bits il faut glisser pour aller de `vec[i]` à `vec[i+1]`. Cela dépend uniquement du `dtype`"
   ]
  },
  {
   "cell_type": "code",
   "execution_count": 85,
   "metadata": {},
   "outputs": [
    {
     "name": "stdout",
     "output_type": "stream",
     "text": [
      "np.uint8, strides: (1,)\n",
      "np.int32, strides: (4,)\n",
      "np.int64, strides: (8,)\n"
     ]
    }
   ],
   "source": [
    "a=np.zeros(shape=5,dtype=np.uint8)\n",
    "print(\"np.uint8, strides:\",a.strides)\n",
    "a=np.zeros(shape=5,dtype=np.int32)\n",
    "print(\"np.int32, strides:\",a.strides)\n",
    "a = np.zeros(shape=5, dtype=np.int64)\n",
    "print(\"np.int64, strides:\",a.strides)"
   ]
  },
  {
   "cell_type": "markdown",
   "metadata": {},
   "source": [
    "### ex:  matrice\n",
    "\n",
    "Dans ce cas,  `strides` est une paire. \n",
    "\n",
    "* `strides[0]` indique de combien de paquet-de-8bits il faut glisser pour passer de la case `mat[i,j]` à la case `mat[i+1,j]` \n",
    "* `strides[1]` indique de combien de paquet-de-8bits il faut glisser pour passer de la case ``mat[i,j]`` à la case ``mat[i,j+1]``\n",
    "\n",
    "Illustrons cela avec uniquement `dtype=np.uint8`. "
   ]
  },
  {
   "cell_type": "code",
   "execution_count": 83,
   "metadata": {},
   "outputs": [
    {
     "name": "stdout",
     "output_type": "stream",
     "text": [
      "shape=(2,4), strides: (4, 1)\n",
      "shape=(30,4), strides: (5, 1)\n"
     ]
    }
   ],
   "source": [
    "a = np.zeros(shape=(2,4), dtype=np.uint8)\n",
    "print(\"shape=(2,4), strides:\", a.strides)\n",
    "\n",
    "a = np.zeros(shape=(30, 5), dtype=np.uint8)\n",
    "print(\"shape=(30,4), strides:\", a.strides)"
   ]
  },
  {
   "cell_type": "markdown",
   "metadata": {},
   "source": [
    "***A vous:*** Essayez de répondres à ces 3 questions sans faire de `print` $(3\\heartsuit)$ puis avec un `print` $(3\\heartsuit)$. \n",
    "\n",
    "* quelle est la stride de `np.zeros(shape=(2,4), dtype=np.int32)`\n",
    "* quelle est la stride de `np.zeros(shape=(30,5), dtype=np.int32)`\n",
    "* A quoi correspond la stride d'un tenseur de dimension 3."
   ]
  },
  {
   "cell_type": "code",
   "execution_count": null,
   "metadata": {},
   "outputs": [],
   "source": []
  }
 ],
 "metadata": {
  "kernelspec": {
   "display_name": "Python 3",
   "language": "python",
   "name": "python3"
  },
  "language_info": {
   "codemirror_mode": {
    "name": "ipython",
    "version": 3
   },
   "file_extension": ".py",
   "mimetype": "text/x-python",
   "name": "python",
   "nbconvert_exporter": "python",
   "pygments_lexer": "ipython3",
   "version": "3.6.5"
  }
 },
 "nbformat": 4,
 "nbformat_minor": 2
}
