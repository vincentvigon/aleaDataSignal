{
 "cells": [
  {
   "cell_type": "markdown",
   "metadata": {},
   "source": [
    "# <center> Les bases de python </center>"
   ]
  },
  {
   "cell_type": "markdown",
   "metadata": {},
   "source": [
    "# INDENTATION\n",
    "\n",
    "Les blocs de codes sont définis par l'intentation.\n",
    "\n",
    "* Pour indenter un bloc complet, sélectionner-le et appuyez sur la touche tabulation.  \n",
    "* Pour dé-sindenter :   shift+tabulation."
   ]
  },
  {
   "cell_type": "code",
   "execution_count": 1,
   "metadata": {},
   "outputs": [
    {
     "name": "stdout",
     "output_type": "stream",
     "text": [
      "i= 3\n",
      "     j= 1\n",
      "      3\n",
      "     j= 2\n",
      "      9\n",
      "i= 4\n",
      "     j= 1\n",
      "      4\n",
      "     j= 2\n",
      "      16\n",
      "i= 5\n",
      "     j= 1\n",
      "      5\n",
      "     j= 2\n",
      "      25\n"
     ]
    }
   ],
   "source": [
    "for i in [3,4,5]:\n",
    "    print(\"i=\",i)\n",
    "    for j in [1,2]:\n",
    "        print(\"     j=\",j) \n",
    "        print(\"     \",i**j) # l'opérateur ** c'est la puissance"
   ]
  },
  {
   "cell_type": "markdown",
   "metadata": {},
   "source": [
    "# Fonctions\n",
    "\n",
    "Il faut pas confondre la définition et l'appel de la fonction."
   ]
  },
  {
   "cell_type": "code",
   "execution_count": 14,
   "metadata": {},
   "outputs": [
    {
     "name": "stdout",
     "output_type": "stream",
     "text": [
      "7\n"
     ]
    }
   ],
   "source": [
    "def toto_add(a, b):\n",
    "    return a+b\n",
    "\n",
    "res=toto_add(3, 4)\n",
    "print(res)"
   ]
  },
  {
   "cell_type": "markdown",
   "metadata": {},
   "source": [
    "Les fonctions peuvent avoir des arguments facultatifs"
   ]
  },
  {
   "cell_type": "code",
   "execution_count": 15,
   "metadata": {},
   "outputs": [
    {
     "name": "stdout",
     "output_type": "stream",
     "text": [
      "7\n",
      "14\n",
      "49\n",
      "196\n"
     ]
    }
   ],
   "source": [
    "def toto_do_computations(a,b,c=1,d=1):\n",
    "    return ((a+b)*c)**d\n",
    "\n",
    "print(toto_do_computations(3,4))\n",
    "\"\"\"conseille : toujours préciser le nom des arguments facultatifs \"\"\"\n",
    "print(toto_do_computations(3,4,c=2))\n",
    "print(toto_do_computations(3,4,d=2))\n",
    "print(toto_do_computations(3,4,c=2,d=2))\n",
    "\n"
   ]
  },
  {
   "cell_type": "markdown",
   "metadata": {},
   "source": [
    "# Listes"
   ]
  },
  {
   "cell_type": "code",
   "execution_count": 3,
   "metadata": {},
   "outputs": [
    {
     "name": "stdout",
     "output_type": "stream",
     "text": [
      "la liste complète [1, 2, 3, 'quatre', 5]\n",
      "le premier élément (numéro 0) 1\n",
      "le dernier élément (numéro longueur-1) 5\n",
      "ou bien 5\n"
     ]
    }
   ],
   "source": [
    "\"\"\" on crée une liste, donc les élément peuvent être de n'importe \n",
    "quel type\"\"\"\n",
    "list0= [1, 2, 3, \"quatre\", 5]\n",
    "print(\"la liste complète\", list0)\n",
    "print(\"le premier élément (numéro 0)\", list0[0])\n",
    "print(\"le dernier élément (numéro longueur-1)\", list0[len(list0) - 1])\n",
    "print(\"ou bien\", list0[-1])"
   ]
  },
  {
   "cell_type": "code",
   "execution_count": 5,
   "metadata": {},
   "outputs": [],
   "source": [
    "\"\"\"voici un import à connaître par coeur :\n",
    " il permet de faire des graphiques. \"\"\"\n",
    "import matplotlib.pyplot as plt\n",
    "%matplotlib inline  "
   ]
  },
  {
   "cell_type": "code",
   "execution_count": 16,
   "metadata": {},
   "outputs": [
    {
     "name": "stdout",
     "output_type": "stream",
     "text": [
      "[1, 2, 3, 'quatre', 5, 'six', 'six']\n"
     ]
    }
   ],
   "source": [
    "\"\"\" on lui rajoute un élément à la fin \"\"\"\n",
    "list0.append(\"six\")\n",
    "print(list0)"
   ]
  },
  {
   "cell_type": "markdown",
   "metadata": {},
   "source": [
    "# Graphique"
   ]
  },
  {
   "cell_type": "code",
   "execution_count": 28,
   "metadata": {},
   "outputs": [
    {
     "data": {
      "image/png": "[encoded data removed]",
      "text/plain": [
       "<matplotlib.figure.Figure at 0x1081b5da0>"
      ]
     },
     "metadata": {},
     "output_type": "display_data"
    }
   ],
   "source": [
    "x= [1,1.5,2,2.5,3]\n",
    "y= [1,4,3,4,1]\n",
    "\n",
    "plt.figure(figsize=(12,4))\n",
    "\n",
    "plt.subplot(1,3,1)\n",
    "plt.plot(x,y)\n",
    "\n",
    "plt.subplot(1,3,2)\n",
    "plt.plot(x,y,'o') #essayez aussi avec '.' ou '*' \n",
    "\n",
    "plt.subplot(1,3,3)\n",
    "plt.plot(x,y,'o-');\n"
   ]
  },
  {
   "cell_type": "markdown",
   "metadata": {},
   "source": [
    "# plusieurs graphiques avec légendes\n",
    "\n",
    "Remaquez qu'on peut utiliser Latex dans les légendes. "
   ]
  },
  {
   "cell_type": "code",
   "execution_count": 27,
   "metadata": {},
   "outputs": [
    {
     "data": {
      "image/png": "[encoded data removed]",
      "text/plain": [
       "<matplotlib.figure.Figure at 0x1085a7dd8>"
      ]
     },
     "metadata": {},
     "output_type": "display_data"
    }
   ],
   "source": [
    "\"\"\" on anticipe sur les prochains TP. on va utiliser numpy, \n",
    "qui est une bibliothèque pour gérer les tableaux de nombres.\"\"\"\n",
    "import numpy as np\n",
    "\n",
    "nbPoints=100\n",
    "x=np.linspace(0,5,nbPoints) # points répartis entre 0 et 5\n",
    "\n",
    "\"\"\"attention 'lambda' est un mot clef réservé de python. \n",
    "du coup j'utilise lamb\"\"\"\n",
    "for lamb in [0.1,0.3,1,2]:\n",
    "    y=np.exp(lamb*x)\n",
    "    plt.plot(x,y,label=\"$\\lambda$=\"+str(lamb))\n",
    "\n",
    "plt.title(\"comparaison d'exponentielles\")\n",
    "\n",
    "\"\"\"on limite les ordonnées. \n",
    "Pourquoi est-ce important dans ce graphique ?\"\"\"\n",
    "plt.ylim([0,5])\n",
    "plt.legend();"
   ]
  },
  {
   "cell_type": "code",
   "execution_count": 9,
   "metadata": {},
   "outputs": [],
   "source": []
  },
  {
   "cell_type": "code",
   "execution_count": 9,
   "metadata": {},
   "outputs": [],
   "source": []
  },
  {
   "cell_type": "code",
   "execution_count": 9,
   "metadata": {},
   "outputs": [],
   "source": []
  },
  {
   "cell_type": "code",
   "execution_count": 9,
   "metadata": {},
   "outputs": [],
   "source": []
  },
  {
   "cell_type": "code",
   "execution_count": 9,
   "metadata": {},
   "outputs": [],
   "source": []
  },
  {
   "cell_type": "code",
   "execution_count": 9,
   "metadata": {},
   "outputs": [],
   "source": []
  },
  {
   "cell_type": "code",
   "execution_count": 9,
   "metadata": {},
   "outputs": [],
   "source": []
  },
  {
   "cell_type": "code",
   "execution_count": 9,
   "metadata": {},
   "outputs": [],
   "source": []
  },
  {
   "cell_type": "code",
   "execution_count": null,
   "metadata": {},
   "outputs": [],
   "source": []
  }
 ],
 "metadata": {
  "kernelspec": {
   "display_name": "Python 3",
   "language": "python",
   "name": "python3"
  },
  "language_info": {
   "codemirror_mode": {
    "name": "ipython",
    "version": 3
   },
   "file_extension": ".py",
   "mimetype": "text/x-python",
   "name": "python",
   "nbconvert_exporter": "python",
   "pygments_lexer": "ipython3",
   "version": "3.5.0"
  }
 },
 "nbformat": 4,
 "nbformat_minor": 1
}
