{
 "cells": [
  {
   "cell_type": "markdown",
   "metadata": {
    "collapsed": true
   },
   "source": [
    "#<center> Théorème centrale limite et loi t de Student </center>"
   ]
  },
  {
   "cell_type": "code",
   "execution_count": 20,
   "metadata": {},
   "outputs": [],
   "source": [
    "import numpy as np\n",
    "np.set_printoptions(precision=2,suppress=True)\n",
    "import matplotlib.pyplot as plt\n",
    "import scipy.stats as stats\n",
    "%matplotlib inline\n"
   ]
  },
  {
   "cell_type": "markdown",
   "metadata": {},
   "source": [
    "Considérons \n",
    "$\n",
    "X[0],X[1],...\n",
    "$\n",
    "une suite iid de va. Définissons \n",
    "$\n",
    "S[n]=X[0]+...X[n-1]\n",
    "$\n",
    "On peut imaginer que les X[i] sont des erreurs élémentaires, et donc S[n] une erreur globale.\n",
    "Le théorème centrale limite (TCL) nous indique que, lorsque n grandis, la loi de S[n] \"se rapproche\" d'un gaussienne.\n",
    "\n"
   ]
  },
  {
   "cell_type": "code",
   "execution_count": 10,
   "metadata": {},
   "outputs": [
    {
     "data": {
      "image/png": "[encoded data removed]",
      "text/plain": [
       "<matplotlib.figure.Figure at 0x10b227400>"
      ]
     },
     "metadata": {},
     "output_type": "display_data"
    }
   ],
   "source": [
    "\"\"\" nombre de v.a que l'on va sommer \"\"\"\n",
    "n = 8\n",
    "\"\"\" nombre de fois où l'on va effectuer cette somme. \n",
    "Comme il s'agit d'illustrer une loi, on est obligé de faire plusieurs essais (=\"essaies\" in english)\"\"\"\n",
    "nbEssaies=3000\n",
    "\n",
    "collect=[]\n",
    "for i in range(nbEssaies):\n",
    "    X=np.random.exponential(1, size=n)\n",
    "    S=np.sum(X)\n",
    "    collect.append(S)\n",
    "\n",
    "plt.hist(collect,20,normed=True,edgecolor=\"k\");\n"
   ]
  },
  {
   "cell_type": "markdown",
   "metadata": {},
   "source": [
    "### Enoncé du théorème\n",
    "\n",
    "Nous avons dit : << La loi de S[n] **se rapproche** d'une gaussienne>> ... pas très précis cela. C'est vrai que plus n est grand, et plus l'histogramme a une forme de cloche (testez cela), mais ces cloches ont tendances à se dilater et à se translater de plus en plus. C'est très naturelle : l'espèrance et la variance de S[n] augmente ! Pour \"converger\" vers une cloche fixée il faut centrer-réduire :\n",
    "\n",
    "Théorème:   Quand n tend vers l'infini, la version centrée-réduite de S[n] converge\n",
    "en loi vers une gaussienne (gaussienne centrée-réduite of course).\n",
    "\n",
    "\n",
    "Nous venons d'énoncer le fameux théorème central-limite. C'est un théorème universelle puisqu'il est vrai pour toutes les lois.  Toute ?\n",
    "\n",
    "**Exo 1:** remplacer la loi exponentielle par une loi de Cauchy pour voir que dans ce cas, il y a un truc qui cloche dans la cloche.\n",
    "\n",
    "\n",
    "**Exo 2:** Revenons au vas où X[0] suit une loi qui admette une variance (ex: exponentielle). \n",
    "\n",
    "* Notons mu et sigma2 l'espérance et la variance de X[0]. Calculez l'espérance et la variance de S[n]. Ecrirez l'expression de la version centrée-réduite de S[n]. Modifiez le programme précédent pour dresser l'histogramme de la version centrée réduite de S[n]\n",
    "\n",
    "* Superposer l'histogramme ainsi obtenu avec la densité de la gaussienne. \n",
    "\n",
    "\n",
    "**Aide:** Attention, quand on centre-réduit on doit diviser par l'écart-type/la variance/l'espérance (rayer les mauvaises réponses). Avec la bonne expression, vous devriez voir apparaitre un racine de n dans vos équations. \n"
   ]
  },
  {
   "cell_type": "markdown",
   "metadata": {},
   "source": [
    "### TCL et LFGN\n",
    "\n",
    "Il y a plusieurs façons de présenter le TCL. Nous venons de voir ma façon préférée (très mnémotechnique) :\n",
    "\n",
    "                centrer-réduire une somme de va iid ---> gaussienne\n",
    "\n",
    "\n",
    "Mais parfois on présente le TCL en indiquant qu'il permet de préciser la vitesse de convergence de la LFGN (loi forte des grands nombres).\n",
    "\n",
    "Trouvez une formule du type :\n",
    "\n",
    "                   (S[n]/n - mu)  ~  f(n) * cst\n",
    "où\n",
    "    f(n)    est une certaine expression qui tend vers zéro,\n",
    "    cst     ne varie pas selon n (mais n'est pas vraiment constante)\n",
    "    ~       n'est pas une équivalence au sens usuel\n",
    "\n"
   ]
  },
  {
   "cell_type": "markdown",
   "metadata": {},
   "source": [
    "### sans boucle\n",
    "\n",
    "Quand on a un peu l'habitude, on peut faire le même programme que le précédent sans boucle for ;\n",
    "c'est plus compacte et plus rapide (les boucles implicites se font dans un langage compilé).  "
   ]
  },
  {
   "cell_type": "code",
   "execution_count": 7,
   "metadata": {},
   "outputs": [
    {
     "name": "stdout",
     "output_type": "stream",
     "text": [
      "(3000,)\n"
     ]
    },
    {
     "data": {
      "image/png": "[encoded data removed]",
      "text/plain": [
       "<matplotlib.figure.Figure at 0x10af92be0>"
      ]
     },
     "metadata": {},
     "output_type": "display_data"
    }
   ],
   "source": [
    "nbEssaies = 3000\n",
    "n=100\n",
    "\"\"\"on tire une matrice ech[i,j] de va gaussiennes\"\"\"\n",
    "ech=np.random.normal(size=[nbEssaies,n])\n",
    "\"\"\" axis=1 signifie que l'on somme sur l'indice 1 (j): collect[i]=sum_j ech[i,j]  \"\"\"\n",
    "collect=np.sum(ech, axis=1)\n",
    "\"\"\"vérifions qu'on a un vecteur de la shape voulue.\"\"\"\n",
    "print(collect.shape)\n",
    "plt.hist(collect,20,normed=True,edgecolor=\"k\");\n"
   ]
  },
  {
   "cell_type": "markdown",
   "metadata": {},
   "source": [
    "exo : centrez réduire, rajouter la densité de la gaussienne avec ce programme dans boucle.  "
   ]
  },
  {
   "cell_type": "markdown",
   "metadata": {},
   "source": [
    "# intervalle de confiance"
   ]
  },
  {
   "cell_type": "markdown",
   "metadata": {},
   "source": [
    "Supposons que l'on dispose d'un échantillon issue d'une v.a dont on connait l'écart-type mais dont on ne connait pas\n",
    "l'espérance. \n",
    "\n",
    "(C'est une situation artificielle car en générale on ne connait ni l'un ni l'autre)"
   ]
  },
  {
   "cell_type": "code",
   "execution_count": 15,
   "metadata": {},
   "outputs": [
    {
     "name": "stdout",
     "output_type": "stream",
     "text": [
      "2.82401622479\n"
     ]
    }
   ],
   "source": [
    "\"\"\" les températures du mois d'aout enregistrées à Strasbourg \"\"\"\n",
    "temperatures=[ 28.7,32.1,30.2,35.5,29.4,29.4,34.5,32.9,29.4,28.5,33.7,30.5,35., 30.3,29.6,29.8,31.7,28.2,28.3,29.9,28.5,28.9,31.8,36.2,35.1,35.5,28.3,29.7,38.7,28.8,31.5]\n",
    "\"\"\" un devin sérieux nous indique que l'écart-type théorique associé est sigma=3. \n",
    " Vérifions que l'écart-type estimé est proche de sa valeur théorique:\n",
    " \"\"\"\n",
    "print(np.std(temperatures))"
   ]
  },
  {
   "cell_type": "code",
   "execution_count": 16,
   "metadata": {},
   "outputs": [
    {
     "name": "stdout",
     "output_type": "stream",
     "text": [
      "temp moyenne: mu_bar= 31.3096774194\n"
     ]
    }
   ],
   "source": [
    "\"\"\" Pour estimer l'espérance de la température journalière, il suffit de faire une moyenne :\"\"\"\n",
    "\n",
    "print(\"temp moyenne: mu_bar=\",np.mean(temperatures))"
   ]
  },
  {
   "cell_type": "markdown",
   "metadata": {},
   "source": [
    "**Exo:** Construisez maintenant un intervalle de confiance de la forme \n",
    "$$\t\n",
    "I=[\\bar \\mu -\\epsilon, \\bar \\mu +\\epsilon]\n",
    "$$ \n",
    "de telle manière à ce que :\n",
    "$$\n",
    "\\mathbf P[\\mu \\in I]=0.95\n",
    "$$\n",
    " Aide (vous pouvez essayer sans la lire) :\n",
    "\n",
    " mu_bar est (très proche) d'une gaussienne de moyenne mu et d'écartype ...\n",
    " Donc (mu_bar-mu)/cst est une gaussienne centrée réduite.\n",
    " La fonction quantile de la gaussienne nous permet de trouver a telle que\n",
    " P[ -a<(mu_bar-mu)/cst<a ]=0.95\n",
    " Une petite manipulation de cette expression nous donne l'intervalle de confiance.\n",
    "\n",
    " Aide informatique : pour obtenir la fonction quantile de la gaussienne:\n",
    " \t\t\tstat.norm.ppf(x)"
   ]
  },
  {
   "cell_type": "markdown",
   "metadata": {},
   "source": [
    "**Exo suite:** Les températeur donnée précédemment on été générées avec la fonction `generate_temperatures()`ci-dessous. Lancez de nombreuse fois cette fonction, et vérifiez que l'espérance théorique (que je vous laisse calculer) tombe dans 95% des cas dans votre intervalle de confiance (attention, il faut le recalculer à chaque tirage !). \n",
    "\n",
    "Refaite la même manip avec un intervalle de confiance à 90% et 99%. "
   ]
  },
  {
   "cell_type": "code",
   "execution_count": 18,
   "metadata": {},
   "outputs": [],
   "source": [
    "def generate_temperatures(n=31):\n",
    "    \"\"\"\"\"\"\n",
    "    \"\"\"la loi du chi2 à df degré de liberté (degree of freedom) c'est simplement la somme de df-gaussiennes\"\"\"\n",
    "    return np.random.chisquare(df=3,size=n)+28"
   ]
  },
  {
   "cell_type": "markdown",
   "metadata": {},
   "source": [
    "# Loi t de Student\n",
    "\n",
    "Deux lois importantes pour les stats:\n",
    "\n",
    " * chi2(n)    = loi du chi2 à n-degré de liberté\n",
    " * t(n)       = loi t de Student à n-degré de liberté\n",
    "\n",
    "Elles peuvent être décrites de la manière suivante :\n",
    "Si X1,...,Xn iid suivent des N(0,1)      alors   X1^2+...+Xn^2 suit une Chi2(n)\n",
    "Si Z,U sont indépendant avec Z ~ N(0,1) et U ~ Chi2(n)   alors   Z / (sqrt(U/n)) suit une t(n)\n",
    "\n",
    "\n"
   ]
  },
  {
   "cell_type": "markdown",
   "metadata": {},
   "source": [
    "** Exo:** sur un même graphique, dessinez les densité des lois de Student pour df=1,2,4,5,10. Vérifiez que plus df esst grand et plus la loi de student ressemble à la gaussienne. \n",
    "\n",
    "Aide : utiliser scipy : `stats.t.pdf()`"
   ]
  },
  {
   "cell_type": "markdown",
   "metadata": {},
   "source": [
    "### Pourquoi la loi de Student est importante en statistique :  \n",
    "\n",
    "\n",
    "On considère un échantillon :  X = X[0],...,X[n-1]  représentant des observations iid d'une quantité.\n",
    "\n",
    "On note :\n",
    "   \tmu=E(X[0])\n",
    "   \tsigma2= V(X[0])\n",
    "se sont des caractéristiques de la vraie quantité. Si on n'y a pas accès, on les estime par\n",
    "   \tmean(X) = 1/n     sum_i X[i]\n",
    "   \tstd2(X) = 1/(n-1) sum_i (X[i]-mean(X))**2\n",
    "En numpy :\n",
    "   \tmean(X) =np.mean(X)\n",
    "   \tstd2(X) =np.std(X,ddof=1)**2\n",
    "ddof=1 c'est pour préciser que l'on divise par n-1, attention par défaut ddof=0. On divise par n-1 pour avoir un\n",
    "estimateur sans biais càd vérifiant E(std2(X))=sigma2   (faites le calcul, c'est un bon exo).\n",
    "\n",
    "\n",
    "Maintenant nous aimerions répondre à la question suivante :\n",
    "<center>        <<de combien  mean(X) et mu sont éloignés ? >> </center>\n",
    "\n",
    "Le TCL (théorème central limite) nous indique que :\n",
    "<center>   <<toute somme de variable iid, ressemble à une N(0,1) une fois qu'on l'a centrée réduite >> </center>\n",
    "\n",
    "Ainsi, en utilisant le fait que l'épérance de `mean(X)` c'est `mu, et que sa variance c'est `sigma2/n`:\n",
    "\n",
    "       mean(X)-mu\n",
    "   ----------------    ~  N(0,1)\n",
    "     sigma/sqrt(n)\n",
    "\n",
    "\n",
    "Quand on travaille avec de vraies observations, on n'a pas accès à sigma, donc on fait  :\n",
    "\n",
    "           mean(X)-mu\n",
    "  R(X):= ----------------    ?~?  N(0,1)\n",
    "          std(X)/sqrt(n)\n",
    "\n",
    "\n",
    "Ci-dessus on a supposer que std(X)=sigma,  cependant, \n",
    "quand n est petit, cette approximation est trop grossière :\n",
    "Avec n petit, le hasard peut donner des valeurs proche de 0 pour std(X).\n",
    "Quand on divise par 0 on obtient l'infini. Du coup on s'attend à ce que la loi du rapport R(X)  ai des queues\n",
    "plus lourde que celle de la gaussienne.\n",
    "\n",
    "\n",
    "La loi exacte de R(X) est impossible à calculer dans le cas générale.\n",
    "Mais on peut supposer que chaque observation X[i] est proche d'une gaussienne\n",
    "(car chaque observation est sans doute elle-même la somme de plusieurs phénomènes indépendants).\n",
    "\n",
    "\n",
    "\n",
    "Exercice :  Montrer que si X[0] est une N(mu,sigma2) alors R(X) suit une loi de t(n-1)\n",
    "\n",
    "\n",
    "Première étape : On peut écrire X = sigma Y + mu avec Y une N(0,1). Et en recalculant le rapport R(X), on trouve :\n",
    "\n",
    "           mean(Y)\n",
    "  R(X)= ---------------\n",
    "         std(Y)/sqrt(n)\n",
    "\n",
    "Donc on peut supposer dès le début que mu=0 et sigma2=1;\n",
    "Donc on suppose désormais que X suit une N(0,1)\n",
    "\n",
    "\n",
    "\n",
    "Seconde étape : à faire vous même en utilisant le fait que\n",
    "*   mean(X) est indépendant de  X - mean(X)\n",
    "*   mean(X) suit une N(0,?)\n",
    "*   sum_i (X[i]-mean(X))**2   suit une chi2(n-1)\n",
    "\n",
    "\n",
    "Avec tous ces calculs, on a oublié de répondre à la question:\n",
    "        <<de combien  mean(X) et mu sont éloignés ? >>\n",
    "\n",
    "Déduisez la réponse de ce que nous venons de montrer"
   ]
  },
  {
   "cell_type": "code",
   "execution_count": null,
   "metadata": {},
   "outputs": [],
   "source": []
  },
  {
   "cell_type": "code",
   "execution_count": null,
   "metadata": {},
   "outputs": [],
   "source": []
  },
  {
   "cell_type": "code",
   "execution_count": null,
   "metadata": {},
   "outputs": [],
   "source": []
  },
  {
   "cell_type": "code",
   "execution_count": null,
   "metadata": {},
   "outputs": [],
   "source": []
  }
 ],
 "metadata": {
  "kernelspec": {
   "display_name": "Python 3",
   "language": "python",
   "name": "python3"
  },
  "language_info": {
   "codemirror_mode": {
    "name": "ipython",
    "version": 3
   },
   "file_extension": ".py",
   "mimetype": "text/x-python",
   "name": "python",
   "nbconvert_exporter": "python",
   "pygments_lexer": "ipython3",
   "version": "3.5.0"
  }
 },
 "nbformat": 4,
 "nbformat_minor": 1
}
