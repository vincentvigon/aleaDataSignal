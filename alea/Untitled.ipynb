{
 "cells": [
  {
   "cell_type": "code",
   "execution_count": 1,
   "metadata": {},
   "outputs": [],
   "source": [
    "a=3\n",
    "def toto():\n",
    "    print(7)\n",
    "\n",
    "def clear_all():\n",
    "    \"\"\"Clears all the variables from the workspace of the spyder application.\"\"\"\n",
    "    gl = globals().copy()\n",
    "    print(\"gl\\n\",gl)\n",
    "    for var in gl:\n",
    "        if var[0] == '_': continue\n",
    "        if 'func' in str(globals()[var]): continue\n",
    "        if 'module' in str(globals()[var]): continue\n",
    "\n",
    "        del globals()[var]"
   ]
  },
  {
   "cell_type": "code",
   "execution_count": 2,
   "metadata": {},
   "outputs": [
    {
     "name": "stdout",
     "output_type": "stream",
     "text": [
      "7\n"
     ]
    }
   ],
   "source": [
    "toto()\n"
   ]
  },
  {
   "cell_type": "code",
   "execution_count": 3,
   "metadata": {},
   "outputs": [
    {
     "data": {
      "text/plain": [
       "3"
      ]
     },
     "execution_count": 3,
     "metadata": {},
     "output_type": "execute_result"
    }
   ],
   "source": [
    "a"
   ]
  },
  {
   "cell_type": "code",
   "execution_count": 4,
   "metadata": {},
   "outputs": [
    {
     "name": "stdout",
     "output_type": "stream",
     "text": [
      "gl\n",
      " {'__name__': '__main__', '__doc__': 'Automatically created module for IPython interactive environment', '__package__': None, '__loader__': None, '__spec__': None, '__builtin__': <module 'builtins' (built-in)>, '__builtins__': <module 'builtins' (built-in)>, '_ih': ['', 'a=3\\ndef toto():\\n    print(7)\\n\\ndef clear_all():\\n    \"\"\"Clears all the variables from the workspace of the spyder application.\"\"\"\\n    gl = globals().copy()\\n    print(\"gl\\\\n\",gl)\\n    for var in gl:\\n        if var[0] == \\'_\\': continue\\n        if \\'func\\' in str(globals()[var]): continue\\n        if \\'module\\' in str(globals()[var]): continue\\n\\n        del globals()[var]', 'toto()', 'a', 'clear_all()'], '_oh': {3: 3}, '_dh': ['/Users/vigon/GoogleDrive/permanent/python/aleaDataSignal/alea'], 'In': ['', 'a=3\\ndef toto():\\n    print(7)\\n\\ndef clear_all():\\n    \"\"\"Clears all the variables from the workspace of the spyder application.\"\"\"\\n    gl = globals().copy()\\n    print(\"gl\\\\n\",gl)\\n    for var in gl:\\n        if var[0] == \\'_\\': continue\\n        if \\'func\\' in str(globals()[var]): continue\\n        if \\'module\\' in str(globals()[var]): continue\\n\\n        del globals()[var]', 'toto()', 'a', 'clear_all()'], 'Out': {3: 3}, 'get_ipython': <bound method InteractiveShell.get_ipython of <ipykernel.zmqshell.ZMQInteractiveShell object at 0x1090cb630>>, 'exit': <IPython.core.autocall.ZMQExitAutocall object at 0x109116d68>, 'quit': <IPython.core.autocall.ZMQExitAutocall object at 0x109116d68>, '_': 3, '__': '', '___': '', '_i': 'a', '_ii': 'toto()', '_iii': 'a=3\\ndef toto():\\n    print(7)\\n\\ndef clear_all():\\n    \"\"\"Clears all the variables from the workspace of the spyder application.\"\"\"\\n    gl = globals().copy()\\n    print(\"gl\\\\n\",gl)\\n    for var in gl:\\n        if var[0] == \\'_\\': continue\\n        if \\'func\\' in str(globals()[var]): continue\\n        if \\'module\\' in str(globals()[var]): continue\\n\\n        del globals()[var]', '_i1': 'a=3\\ndef toto():\\n    print(7)\\n\\ndef clear_all():\\n    \"\"\"Clears all the variables from the workspace of the spyder application.\"\"\"\\n    gl = globals().copy()\\n    print(\"gl\\\\n\",gl)\\n    for var in gl:\\n        if var[0] == \\'_\\': continue\\n        if \\'func\\' in str(globals()[var]): continue\\n        if \\'module\\' in str(globals()[var]): continue\\n\\n        del globals()[var]', 'a': 3, 'toto': <function toto at 0x1091f9d90>, 'clear_all': <function clear_all at 0x10921b048>, '_i2': 'toto()', '_i3': 'a', '_3': 3, '_i4': 'clear_all()'}\n"
     ]
    }
   ],
   "source": [
    "clear_all()"
   ]
  },
  {
   "cell_type": "code",
   "execution_count": 5,
   "metadata": {},
   "outputs": [
    {
     "name": "stdout",
     "output_type": "stream",
     "text": [
      "7\n"
     ]
    }
   ],
   "source": [
    "toto()"
   ]
  },
  {
   "cell_type": "code",
   "execution_count": 6,
   "metadata": {},
   "outputs": [
    {
     "ename": "NameError",
     "evalue": "name 'a' is not defined",
     "output_type": "error",
     "traceback": [
      "\u001b[0;31m---------------------------------------------------------------------------\u001b[0m",
      "\u001b[0;31mNameError\u001b[0m                                 Traceback (most recent call last)",
      "\u001b[0;32m<ipython-input-6-3f786850e387>\u001b[0m in \u001b[0;36m<module>\u001b[0;34m()\u001b[0m\n\u001b[0;32m----> 1\u001b[0;31m \u001b[0ma\u001b[0m\u001b[0;34m\u001b[0m\u001b[0m\n\u001b[0m",
      "\u001b[0;31mNameError\u001b[0m: name 'a' is not defined"
     ]
    }
   ],
   "source": [
    "a"
   ]
  },
  {
   "cell_type": "code",
   "execution_count": null,
   "metadata": {},
   "outputs": [],
   "source": [
    "datapath = os.path.join(\"datasets\", \"lifesat\", \"\")\n",
    "\"big dataframe\"\n",
    "df0 = pd.read_csv(datapath + \"oecd_bli_2015.csv\", thousands=',')\n",
    "\"we keep only some lines \"\n",
    "df1 = df0[df0[\"INEQUALITY\"]==\"TOT\"]\n",
    "\"and make a pivot table to  indicators and their values by country\"\n",
    "df2 = df1.pivot(index=\"Country\", columns=\"Indicator\", values=\"Value\")\n",
    "df_gdp = pd.read_csv(datapath+\"gdp_per_capita.csv\", thousands=',', delimiter='\\t',\n",
    "                             encoding='latin1', na_values=\"n/a\")\n",
    "df_gdp.rename(columns={\"2015\": \"GDP per capita\"}, inplace=True)\n",
    "df_gdp.set_index(\"Country\", inplace=True)\n",
    "df_full = pd.merge(left=df_gdp[[\"GDP per capita\"]], right=df2, left_index=True, right_index=True)\n",
    "df_full.sort_values(by=\"GDP per capita\", inplace=True)\n",
    "\n",
    "\"we remove some countries\"\n",
    "remove_indices = [0, 1, 6, 8, 33, 34, 35]\n",
    "\" to substract list, we transform them into set. This an fast technic (avoiding a double loop) \"\n",
    "keep_indices = list(set(range(36)) - set(remove_indices))\n",
    "\n",
    "df_sample = df_full[[\"GDP per capita\", 'Life satisfaction']].iloc[keep_indices]\n",
    "df_missing = df_full[[\"GDP per capita\", 'Life satisfaction']].iloc[remove_indices]"
   ]
  }
 ],
 "metadata": {
  "kernelspec": {
   "display_name": "Python 3",
   "language": "python",
   "name": "python3"
  },
  "language_info": {
   "codemirror_mode": {
    "name": "ipython",
    "version": 3
   },
   "file_extension": ".py",
   "mimetype": "text/x-python",
   "name": "python",
   "nbconvert_exporter": "python",
   "pygments_lexer": "ipython3",
   "version": "3.6.5"
  }
 },
 "nbformat": 4,
 "nbformat_minor": 2
}
