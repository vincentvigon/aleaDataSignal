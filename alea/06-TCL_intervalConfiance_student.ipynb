{
 "cells": [
  {
   "cell_type": "markdown",
   "metadata": {},
   "source": [
    "# Théorème centrale limite "
   ]
  },
  {
   "cell_type": "code",
   "execution_count": 1,
   "metadata": {},
   "outputs": [],
   "source": [
    "import numpy as np\n",
    "np.set_printoptions(precision=2,suppress=True)\n",
    "import matplotlib.pyplot as plt\n",
    "import scipy.stats as stats\n",
    "%matplotlib inline"
   ]
  },
  {
   "cell_type": "markdown",
   "metadata": {},
   "source": [
    "## TCL intuitivement\n",
    "\n",
    "Considérons `X[0],X[1],...` une suite iid de va. Définissons `S[n]=X[0]+...X[n-1]`\n",
    "On peut imaginer que les `X[i]` sont des erreurs élémentaires, et donc `S[n]` une erreur globale.\n",
    "Le théorème centrale limite (TCL) nous indique que, lorsque `n` grandis, la loi de `S[n]` \"se rapproche\" d'un gaussienne."
   ]
  },
  {
   "cell_type": "code",
   "execution_count": 3,
   "metadata": {},
   "outputs": [
    {
     "data": {
      "image/png": "[encoded data removed]",
      "text/plain": [
       "<Figure size 432x288 with 1 Axes>"
      ]
     },
     "metadata": {},
     "output_type": "display_data"
    }
   ],
   "source": [
    "\"\"\" nombre de v.a que l'on va sommer \"\"\"\n",
    "n = 8\n",
    "\"\"\" nombre de fois où l'on va effectuer cette somme. \n",
    "Comme il s'agit d'illustrer une loi, on est obligé de faire plusieurs essais (=\"essaies\" in english)\"\"\"\n",
    "nbEssaies=3000\n",
    "\n",
    "collect=[]\n",
    "for i in range(nbEssaies):\n",
    "    X=np.random.exponential(size=n)\n",
    "    S=np.sum(X)\n",
    "    collect.append(S)\n",
    "\n",
    "plt.hist(collect,20,density=True,edgecolor=\"k\");"
   ]
  },
  {
   "cell_type": "markdown",
   "metadata": {},
   "source": [
    "## TCL mathématiquement\n",
    "\n",
    "Nous avons dit: \"La loi de `S[n]` se rapproche d'une gaussienne\" ... pas très précis cela. C'est vrai que plus n est grand, et plus l'histogramme a une forme de cloche (testez cela), mais ces cloches ont tendances à se dilater et à se translater de plus en plus. C'est très naturelle : l'espèrance et la variance de `S[n]` augmente ! Pour \"converger\" vers une cloche fixée il faut centrer-réduire :\n",
    "\n",
    "***Théorème:***   Quand `n` tend vers l'infini, la version centrée-réduite de `S[n]` converge\n",
    "en loi vers une gaussienne (gaussienne centrée-réduite of course).\n",
    "\n",
    "\n",
    "***Exo:*** \n",
    "\n",
    "* Notons `mu` et `sigma2` l'espérance et la variance de `X[0]`. Calculez l'espérance et la variance de `S[n]`. Ecrirez l'expression de la version centrée-réduite de `S[n]`. Modifiez le programme précédent pour dresser l'histogramme de la version centrée réduite de `S[n]`.\n",
    "\n",
    "* Superposer l'histogramme ainsi obtenu avec la densité de la gaussienne. \n",
    "\n",
    "\n",
    "**Aide:** Attention, quand on centre-réduit on doit diviser par\n",
    "\n",
    "* l'écart-type\n",
    "* la variance\n",
    "* l'espérance \n",
    "\n",
    "(cochez la bonne réponses).  Vous devriez voir apparaitre `sqrt(n)` dans vos équations. "
   ]
  },
  {
   "cell_type": "markdown",
   "metadata": {},
   "source": [
    "## Théorème central limite (TCL) et loi forte des grands nombres (LFGN)\n",
    "\n",
    "Il y a plusieurs façons de présenter le TCL. Nous venons de voir ma façon préférée (très mnémotechnique):\n",
    "\n",
    "    centrer-réduire une somme de va i.i.d -----> gaussienne \n",
    "\n",
    "\n",
    "Mais parfois on présente le TCL en indiquant qu'il permet de préciser la vitesse de convergence de la LFGN.\n",
    "\n",
    "**Exo:** Trouvez une formule du type :\n",
    "\n",
    "    S[n]/ n  - mu   ~  f(n) * cst\n",
    "\n",
    "où\n",
    "\n",
    "* `f(n)`    est une certaine expression qui tend vers zéro,\n",
    "* `cst`     ne varie pas selon n (mais n'est pas vraiment constante)\n",
    "* `~`       n'est pas une équivalence au sens usuel\n",
    "\n"
   ]
  },
  {
   "cell_type": "markdown",
   "metadata": {},
   "source": [
    "## Une hypothèse manquante ? \n",
    "\n",
    "Le TCL est un théorème universelle puisqu'il est vrai pour toutes les lois.  Toute ? "
   ]
  },
  {
   "cell_type": "code",
   "execution_count": 4,
   "metadata": {},
   "outputs": [
    {
     "data": {
      "image/png": "[encoded data removed]",
      "text/plain": [
       "<Figure size 864x288 with 3 Axes>"
      ]
     },
     "metadata": {},
     "output_type": "display_data"
    }
   ],
   "source": [
    "\"\"\" une fonction effectuant un histogramme tronqué \"\"\"\n",
    "def hist_trunc(ech,gauche,droite,nb_batons):  \n",
    "    bins=np.linspace(gauche,droite,nb_batons)\n",
    "    interval_width=(droite-gauche)/nb_batons\n",
    "    weigh=np.ones_like(ech)/len(ech)/interval_width\n",
    "    plt.hist(ech,bins=bins,weights=weigh,edgecolor=\"k\")\n",
    "\n",
    "\"\"\" il faut toujours tester ses fonctions\"\"\"\n",
    "def test():\n",
    "    X=np.random.normal(size=1000)\n",
    "    hist_trunc(X,-1,1,10)\n",
    "\n",
    "\"\"\" dressons l'histogramme de la moyenne de n v.a de Cauchy \"\"\"\n",
    "def cauchy_sum(n):\n",
    "    nbEssaies=3000    \n",
    "    collect=[]\n",
    "\n",
    "    for i in range(nbEssaies):\n",
    "        X=stats.cauchy.rvs(size=n)\n",
    "        \"\"\" ici on divise par n, au lieu de sqrt(n) comme dans le TCL \"\"\"\n",
    "        S=np.sum(X)/n \n",
    "        collect.append(S)\n",
    "        \n",
    "    hist_trunc(collect,-10,10,20)\n",
    "\n",
    "\n",
    "    x=np.linspace(-7,7,50)\n",
    "    plt.plot(x,stats.cauchy.pdf(x))\n",
    "\n",
    "\n",
    "plt.figure(figsize=(12,4))\n",
    "plt.subplot(1,3,1)\n",
    "cauchy_sum(5)\n",
    "plt.subplot(1,3,2)\n",
    "cauchy_sum(20)\n",
    "plt.subplot(1,3,3)\n",
    "cauchy_sum(30)"
   ]
  },
  {
   "cell_type": "markdown",
   "metadata": {},
   "source": [
    "## Python-numpy: Le même programme sans boucle\n",
    "\n",
    "Quand on a un peu l'habitude, on peut faire le même programme que le précédent sans boucle for ;\n",
    "c'est plus compacte et plus rapide (les boucles implicites se font dans un langage compilé).  "
   ]
  },
  {
   "cell_type": "code",
   "execution_count": 6,
   "metadata": {},
   "outputs": [
    {
     "name": "stdout",
     "output_type": "stream",
     "text": [
      "(3000,)\n"
     ]
    },
    {
     "data": {
      "image/png": "[encoded data removed]",
      "text/plain": [
       "<Figure size 432x288 with 1 Axes>"
      ]
     },
     "metadata": {},
     "output_type": "display_data"
    }
   ],
   "source": [
    "nbEssaies = 3000\n",
    "n=100\n",
    "\"\"\"on tire une matrice ech[i,j] de va gaussiennes\"\"\"\n",
    "ech=np.random.normal(size=[nbEssaies,n])\n",
    "\"\"\" axis=1 signifie que l'on somme sur l'indice 1 (j): collect[i]=sum_j ech[i,j]  \"\"\"\n",
    "collect=np.sum(ech, axis=1)\n",
    "\"\"\"vérifions qu'on a un vecteur de la shape voulue.\"\"\"\n",
    "print(collect.shape)\n",
    "plt.hist(collect,20,density=True,edgecolor=\"k\");"
   ]
  },
  {
   "cell_type": "markdown",
   "metadata": {},
   "source": [
    "***exo :*** Centrez réduire, rajouter la densité de la gaussienne avec ce programme dans boucle.  "
   ]
  },
  {
   "cell_type": "markdown",
   "metadata": {},
   "source": [
    "## intervalle de confiance"
   ]
  },
  {
   "cell_type": "markdown",
   "metadata": {},
   "source": [
    "Supposons que l'on dispose d'un échantillon issue d'une v.a dont on connait l'écart-type mais dont on ne connait pas\n",
    "l'espérance. \n",
    "\n",
    "(C'est une situation artificielle : dans les cas pratique, on ne connait ni l'un ni l'autre)"
   ]
  },
  {
   "cell_type": "code",
   "execution_count": 7,
   "metadata": {},
   "outputs": [
    {
     "name": "stdout",
     "output_type": "stream",
     "text": [
      "2.824016224790009\n"
     ]
    }
   ],
   "source": [
    "\"\"\" les températures du mois d'aout enregistrées à Strasbourg \"\"\"\n",
    "temperatures=[ 28.7,32.1,30.2,35.5,29.4,29.4,34.5,32.9,29.4,28.5,33.7,30.5,35., 30.3,29.6,29.8,31.7,28.2,28.3,29.9,28.5,28.9,31.8,36.2,35.1,35.5,28.3,29.7,38.7,28.8,31.5]\n",
    "\"\"\" un devin sérieux nous indique que l'écart-type théorique associé est sigma=3. \n",
    " Vérifions que l'écart-type estimé est proche de sa valeur théorique:\n",
    " \"\"\"\n",
    "print(np.std(temperatures))"
   ]
  },
  {
   "cell_type": "code",
   "execution_count": 8,
   "metadata": {},
   "outputs": [
    {
     "name": "stdout",
     "output_type": "stream",
     "text": [
      "temp moyenne: mean(X)= 31.309677419354838\n"
     ]
    }
   ],
   "source": [
    "\"\"\" Pour estimer l'espérance de la température journalière, il suffit de faire une moyenne :\"\"\"\n",
    "\n",
    "print(\"temp moyenne: mean(X)=\",np.mean(temperatures))"
   ]
  },
  {
   "cell_type": "markdown",
   "metadata": {},
   "source": [
    "**Exo:** Construisez maintenant un intervalle de confiance de la forme \n",
    "$$\n",
    "I=[\\hat \\mu -\\epsilon, \\hat \\mu +\\epsilon]\n",
    "$$ \n",
    "de telle manière à ce que :\n",
    "$$\n",
    "\\mathbf P[\\mu \\in I]=0.95\n",
    "$$\n",
    "\n",
    "Aide mathémathique (essayer sans la lire) :\n",
    " \n",
    ">  $\\hat \\mu$  est (très proche) d'une gaussienne de moyenne $\\mu$ et d'écartype. Donc $(\\hat \\mu-\\mu)/cst$ est une gaussienne centrée réduite.\n",
    " La fonction quantile de la gaussienne nous permet de trouver $a$ telle que\n",
    "$$\n",
    "\\mathbf P[ -a<(\\hat \\mu-\\mu) / cst<a ]=0.95\n",
    "$$\n",
    " Une petite manipulation de cette expression nous donne l'intervalle de confiance.\n",
    "\n",
    "\n",
    "Aide informatique :\n",
    "\n",
    "> Pour obtenir la fonction quantile de la gaussienne: `stat.norm.ppf(x)`"
   ]
  },
  {
   "cell_type": "markdown",
   "metadata": {},
   "source": [
    "**Exo suite:** Les températeur donnée précédemment on été générées avec la fonction `generate_temperatures()`ci-dessous. Lancez de nombreuse fois cette fonction, et vérifiez que l'espérance théorique (que je vous laisse calculer) tombe dans 95% des cas dans votre intervalle de confiance (attention, il faut le recalculer à chaque tirage !). \n",
    "\n",
    "Refaite la même manip avec un intervalle de confiance à 90% et 99%. "
   ]
  },
  {
   "cell_type": "code",
   "execution_count": 9,
   "metadata": {},
   "outputs": [],
   "source": [
    "def generate_temperatures(n=31):\n",
    "    \"\"\"\"\"\"\n",
    "    \"\"\"la loi du chi2 à df degré de liberté (degree of freedom) c'est simplement la somme de df-gaussiennes\"\"\"\n",
    "    return np.random.chisquare(df=3,size=n)+28"
   ]
  },
  {
   "cell_type": "markdown",
   "metadata": {},
   "source": [
    "## Loi t de Student\n",
    "\n",
    "Deux lois importantes pour les stats:\n",
    "\n",
    " * chi2(n)    = loi du chi2 à n-degré de liberté\n",
    " * t(n)       = loi t de Student à n-degré de liberté\n",
    "\n",
    "Elles peuvent être décrites de la manière suivante :\n",
    "Si X1,...,Xn iid suivent des N(0,1)      alors   X1^2+...+Xn^2 suit une Chi2(n)\n",
    "Si Z,U sont indépendant avec Z ~ N(0,1) et U ~ Chi2(n)   alors   Z / (sqrt(U/n)) suit une t(n)\n",
    "\n",
    "\n"
   ]
  },
  {
   "cell_type": "markdown",
   "metadata": {},
   "source": [
    "** Exo:** sur un même graphique, dessinez les densité des lois de Student pour df=1,2,4,5,10. Vérifiez que plus df esst grand et plus la loi de student ressemble à la gaussienne. \n",
    "\n",
    "Aide : utiliser scipy : `stats.t.pdf()`"
   ]
  },
  {
   "cell_type": "markdown",
   "metadata": {},
   "source": [
    "## Pourquoi la loi de Student est importante en statistique :  \n",
    "\n",
    "\n",
    "On considère un échantillon :  `X = X[0],...,X[n-1]`  représentant des observations iid d'une quantité. On note :\n",
    "\n",
    "        mu=E(X[0])\n",
    "        sigma2= V(X[0])\n",
    "    \n",
    "se sont des caractéristiques de la vraie quantité. Si on n'y a pas accès, on les estime par\n",
    "\n",
    "        mean(X) = 1/n     sum_i X[i]\n",
    "        std2(X) = 1/(n-1) sum_i (X[i]-mean(X))**2\n",
    "    \n",
    "En numpy :\n",
    "\n",
    "        mean(X) =np.mean(X)\n",
    "        std2(X) =np.std(X,ddof=1)**2\n",
    "    \n",
    "`ddof=1` c'est pour préciser que l'on divise par `n-1`, attention par défaut `ddof=0`. On divise par `n-1` pour avoir un\n",
    "estimateur sans biais càd vérifiant `E(std2(X))=sigma2`   (faites le calcul, c'est un bon exo).\n",
    "\n",
    "\n",
    "Maintenant nous aimerions répondre à la question suivante : \"de combien  `mean(X)` et `mu` sont éloignés?\" \n",
    "\n",
    "\n",
    "\n",
    "Le TCL (théorème central limite) nous indique que :\n",
    "\n",
    "\n",
    "           mean(X)-mu\n",
    "        ----------------    ~  N(0,1)\n",
    "         sigma/sqrt(n)\n",
    "\n",
    "\n",
    "\n",
    "Mais quand on travaille avec de vraies observations, on n'a pas accès à sigma, on le remplace donc par son estimation, et il se trouve que:\n",
    "\n",
    "           mean(X)-mu\n",
    "        ----------------    ~   t(df=n-1)\n",
    "          std(X)/sqrt(n)\n",
    "\n",
    "\n",
    "NB: en fait le symbole `~` est une égalité en loi quand les `X[i]` sont des gaussiennes, sinon c'est une approximation. \n",
    "\n",
    "\n",
    "Dans le programme suivant nous suivons cette recette :\n",
    "Prendre `n` v.a gaussiennes indépendantes, en faire la moyenne, centrer-réduire empiriquement le tout.\n",
    "Et on obtient une va de student à n-1 degrés de liberté.\n",
    "\n",
    "(J'ai fais volontairement une petite erreur qui fait que l'histogramme ne colle pas exactement à la densité,\n",
    "corrigez-la. Si vous le la trouvez pas, relisez le texte ci-dessus)\n"
   ]
  },
  {
   "cell_type": "code",
   "execution_count": 11,
   "metadata": {},
   "outputs": [
    {
     "data": {
      "image/png": "[encoded data removed]",
      "text/plain": [
       "<Figure size 432x288 with 1 Axes>"
      ]
     },
     "metadata": {},
     "output_type": "display_data"
    }
   ],
   "source": [
    "nbEssaies=20000\n",
    "nbGauss = 4\n",
    "df=nbGauss-1\n",
    "\n",
    "sample=np.zeros(nbEssaies)\n",
    "\n",
    "for i in range(nbEssaies):\n",
    "    gauss=np.random.normal(size=nbGauss)\n",
    "    sample[i]=np.mean(gauss)/(np.std(gauss,ddof=1)/np.sqrt(nbGauss))\n",
    "\n",
    "\"\"\"on limite l'intervalle pour avoir un plus beau graphique\"\"\"\n",
    "a, b = [-4, 4]\n",
    "plt.hist(sample[(a < sample) & (sample < b)], 15, density=True, rwidth=0.1)\n",
    "\n",
    "x = np.linspace(a, b, 100)\n",
    "plt.plot(x, stats.t.pdf(x, df), label=\"student\")\n",
    "plt.plot(x, stats.norm.pdf(x), label=\"gauss\")\n",
    "plt.legend();"
   ]
  },
  {
   "cell_type": "code",
   "execution_count": 27,
   "metadata": {},
   "outputs": [],
   "source": []
  },
  {
   "cell_type": "code",
   "execution_count": 27,
   "metadata": {},
   "outputs": [],
   "source": []
  },
  {
   "cell_type": "code",
   "execution_count": 27,
   "metadata": {},
   "outputs": [],
   "source": []
  },
  {
   "cell_type": "code",
   "execution_count": null,
   "metadata": {},
   "outputs": [],
   "source": []
  }
 ],
 "metadata": {
  "kernelspec": {
   "display_name": "Python 3",
   "language": "python",
   "name": "python3"
  },
  "language_info": {
   "codemirror_mode": {
    "name": "ipython",
    "version": 3
   },
   "file_extension": ".py",
   "mimetype": "text/x-python",
   "name": "python",
   "nbconvert_exporter": "python",
   "pygments_lexer": "ipython3",
   "version": "3.6.5"
  }
 },
 "nbformat": 4,
 "nbformat_minor": 2
}
