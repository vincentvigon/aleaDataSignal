{
 "cells": [
  {
   "cell_type": "code",
   "execution_count": 1,
   "metadata": {},
   "outputs": [
    {
     "data": {
      "text/html": [
       "\n",
       "    <div class=\"bk-root\">\n",
       "        <a href=\"https://bokeh.pydata.org\" target=\"_blank\" class=\"bk-logo bk-logo-small bk-logo-notebook\"></a>\n",
       "        <span id=\"315d3052-0637-4e6c-bfb1-c39343e575e0\">Loading BokehJS ...</span>\n",
       "    </div>"
      ],
      "text/plain": [
       "\n",
       "    <div class=\"bk-root\">\n",
       "        <a href=\"https://bokeh.pydata.org\" target=\"_blank\" class=\"bk-logo bk-logo-small bk-logo-notebook\"></a>\n",
       "        <span id=\"315d3052-0637-4e6c-bfb1-c39343e575e0\">Loading BokehJS ...</span>\n",
       "    </div>"
      ]
     },
     "execution_count": 0,
     "metadata": {},
     "output_type": "execute_result"
    },
    {
     "data": {
      "text/html": [
       "\n",
       "    <div class=\"bk-root\">\n",
       "        <a href=\"https://bokeh.pydata.org\" target=\"_blank\" class=\"bk-logo bk-logo-small bk-logo-notebook\"></a>\n",
       "        <span id=\"315d3052-0637-4e6c-bfb1-c39343e575e0\">Loading BokehJS ...</span>\n",
       "    </div>"
      ],
      "text/plain": [
       "\n",
       "    <div class=\"bk-root\">\n",
       "        <a href=\"https://bokeh.pydata.org\" target=\"_blank\" class=\"bk-logo bk-logo-small bk-logo-notebook\"></a>\n",
       "        <span id=\"315d3052-0637-4e6c-bfb1-c39343e575e0\">Loading BokehJS ...</span>\n",
       "    </div>"
      ]
     },
     "execution_count": 0,
     "metadata": {},
     "output_type": "execute_result"
    }
   ],
   "source": [
    "import numpy as np\n",
    "from bokeh.plotting import figure, show\n",
    "from bokeh.io import output_notebook\n",
    "from bokeh.models import LinearColorMapper, BasicTicker, ColorBar\n",
    "from bokeh.palettes import Category10\n",
    "output_notebook()\n"
   ]
  },
  {
   "cell_type": "markdown",
   "metadata": {},
   "source": [
    "# Introduction to Gaussian Processes - Part I\n",
    "Author: [@alex_bridgland](https://twitter.com/alex_bridgland) | [@bridgo](https://github.com/Bridgo)\n",
    "\n",
    "Blog post: http://bridg.land/posts/gaussian-processes-1\n",
    "***\n",
    "Gaussian processes may not be at the center of current machine learning hype but are still used at the forefront of research -- they were recently seen automatically tuning the MCTS hyperparameters for AlphaGo Zero for instance. They manage to be very easy to use while providing rich modeling capacity and uncertainty estimates.\n",
    "\n",
    "However they can be pretty hard to grasp, especially if you're used to the type of models we see a lot of in deep learning. So hopefully this guide can fix that! It assumes a fairly minimal ML background and I aimed for a more visual & intuitive introduction without totally abandoning the theory. To get the most out of it I recommend downloading the notebook and experimenting with all the code!\n",
    "\n",
    "## What is a Gaussian Process and why would I use one?\n",
    "***\n",
    "A Gaussian process (GP) is a powerful model that can be used to represent a distribution over functions. Most modern techniques in machine learning tend to avoid this by parameterising functions and then modeling these parameters (e.g. the weights in linear regression). However GPs are nonparametric models that model the function directly. This comes with one hugely important benefit: not only can we model any black-box function, __we can also model our uncertainty__. Quantifying uncertainty can be extremely valuable - for example if we are allowed to explore (request more data) we can chose to explore the areas we are least certain about to be as efficient as possible. This is the main idea behind Bayesian optimisation. For more information on the importance of uncertainty modeling see [this article](http://mlg.eng.cam.ac.uk/yarin/blog_3d801aa532c1ce.html) by Yarin Gal.\n",
    "\n",
    "> If you give me several pictures of cats and dogs – and then you ask me to classify a new cat photo – I should return a prediction with rather high confidence. But if you give me a photo of an ostrich and force my hand to decide if it's a cat or a dog – I better return a prediction with very low confidence.\n",
    ">\n",
    "> Yarin Gal\n",
    "\n",
    "For this introduction we will consider a simple regression setup without noise (but GPs can be extended to multiple dimensions and noisy data):\n",
    "- We assume there is some hidden function $f:\\mathbb{R}\\rightarrow\\mathbb{R}$ that we want to model.\n",
    "- We have data $\\mathbf{x}=[x_ 1, \\ldots, x_N]^T, \\mathbf{y}=[y_ 1, \\ldots, y_N]^T$ where $y_i = f(x_i)$.\n",
    "- We want to predict the value of $f$ at some new, unobserved points $\\mathbf{x}_*$.\n",
    "\n",
    "## Modeling Functions using Gaussians\n",
    "***\n",
    "The key idea behind GPs is that a function can be modeled using an infinite dimensional multivariate Gaussian distribution. In other words, every point in the input space is associated with a random variable and the joint distribution of these is modeled as a multivariate Gaussian.\n",
    "\n",
    "Ok, so what does that mean and what does it actually look like? Well lets start with a simpler case: a unit 2D Gaussian. How can we start to view this as a distribution over functions? Here's what we have:\n",
    "\n",
    "$$ \\begin{pmatrix} y_0 \\\\ y_1 \\end{pmatrix} \\sim\\mathcal{N}\\left(\\begin{pmatrix} 0\\\\ 0 \\end{pmatrix}, \\begin{pmatrix} 1 & 0 \\\\ 0 & 1 \\end{pmatrix}\\right) $$\n",
    "\n",
    "Normally this is visualised as a 3D bell curve with the probability density represented as height. But what if, instead of visualising the whole distribution, we just sample from the distribution. Then we will have two values which we can plot on an graph. Let's do this 10 times, putting the first value at $x=0$ and the second at $x=1$ and then drawing a line between them."
   ]
  },
  {
   "cell_type": "code",
   "execution_count": 2,
   "metadata": {},
   "outputs": [],
   "source": [
    "def plot_unit_gaussian_samples(D):\n",
    "    p = figure(plot_width=800, plot_height=500, title='Samples from a unit {}D Gaussian'.format(D))\n",
    "\n",
    "    xs = np.linspace(0, 1, D)\n",
    "    for color in Category10[10]:\n",
    "        ys = np.random.multivariate_normal(np.zeros(D), np.eye(D))\n",
    "        p.line(xs, ys, line_width=1, color=color)\n",
    "    return p"
   ]
  },
  {
   "cell_type": "code",
   "execution_count": 3,
   "metadata": {
    "scrolled": false
   },
   "outputs": [
    {
     "data": {
      "text/html": [
       "\n",
       "<div class=\"bk-root\">\n",
       "    <div class=\"bk-plotdiv\" id=\"be065ebb-35f8-4221-bc78-eeb323eb4ffc\"></div>\n",
       "</div>"
      ],
      "text/plain": [
       "\n",
       "<div class=\"bk-root\">\n",
       "    <div class=\"bk-plotdiv\" id=\"be065ebb-35f8-4221-bc78-eeb323eb4ffc\"></div>\n",
       "</div>"
      ]
     },
     "execution_count": 0,
     "metadata": {},
     "output_type": "execute_result"
    },
    {
     "data": {
      "text/html": [
       "\n",
       "<div class=\"bk-root\">\n",
       "    <div class=\"bk-plotdiv\" id=\"be065ebb-35f8-4221-bc78-eeb323eb4ffc\"></div>\n",
       "</div>"
      ],
      "text/plain": [
       "\n",
       "<div class=\"bk-root\">\n",
       "    <div class=\"bk-plotdiv\" id=\"be065ebb-35f8-4221-bc78-eeb323eb4ffc\"></div>\n",
       "</div>"
      ]
     },
     "execution_count": 0,
     "metadata": {},
     "output_type": "execute_result"
    }
   ],
   "source": [
    "show(plot_unit_gaussian_samples(2))"
   ]
  },
  {
   "cell_type": "markdown",
   "metadata": {},
   "source": [
    "Looking at all these lines on a graph, it starts to look like we've just sampled 10 linear functions... What if we now use a 20-dimensional Gaussian, joining each of the sampled points in order?"
   ]
  },
  {
   "cell_type": "code",
   "execution_count": 4,
   "metadata": {},
   "outputs": [
    {
     "data": {
      "text/html": [
       "\n",
       "<div class=\"bk-root\">\n",
       "    <div class=\"bk-plotdiv\" id=\"d89af8b7-c4ad-497d-8070-6ee5ffa0bce8\"></div>\n",
       "</div>"
      ],
      "text/plain": [
       "\n",
       "<div class=\"bk-root\">\n",
       "    <div class=\"bk-plotdiv\" id=\"d89af8b7-c4ad-497d-8070-6ee5ffa0bce8\"></div>\n",
       "</div>"
      ]
     },
     "execution_count": 0,
     "metadata": {},
     "output_type": "execute_result"
    },
    {
     "data": {
      "text/html": [
       "\n",
       "<div class=\"bk-root\">\n",
       "    <div class=\"bk-plotdiv\" id=\"d89af8b7-c4ad-497d-8070-6ee5ffa0bce8\"></div>\n",
       "</div>"
      ],
      "text/plain": [
       "\n",
       "<div class=\"bk-root\">\n",
       "    <div class=\"bk-plotdiv\" id=\"d89af8b7-c4ad-497d-8070-6ee5ffa0bce8\"></div>\n",
       "</div>"
      ]
     },
     "execution_count": 0,
     "metadata": {},
     "output_type": "execute_result"
    }
   ],
   "source": [
    "show(plot_unit_gaussian_samples(20))"
   ]
  },
  {
   "cell_type": "markdown",
   "metadata": {},
   "source": [
    "These definitely look like functions of sorts but they look far too noisy to be useful for our purposes. Let's think a bit more about what we want from these samples and how we might change the distribution to get better looking samples...\n",
    "\n",
    "The multivariate Gaussian has two parameters, its mean and covariance matrix. If we changed the mean then we would only change the overall trend (i.e. if the mean was ascending integers, e.g. `np.arange(D)` then the samples would have an overall positive linear trend) but there would still be that jagged noisy shape. For this reason we tend to leave the GP mean as zero - they actually turn out to be powerful enough to model many functions without changing this.\n",
    "\n",
    "Instead we want some notion of _smoothness_: i.e. if two input points are close to each other then we expect the value of the function at those points to be similar. In terms of our model: random variables corresponding to nearby points should have similar values when sampled under their joint distribution (i.e. high _covariance_).\n",
    "\n",
    "The covariance of these points is defined in the covariance matrix of the Gaussian. Suppose we have an $N$ dimensional Gaussian modeling $y_0,\\ldots, y_N$, then the covariance matrix $\\Sigma$ is $N\\times N$ and its $(i, j)$-th element is $\\Sigma_{ij}=\\text{cov}(y_i, y_j)$. In other words $\\Sigma$ is symmetric and stores the pairwise covariances of all the jointly modeled random variables.\n",
    "\n",
    "## Smoothing with Kernels\n",
    "***\n",
    "\n",
    "So how should we define our covariance function? This is where the vast literature on kernels comes in handy. For our purposes we will choose a __squared exponential kernel__ which (in its simplest form) is defined by:\n",
    "\n",
    "$$ \\kappa(x, x')=\\exp\\left(-~\\frac{(x-x')^2}{2}\\right)$$\n",
    "\n",
    "This function (which we plot in a moment) is 1 when $x=x'$ and tends to zero as its arguments drift apart."
   ]
  },
  {
   "cell_type": "code",
   "execution_count": 5,
   "metadata": {},
   "outputs": [],
   "source": [
    "def k(xs, ys, sigma=1, l=1):\n",
    "    \"\"\"Sqared Exponential kernel as above but designed to return the whole\n",
    "    covariance matrix - i.e. the pairwise covariance of the vectors xs & ys.\n",
    "    Also with two parameters which are discussed at the end.\"\"\"\n",
    "\n",
    "    # Pairwise difference matrix.\n",
    "    dx = np.expand_dims(xs, 1) - np.expand_dims(ys, 0)\n",
    "    return (sigma ** 2) * np.exp(-((dx / l) ** 2) / 2)\n",
    "\n",
    "def m(x):\n",
    "    \"\"\"The mean function. As discussed, we can let the mean always be zero.\"\"\"\n",
    "    return np.zeros_like(x)"
   ]
  },
  {
   "cell_type": "markdown",
   "metadata": {},
   "source": [
    "We can plot this kernel to show how it's maximised when $x=x'$ and then smoothly falls off as the two inputs start to differ."
   ]
  },
  {
   "cell_type": "code",
   "execution_count": 6,
   "metadata": {},
   "outputs": [
    {
     "data": {
      "text/html": [
       "\n",
       "<div class=\"bk-root\">\n",
       "    <div class=\"bk-plotdiv\" id=\"4daac152-c39f-4a35-8876-2c958169c474\"></div>\n",
       "</div>"
      ],
      "text/plain": [
       "\n",
       "<div class=\"bk-root\">\n",
       "    <div class=\"bk-plotdiv\" id=\"4daac152-c39f-4a35-8876-2c958169c474\"></div>\n",
       "</div>"
      ]
     },
     "execution_count": 0,
     "metadata": {},
     "output_type": "execute_result"
    },
    {
     "data": {
      "text/html": [
       "\n",
       "<div class=\"bk-root\">\n",
       "    <div class=\"bk-plotdiv\" id=\"4daac152-c39f-4a35-8876-2c958169c474\"></div>\n",
       "</div>"
      ],
      "text/plain": [
       "\n",
       "<div class=\"bk-root\">\n",
       "    <div class=\"bk-plotdiv\" id=\"4daac152-c39f-4a35-8876-2c958169c474\"></div>\n",
       "</div>"
      ]
     },
     "execution_count": 0,
     "metadata": {},
     "output_type": "execute_result"
    }
   ],
   "source": [
    "N = 100\n",
    "x = np.linspace(-2, 2, N)\n",
    "y = np.linspace(-2, 2, N)\n",
    "d = k(x, y)\n",
    "\n",
    "color_mapper = LinearColorMapper(palette=\"Plasma256\", low=0, high=1)\n",
    "\n",
    "p = figure(plot_width=400, plot_height=400, x_range=(-2, 2), y_range=(-2, 2),\n",
    "           title='Visualisation of k(x, x\\')', x_axis_label='x', y_axis_label='x\\'', toolbar_location=None)\n",
    "p.image(image=[d], color_mapper=color_mapper, x=-2, y=-2, dw=4, dh=4)\n",
    "\n",
    "color_bar = ColorBar(color_mapper=color_mapper, ticker=BasicTicker(),\n",
    "                     label_standoff=12, border_line_color=None, location=(0,0))\n",
    "\n",
    "p.add_layout(color_bar, 'right')\n",
    "\n",
    "show(p)"
   ]
  },
  {
   "cell_type": "markdown",
   "metadata": {},
   "source": [
    "So, to get the sort of smoothness we want we will consider two random variables $y_i$ and $y_j$ plotted at $x_i$ and $x_j$ to have covariance $\\text{cov}(y_i, y_j)=\\kappa(x_i, x_j)$ - _the closer they are together the higher their covariance_.\n",
    "\n",
    "Using the kernel function from above we can get this matrix with `k(xs, xs)`. Now lets try plotting another 10 samples from the 20D Gaussian, but this time with the new covariance matrix. When we do this we get:"
   ]
  },
  {
   "cell_type": "code",
   "execution_count": 7,
   "metadata": {
    "scrolled": false
   },
   "outputs": [
    {
     "data": {
      "text/html": [
       "\n",
       "<div class=\"bk-root\">\n",
       "    <div class=\"bk-plotdiv\" id=\"2ce6f448-e7f2-4700-8854-14e56c343ee9\"></div>\n",
       "</div>"
      ],
      "text/plain": [
       "\n",
       "<div class=\"bk-root\">\n",
       "    <div class=\"bk-plotdiv\" id=\"2ce6f448-e7f2-4700-8854-14e56c343ee9\"></div>\n",
       "</div>"
      ]
     },
     "execution_count": 0,
     "metadata": {},
     "output_type": "execute_result"
    },
    {
     "data": {
      "text/html": [
       "\n",
       "<div class=\"bk-root\">\n",
       "    <div class=\"bk-plotdiv\" id=\"2ce6f448-e7f2-4700-8854-14e56c343ee9\"></div>\n",
       "</div>"
      ],
      "text/plain": [
       "\n",
       "<div class=\"bk-root\">\n",
       "    <div class=\"bk-plotdiv\" id=\"2ce6f448-e7f2-4700-8854-14e56c343ee9\"></div>\n",
       "</div>"
      ]
     },
     "execution_count": 0,
     "metadata": {},
     "output_type": "execute_result"
    }
   ],
   "source": [
    "p = figure(plot_width=800, plot_height=500)\n",
    "D = 20\n",
    "xs = np.linspace(0, 1, D)\n",
    "for color in Category10[10]:\n",
    "    ys = np.random.multivariate_normal(m(xs), k(xs, xs))\n",
    "    p.circle(xs, ys, size=3, color=color)\n",
    "    p.line(xs, ys, line_width=1, color=color)\n",
    "\n",
    "show(p)"
   ]
  },
  {
   "cell_type": "markdown",
   "metadata": {},
   "source": [
    "Now we have something thats starting to look like a distribution over (useful) functions! And we can see how as the number of dimensions tends to infinity we don't have to connect points any more because we will have a point for every possible choice of input.\n",
    "\n",
    "Let's use more dimensions and see what it looks like across a bigger range of inputs:"
   ]
  },
  {
   "cell_type": "code",
   "execution_count": 8,
   "metadata": {},
   "outputs": [],
   "source": [
    "n = 100\n",
    "xs = np.linspace(-5, 5, n)\n",
    "K = k(xs, xs, sigma=1, l=1)\n",
    "mu = m(xs)"
   ]
  },
  {
   "cell_type": "code",
   "execution_count": 9,
   "metadata": {},
   "outputs": [
    {
     "data": {
      "text/html": [
       "\n",
       "<div class=\"bk-root\">\n",
       "    <div class=\"bk-plotdiv\" id=\"1fdf9a3d-2f9d-4cf4-9421-ec040b409405\"></div>\n",
       "</div>"
      ],
      "text/plain": [
       "\n",
       "<div class=\"bk-root\">\n",
       "    <div class=\"bk-plotdiv\" id=\"1fdf9a3d-2f9d-4cf4-9421-ec040b409405\"></div>\n",
       "</div>"
      ]
     },
     "execution_count": 0,
     "metadata": {},
     "output_type": "execute_result"
    },
    {
     "data": {
      "text/html": [
       "\n",
       "<div class=\"bk-root\">\n",
       "    <div class=\"bk-plotdiv\" id=\"1fdf9a3d-2f9d-4cf4-9421-ec040b409405\"></div>\n",
       "</div>"
      ],
      "text/plain": [
       "\n",
       "<div class=\"bk-root\">\n",
       "    <div class=\"bk-plotdiv\" id=\"1fdf9a3d-2f9d-4cf4-9421-ec040b409405\"></div>\n",
       "</div>"
      ]
     },
     "execution_count": 0,
     "metadata": {},
     "output_type": "execute_result"
    }
   ],
   "source": [
    "p = figure(plot_width=800, plot_height=500)\n",
    "\n",
    "for color in Category10[5]:\n",
    "    ys = np.random.multivariate_normal(mu, K)\n",
    "    p.line(xs, ys, line_width=2, color=color)\n",
    "show(p)"
   ]
  },
  {
   "cell_type": "markdown",
   "metadata": {},
   "source": [
    "## Making Predictions using the Prior & Observations\n",
    "***\n",
    "Now that we have a distribution over functions, how can we use training data to model a hidden function so that we can make predictions?\n",
    "\n",
    "First of all we need some training data! And to get that we are going to create our secret function $f$.\n",
    "\n",
    "### The Target Function $f$\n",
    "For this intro we'll use a 5th order polynomial:\n",
    "\n",
    "$$f(x)=0.03 x^5 + 0.2 x^4 - 0.1 x^3 - 2.4 x^2 - 2.5 x + 6$$\n",
    "\n",
    "I chose this because it has a nice wiggly graph but we could have chosen anything (try changing `coefs` below, or `f(x)` entirely, to model different functions)."
   ]
  },
  {
   "cell_type": "code",
   "execution_count": 10,
   "metadata": {},
   "outputs": [],
   "source": [
    "# coefs[i] is the coefficient of x^i\n",
    "coefs = [6, -2.5, -2.4, -0.1, 0.2, 0.03]\n",
    "\n",
    "def f(x):\n",
    "    total = 0\n",
    "    for exp, coef in enumerate(coefs):\n",
    "        total += coef * (x ** exp)\n",
    "    return total"
   ]
  },
  {
   "cell_type": "code",
   "execution_count": 11,
   "metadata": {},
   "outputs": [],
   "source": [
    "xs = np.linspace(-5.0, 3.5, 100)\n",
    "ys = f(xs)"
   ]
  },
  {
   "cell_type": "code",
   "execution_count": 12,
   "metadata": {
    "scrolled": false
   },
   "outputs": [
    {
     "data": {
      "text/html": [
       "\n",
       "<div class=\"bk-root\">\n",
       "    <div class=\"bk-plotdiv\" id=\"e8818e3c-3985-4c52-8d37-985a17a6a06c\"></div>\n",
       "</div>"
      ]
     },
     "metadata": {},
     "output_type": "execute_result"
    },
    {
     "data": {},
     "metadata": {
      "application/vnd.bokehjs_exec.v0+json": {
       "id": "6dc19136-a50b-4e3b-9723-7d18b99d953a"
      }
     },
     "output_type": "display_data"
    }
   ],
   "source": [
    "p = figure(plot_width=800, plot_height=400, x_axis_label='x', y_axis_label='f(x)',\n",
    "           title='The hidden function f(x)')\n",
    "p.line(xs, ys, line_width=2)\n",
    "show(p)"
   ]
  },
  {
   "cell_type": "markdown",
   "metadata": {},
   "source": [
    "### Getting into the Maths\n",
    "\n",
    "Now we get to the heart of GPs. Theres a bit more maths required but it only consists of consolidating what we have so far and using one trick to condition our joint distribution on observed data.\n",
    "\n",
    "So far we have a way to model $p(\\mathbf{y}\\vert\\mathbf{x})$ using a multivariate normal:\n",
    "\n",
    "$$p(\\mathbf{y}\\vert\\mathbf{x})=\\mathcal{N}(\\mathbf{y}\\vert m(\\mathbf{x}),\\mathbf{K})$$\n",
    "\n",
    "where $\\mathbf{K}=\\kappa(\\mathbf{x}, \\mathbf{x})$ and $m(\\mathbf{x})=\\mathbf{0}$.\n",
    "\n",
    "This is a prior distribution representing the kind out outputs $\\mathbf{y}$ that we expect to see over some inputs $\\mathbf{x}$ _before_ we observe any data.\n",
    "\n",
    "So we have some training data with inputs $\\mathbf{x}$, and outputs $\\mathbf{y}=f(\\mathbf{x})$. Now lets say we have some new points $\\mathbf{x}_*$ where we want to predict $\\mathbf{y}_*=f(\\mathbf{x}_*)$."
   ]
  },
  {
   "cell_type": "code",
   "execution_count": 13,
   "metadata": {},
   "outputs": [],
   "source": [
    "x_obs = np.array([-4, -1.5, 0, 1.5, 2.5, 2.7])\n",
    "y_obs = f(x_obs)\n",
    "\n",
    "x_s = np.linspace(-8, 7, 80)"
   ]
  },
  {
   "cell_type": "markdown",
   "metadata": {},
   "source": [
    "Now recalling the definition of a GP, we will model the joint distribution of all of $\\mathbf{y}$ and $\\mathbf{y}_*$ as:\n",
    "\n",
    "$$ \\begin{pmatrix}\\mathbf{y} \\\\ \\mathbf{y}_*\\end{pmatrix} \\sim\\mathcal{N}\\left(\\begin{pmatrix}m(\\mathbf{x})\\\\ m(\\mathbf{x}_*)\\end{pmatrix}, \\begin{pmatrix}\\mathbf{K} & \\mathbf{K}_* \\\\ \\mathbf{K}_*^T & \\mathbf{K}_{**}\\end{pmatrix}\\right) $$\n",
    "\n",
    "where $\\mathbf{K}=\\kappa(\\mathbf{x}, \\mathbf{x})$, $\\mathbf{K}_* = \\kappa(\\mathbf{x}, \\mathbf{x}_*)$ and $\\mathbf{K}_{**}=\\kappa(\\mathbf{x}_*, \\mathbf{x}_*)$. As before we are going to stick with a zero mean.\n",
    "\n",
    "However this is modeling $p(\\mathbf{y}, \\mathbf{y}_*\\vert \\mathbf{x}, \\mathbf{x}_*)$ and we only want a distribution over $\\mathbf{y}_*$!\n",
    "\n",
    "### Conditioning Multivariate Gaussians\n",
    "\n",
    "Rather than deriving it from scratch we can just make use of [this standard result](https://en.wikipedia.org/wiki/Multivariate_normal_distribution#Conditional_distributions). If we have a joint distribution over $\\mathbf{y}$ and $\\mathbf{y}_*$ as above, and we want to condition on the data we have for $\\mathbf{y}$ then we have the following:\n",
    "\n",
    "$$\\begin{align}\n",
    "p(\\mathbf{y}_*\\vert \\mathbf{x}_*, \\mathbf{x}, \\mathbf{y})&=\\mathcal{N}(\\mathbf{y}_*\\vert \\mu_*, \\Sigma_*)\\\\\n",
    "\\mu_*&=m(\\mathbf{x}_*)+\\mathbf{K}_*^T\\mathbf{K}^{-1}(\\mathbf{y}-m(\\mathbf{x}))\\\\\n",
    "\\Sigma_*&=\\mathbf{K}_{**}-\\mathbf{K}_*^T\\mathbf{K}^{-1}\\mathbf{K}_*\n",
    "\\end{align}$$\n",
    "\n",
    "Now we have a posterior distribution over $\\mathbf{y}_*$ using a prior distribution and some observations!\n",
    "\n",
    "_NB: The code below would not be used in practice since \\\\( \\mathbf{K} \\\\) can often be poorly conditioned, so its inverse might be inaccurate. A better approach is covered in part II of this guide!_"
   ]
  },
  {
   "cell_type": "code",
   "execution_count": 14,
   "metadata": {},
   "outputs": [],
   "source": [
    "K = k(x_obs, x_obs)\n",
    "K_s = k(x_obs, x_s)\n",
    "K_ss = k(x_s, x_s)\n",
    "\n",
    "K_sTKinv = np.matmul(K_s.T, np.linalg.pinv(K))\n",
    "\n",
    "mu_s = m(x_s) + np.matmul(K_sTKinv, y_obs - m(x_obs))\n",
    "Sigma_s = K_ss - np.matmul(K_sTKinv, K_s)"
   ]
  },
  {
   "cell_type": "markdown",
   "metadata": {},
   "source": [
    "And that's it! We can now use these two parameters to draw samples from the conditional distribution. Here we plot them against the true function $f(x)$ (the dashed black line). Since we are using a GP we also have uncertainty information in the form of the variance of each random variable. We know the variance of the $i$-th will be ${\\Sigma_*}_{ii}$ - in other words the variances are just the diagonal elements of $\\Sigma_*$. Here we plot the samples with an uncertainty of $\\pm 2$ standard deviations."
   ]
  },
  {
   "cell_type": "code",
   "execution_count": 15,
   "metadata": {
    "scrolled": false
   },
   "outputs": [
    {
     "data": {
      "text/html": [
       "\n",
       "<div class=\"bk-root\">\n",
       "    <div class=\"bk-plotdiv\" id=\"a3249ede-f9e5-4d22-8614-4966f82cbca5\"></div>\n",
       "</div>"
      ]
     },
     "metadata": {},
     "output_type": "execute_result"
    },
    {
     "data": {},
     "metadata": {
      "application/vnd.bokehjs_exec.v0+json": {
       "id": "2cf06c2a-84f0-4c57-8733-64257fcb96f8"
      }
     },
     "output_type": "display_data"
    }
   ],
   "source": [
    "p = figure(plot_width=800, plot_height=600, y_range=(-7, 8))\n",
    "\n",
    "y_true = f(x_s)\n",
    "p.line(x_s, y_true, line_width=3, color='black', alpha=0.4, line_dash='dashed', legend='True f(x)')\n",
    "\n",
    "p.cross(x_obs, y_obs, size=20, legend='Training data')\n",
    "\n",
    "stds = np.sqrt(Sigma_s.diagonal())\n",
    "err_xs = np.concatenate((x_s, np.flip(x_s, 0)))\n",
    "err_ys = np.concatenate((mu_s + 2 * stds, np.flip(mu_s - 2 * stds, 0)))\n",
    "p.patch(err_xs, err_ys, alpha=0.2, line_width=0, color='grey', legend='Uncertainty')\n",
    "\n",
    "for color in Category10[3]:\n",
    "    y_s = np.random.multivariate_normal(mu_s, Sigma_s)\n",
    "    p.line(x_s, y_s, line_width=1, color=color)\n",
    "    \n",
    "p.line(x_s, mu_s, line_width=3, color='blue', alpha=0.4, legend='Mean')\n",
    "show(p)"
   ]
  },
  {
   "cell_type": "markdown",
   "metadata": {},
   "source": [
    "## What next? - GP Regression and Noisy Data\n",
    "***\n",
    "In practice we need to do a bit more work to get good predictions. You may have noticed that the kernel implementation contained two parameters $\\sigma$ and $l$. If you try changing those when sampling from the prior then you can see how $\\sigma$ changes the vertical variation and $l$ changes the horizontal scale. So we would need to change these to reflect our prior belief about the hidden function $f$. For instance if we expect $f$ to have a much bigger range of outputs (for the domain we are interested in) then we would need to scale up $\\sigma$ accordingly (try scaling the return value of $f$ by 100 to see what happens, then set `sigma=100`). In fact, as with anything that uses kernels, we might change our kernel entirely if we expect a different kind of function (e.g. a periodic function).\n",
    "\n",
    "Picking the kernel is up to a human expert but choosing the parameters can be done automatically by minimising a loss term. This is the realm of Gaussian process regression. \n",
    "\n",
    "Finally we should consider how to handle noisy data - i.e. when we can't get perfect samples of the hidden function $f$. In this case we need to factor this uncertainty into the model to get better generalisation.\n",
    "\n",
    "These two topics will be the focus of _Introduction to Gaussian Processes - Part II_."
   ]
  },
  {
   "cell_type": "markdown",
   "metadata": {},
   "source": [
    "## Resources\n",
    "***\n",
    "- _Machine Learning - A Probabilistic Perspective_, Chapter 15 by Kevin P. Murphy\n",
    "- [Introduction to Gaussian processes](https://www.youtube.com/watch?v=4vGiHC35j9s) on YouTube by Nando de Freitas"
   ]
  }
 ],
 "metadata": {
  "kernelspec": {
   "display_name": "Python [conda env:jupyter-py36]",
   "language": "python",
   "name": "conda-env-jupyter-py36-py"
  },
  "language_info": {
   "codemirror_mode": {
    "name": "ipython",
    "version": 3
   },
   "file_extension": ".py",
   "mimetype": "text/x-python",
   "name": "python",
   "nbconvert_exporter": "python",
   "pygments_lexer": "ipython3",
   "version": "3.6.3"
  }
 },
 "nbformat": 4,
 "nbformat_minor": 2
}
